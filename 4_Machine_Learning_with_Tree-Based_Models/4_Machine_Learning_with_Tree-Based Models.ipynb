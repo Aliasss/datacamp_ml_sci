{
 "cells": [
  {
   "cell_type": "markdown",
   "id": "219fd9c8-5b40-4300-8c22-72984f03f283",
   "metadata": {},
   "source": [
    "# 04. Machine Learning with Tree-Based Models in Python"
   ]
  },
  {
   "cell_type": "markdown",
   "id": "69b9fdd9-7818-43b5-8647-ab3537a72279",
   "metadata": {},
   "source": [
    "## 1. Classification and Regression Trees"
   ]
  },
  {
   "cell_type": "markdown",
   "id": "fcebd7c6-91ff-460a-9eca-32c3c9a6ffcd",
   "metadata": {},
   "source": [
    "### Decision tree for classification"
   ]
  },
  {
   "cell_type": "markdown",
   "id": "900ab625-dcb8-4418-bab5-965229dc02c4",
   "metadata": {},
   "source": [
    "#### Train your first classification tree"
   ]
  },
  {
   "cell_type": "code",
   "execution_count": null,
   "id": "37bbc217-80a3-4cc8-92fb-69b6206702b8",
   "metadata": {},
   "outputs": [],
   "source": [
    "# Import DecisionTreeClassifier from sklearn.tree\n",
    "from sklearn.tree import DecisionTreeClassifier\n",
    "\n",
    "# Instantiate a DecisionTreeClassifier 'dt' with a maximum depth of 6\n",
    "dt = DecisionTreeClassifier(max_depth=6, random_state=SEED)\n",
    "\n",
    "# Fit dt to the training set\n",
    "dt.fit(X_train, y_train)\n",
    "\n",
    "# Predict test set labels\n",
    "y_pred = dt.predict(X_test)\n",
    "print(y_pred[0:5])"
   ]
  },
  {
   "cell_type": "markdown",
   "id": "9e3f72d6-ecd2-4bfc-ad71-e84b05e005d9",
   "metadata": {},
   "source": [
    "#### Evaluate the classification tree"
   ]
  },
  {
   "cell_type": "code",
   "execution_count": null,
   "id": "44d9097c-253a-44b2-9694-39b2404e6fd2",
   "metadata": {},
   "outputs": [],
   "source": [
    "# Import accuracy_score\n",
    "from sklearn.metrics import accuracy_score\n",
    "\n",
    "# Predict test set labels\n",
    "y_pred = dt.predict(X_test)\n",
    "\n",
    "# Compute test set accuracy  \n",
    "acc = accuracy_score(y_test, y_pred)\n",
    "print(\"Test set accuracy: {:.2f}\".format(acc))"
   ]
  },
  {
   "cell_type": "markdown",
   "id": "88109796-3780-4e5a-a296-1060d16948d6",
   "metadata": {},
   "source": [
    "#### Logistic regression vs classification tree\n"
   ]
  },
  {
   "cell_type": "code",
   "execution_count": null,
   "id": "b96b20a1-24ec-4fb5-84eb-776a2d856c2e",
   "metadata": {},
   "outputs": [],
   "source": [
    "# Import LogisticRegression from sklearn.linear_model\n",
    "from sklearn.linear_model import  LogisticRegression\n",
    "\n",
    "# Instatiate logreg\n",
    "logreg = LogisticRegression(random_state=1)\n",
    "\n",
    "# Fit logreg to the training set\n",
    "logreg.fit(X_train, y_train)\n",
    "\n",
    "# Define a list called clfs containing the two classifiers logreg and dt\n",
    "clfs = [logreg, dt]\n",
    "\n",
    "# Review the decision regions of the two classifiers\n",
    "plot_labeled_decision_regions(X_test, y_test, clfs)"
   ]
  },
  {
   "cell_type": "markdown",
   "id": "c5bad4f2-1aad-4871-a587-40d9e94a6379",
   "metadata": {},
   "source": [
    "![img](./Logistic_regression_vs_classification_tree.svg)"
   ]
  },
  {
   "cell_type": "markdown",
   "id": "a38a73ea-a909-4d32-ae60-130eae65a813",
   "metadata": {},
   "source": [
    "### Classification tree Learning\n"
   ]
  },
  {
   "cell_type": "markdown",
   "id": "f6b26714-295f-47af-adc2-fcb53d96d92d",
   "metadata": {},
   "source": [
    "#### Growing a classification tree\n"
   ]
  },
  {
   "cell_type": "markdown",
   "id": "1e85e31c-faa3-40cb-9d84-4757c338db23",
   "metadata": {},
   "source": [
    "In the video, you saw that the growth of an unconstrained classification tree followed a few simple rules. Which of the following is not one of these rules?"
   ]
  },
  {
   "cell_type": "markdown",
   "id": "89fbe3d9-e318-4281-b10f-eea4a21ae7fc",
   "metadata": {},
   "source": [
    "1. The existence of a node depends on the state of its predecessors. (True)  \n",
    "2. The impurity of a node can be determined using different criteria such as entropy and the gini-index.(True)\n",
    "3. When the information gain resulting from splitting a node is null, the node is declared as a leaf. (True) \n",
    "4. When an internal node is split, the split is performed in such a way so that information gain is minimized. (False)\n"
   ]
  },
  {
   "cell_type": "markdown",
   "id": "ff46672f-635e-4d94-a51f-0c6b5d15ffd2",
   "metadata": {},
   "source": [
    "* Actually, splitting an internal node always involves maximizing information gain!"
   ]
  },
  {
   "cell_type": "markdown",
   "id": "be7587b6-7bae-47a6-8284-130af83a01a6",
   "metadata": {},
   "source": [
    "#### Using entropy as a criterion\n"
   ]
  },
  {
   "cell_type": "code",
   "execution_count": null,
   "id": "1b0d7213-a961-424e-b10c-02884ea9e140",
   "metadata": {},
   "outputs": [],
   "source": [
    "# Import DecisionTreeClassifier from sklearn.tree\n",
    "from sklearn.tree import DecisionTreeClassifier\n",
    "\n",
    "# Instantiate dt_entropy, set 'entropy' as the information criterion\n",
    "dt_entropy = DecisionTreeClassifier(max_depth=8, criterion='entropy', random_state=1)\n",
    "\n",
    "# Fit dt_entropy to the training set\n",
    "dt_entropy.fit(X_train, y_train)"
   ]
  },
  {
   "cell_type": "markdown",
   "id": "6dcf3b4c-d931-4ecf-851d-ecd610b34e36",
   "metadata": {},
   "source": [
    "#### Entropy vs Gini index\n"
   ]
  },
  {
   "cell_type": "code",
   "execution_count": null,
   "id": "3861246f-76d1-43c9-8bac-2521831664bf",
   "metadata": {},
   "outputs": [],
   "source": [
    "# Import accuracy_score from sklearn.metrics\n",
    "from sklearn.metrics import accuracy_score\n",
    "\n",
    "# Use dt_entropy to predict test set labels\n",
    "y_pred= dt_entropy.predict(X_test)\n",
    "\n",
    "# Evaluate accuracy_entropy\n",
    "accuracy_entropy = accuracy_score(y_test, y_pred)\n",
    "\n",
    "# Print accuracy_entropy\n",
    "print(f'Accuracy achieved by using entropy: {accuracy_entropy:.3f}')\n",
    "\n",
    "# Print accuracy_gini\n",
    "print(f'Accuracy achieved by using the gini index: {accuracy_gini:.3f}')"
   ]
  },
  {
   "cell_type": "markdown",
   "id": "0de48e43-2dec-449d-a0ee-55e0d3ec9e25",
   "metadata": {},
   "source": [
    "### Decision tree for regression\n"
   ]
  },
  {
   "cell_type": "markdown",
   "id": "93292b4e-eae2-40ee-8e9d-3a9027a0a505",
   "metadata": {},
   "source": [
    "#### Train your first regression tree\n"
   ]
  },
  {
   "cell_type": "code",
   "execution_count": null,
   "id": "63845010-a660-4d9e-8a88-9356cf237b97",
   "metadata": {},
   "outputs": [],
   "source": [
    "# Import DecisionTreeRegressor from sklearn.tree\n",
    "from sklearn.tree import DecisionTreeRegressor\n",
    "\n",
    "# Instantiate dt\n",
    "dt = DecisionTreeRegressor(max_depth=8,\n",
    "                            min_samples_leaf=0.13,\n",
    "                            random_state=3)\n",
    "\n",
    "# Fit dt to the training set\n",
    "dt.fit(X_train, y_train)"
   ]
  },
  {
   "cell_type": "markdown",
   "id": "f4408837-007e-4066-8753-1e7c104833ff",
   "metadata": {},
   "source": [
    "#### Evaluate the regression tree\n"
   ]
  },
  {
   "cell_type": "code",
   "execution_count": null,
   "id": "4400d25e-5f5b-4781-8087-163951b45045",
   "metadata": {},
   "outputs": [],
   "source": [
    "# Import mean_squared_error from sklearn.metrics as MSE\n",
    "from sklearn.metrics import mean_squared_error as MSE\n",
    "\n",
    "# Compute y_pred\n",
    "y_pred = dt.predict(X_test)\n",
    "\n",
    "# Compute mse_dt\n",
    "mse_dt = MSE(y_test, y_pred)\n",
    "\n",
    "# Compute rmse_dt\n",
    "rmse_dt = mse_dt ** (1/2)\n",
    "\n",
    "# Print rmse_dt\n",
    "print(\"Test set RMSE of dt: {:.2f}\".format(rmse_dt))"
   ]
  },
  {
   "cell_type": "markdown",
   "id": "9be5b645-d92b-4bcf-990a-902c4f25fdb7",
   "metadata": {},
   "source": [
    "#### Linear regression vs regression tree\n"
   ]
  },
  {
   "cell_type": "code",
   "execution_count": null,
   "id": "62556167-ce37-48d7-a4a0-bbec928e139f",
   "metadata": {},
   "outputs": [],
   "source": [
    "# Predict test set labels \n",
    "y_pred_lr = lr.predict(X_test)\n",
    "\n",
    "# Compute mse_lr\n",
    "mse_lr = MSE(y_test, y_pred_lr)\n",
    "\n",
    "# Compute rmse_lr\n",
    "rmse_lr = mse_lr ** (1/2)\n",
    "\n",
    "# Print rmse_lr\n",
    "print('Linear Regression test set RMSE: {:.2f}'.format(rmse_lr))\n",
    "\n",
    "# Print rmse_dt\n",
    "print('Regression Tree test set RMSE: {:.2f}'.format(rmse_dt))"
   ]
  },
  {
   "cell_type": "markdown",
   "id": "bb8e2371-6e16-4b73-85d2-ee6795d0487f",
   "metadata": {
    "jp-MarkdownHeadingCollapsed": true,
    "tags": []
   },
   "source": [
    "## 2. The Bias-Variance Tradeoff\n"
   ]
  },
  {
   "cell_type": "markdown",
   "id": "465d68e2-a44b-476e-b57d-5a916e0dc96d",
   "metadata": {},
   "source": [
    "### Generalization Error\n"
   ]
  },
  {
   "cell_type": "markdown",
   "id": "6dfcb1f9-1be1-4b47-9744-095ae419e81d",
   "metadata": {},
   "source": [
    "#### Complexity, bias and variance\n"
   ]
  },
  {
   "cell_type": "code",
   "execution_count": null,
   "id": "0d882bee-b9c4-4e4d-b48a-a3bf76d2325b",
   "metadata": {},
   "outputs": [],
   "source": []
  },
  {
   "cell_type": "markdown",
   "id": "309e1628-10c2-4286-b8e8-78a046d8996d",
   "metadata": {},
   "source": [
    "#### Overfitting and underfitting\n"
   ]
  },
  {
   "cell_type": "code",
   "execution_count": null,
   "id": "83a6eda3-62dc-4101-9a1d-7c9c2635c708",
   "metadata": {},
   "outputs": [],
   "source": []
  },
  {
   "cell_type": "markdown",
   "id": "da7b267d-8428-4b84-9435-19b42d58a5aa",
   "metadata": {},
   "source": [
    "### Diagnose bias and variance problems\n"
   ]
  },
  {
   "cell_type": "markdown",
   "id": "a7910af8-3807-46a0-87ae-043e3fa7f21e",
   "metadata": {},
   "source": [
    "#### Instantiate the model\n"
   ]
  },
  {
   "cell_type": "code",
   "execution_count": null,
   "id": "f4212e29-8698-479d-ba92-f06ea4ac589e",
   "metadata": {},
   "outputs": [],
   "source": []
  },
  {
   "cell_type": "markdown",
   "id": "e2689a90-a041-4ae4-9925-821fc486e9f0",
   "metadata": {},
   "source": [
    "#### Evaluate the 10-fold CV error\n"
   ]
  },
  {
   "cell_type": "code",
   "execution_count": null,
   "id": "4f228ed0-c0ab-4413-9d2b-04427d28e702",
   "metadata": {},
   "outputs": [],
   "source": []
  },
  {
   "cell_type": "markdown",
   "id": "ee3bc104-ac10-4dc0-a85a-da7d2427b009",
   "metadata": {},
   "source": [
    "#### Evaluate the training error\n"
   ]
  },
  {
   "cell_type": "code",
   "execution_count": null,
   "id": "8400890c-ed8a-4983-92f8-940acb5f15a2",
   "metadata": {},
   "outputs": [],
   "source": []
  },
  {
   "cell_type": "markdown",
   "id": "89c6cc9d-2313-4979-beaa-ffa6ab854729",
   "metadata": {},
   "source": [
    "#### High bias or high variance?\n"
   ]
  },
  {
   "cell_type": "code",
   "execution_count": null,
   "id": "9b2b9ec4-6d26-4a50-9067-1299735e1b1d",
   "metadata": {},
   "outputs": [],
   "source": []
  },
  {
   "cell_type": "markdown",
   "id": "b9b25a50-50a2-4239-8935-1aef5ff6d0cb",
   "metadata": {},
   "source": [
    "### Ensemble Learning\n"
   ]
  },
  {
   "cell_type": "markdown",
   "id": "0f31e497-ff58-447e-8885-03baab6c192a",
   "metadata": {},
   "source": [
    "#### Define the ensemble\n"
   ]
  },
  {
   "cell_type": "code",
   "execution_count": null,
   "id": "c68018fd-7235-4eb8-a678-3484f8761c61",
   "metadata": {},
   "outputs": [],
   "source": []
  },
  {
   "cell_type": "markdown",
   "id": "69d12a20-9ca6-4740-a7e5-cfc8552a97fe",
   "metadata": {},
   "source": [
    "#### Evaluate individual classifiers\n"
   ]
  },
  {
   "cell_type": "code",
   "execution_count": null,
   "id": "4bbf398d-b79f-41ab-b747-5a823958b990",
   "metadata": {},
   "outputs": [],
   "source": []
  },
  {
   "cell_type": "markdown",
   "id": "5a55bbd5-4a5c-434f-8800-a3dc75eace16",
   "metadata": {},
   "source": [
    "#### Better performance with a Voting Classifier\n"
   ]
  },
  {
   "cell_type": "code",
   "execution_count": null,
   "id": "b23ce43d-db59-4f25-be18-10bb2c755d6e",
   "metadata": {},
   "outputs": [],
   "source": []
  },
  {
   "cell_type": "markdown",
   "id": "ab3b3813-04ea-43e3-86a2-afc968cfd71e",
   "metadata": {
    "tags": []
   },
   "source": [
    "## 3. Bagging and Random Forests\n"
   ]
  },
  {
   "cell_type": "markdown",
   "id": "6a216240-980b-4a2c-9b80-fa38cd17e240",
   "metadata": {},
   "source": [
    "### Bagging\n"
   ]
  },
  {
   "cell_type": "markdown",
   "id": "d88a2724-c15b-4b72-9bc0-a7e4fc082055",
   "metadata": {},
   "source": [
    "* Bootstrap Aggregation"
   ]
  },
  {
   "cell_type": "markdown",
   "id": "7665ab1c-74b3-4f0a-9ca2-03f352c2e9c1",
   "metadata": {},
   "source": [
    "#### Define the bagging classifier\n"
   ]
  },
  {
   "cell_type": "code",
   "execution_count": null,
   "id": "e435f261-4a76-42d9-9631-e3e931a3db5d",
   "metadata": {},
   "outputs": [],
   "source": []
  },
  {
   "cell_type": "markdown",
   "id": "d3d981c4-8a02-4d42-932d-8be70e4f1c08",
   "metadata": {},
   "source": [
    "#### Evaluate Bagging performance\n"
   ]
  },
  {
   "cell_type": "code",
   "execution_count": null,
   "id": "e8b987ef-12a5-4be3-98c5-800535c0b55b",
   "metadata": {},
   "outputs": [],
   "source": []
  },
  {
   "cell_type": "markdown",
   "id": "0b987151-0132-40c0-a830-2544de3bf817",
   "metadata": {},
   "source": [
    "### Out of Bag Evaluation\n"
   ]
  },
  {
   "cell_type": "markdown",
   "id": "a8acb440-f6a6-42be-8040-2c890994219a",
   "metadata": {},
   "source": [
    "#### Prepare the ground\n"
   ]
  },
  {
   "cell_type": "code",
   "execution_count": null,
   "id": "e9aee472-7a67-4ad6-b4cd-41e376cfbf26",
   "metadata": {},
   "outputs": [],
   "source": []
  },
  {
   "cell_type": "markdown",
   "id": "44faf53c-43bd-4d66-8402-e8e53f674583",
   "metadata": {},
   "source": [
    "#### OOB Score vs Test Set Score\n"
   ]
  },
  {
   "cell_type": "code",
   "execution_count": null,
   "id": "06399acd-2bbd-4049-896b-a7e06d947fac",
   "metadata": {},
   "outputs": [],
   "source": []
  },
  {
   "cell_type": "markdown",
   "id": "336ef3ff-8de9-4cab-8f43-634ee2fc02f2",
   "metadata": {},
   "source": [
    "### Random Forests (RF)\n"
   ]
  },
  {
   "cell_type": "markdown",
   "id": "b4ccf877-cc8d-4b77-917e-13d098434136",
   "metadata": {},
   "source": [
    "#### Train an RF regressor\n"
   ]
  },
  {
   "cell_type": "code",
   "execution_count": null,
   "id": "1da016de-2cd5-4a33-a28b-98abf6e9c366",
   "metadata": {},
   "outputs": [],
   "source": []
  },
  {
   "cell_type": "markdown",
   "id": "17a6ba6a-d4ec-42e2-a0a1-0ccb5827daf2",
   "metadata": {},
   "source": [
    "#### Evaluate the RF regressor\n"
   ]
  },
  {
   "cell_type": "code",
   "execution_count": null,
   "id": "cba2ceca-d92d-408a-96ed-88045d93c098",
   "metadata": {},
   "outputs": [],
   "source": []
  },
  {
   "cell_type": "markdown",
   "id": "33e6042f-5a53-49d1-9d84-d49daa6e313d",
   "metadata": {},
   "source": [
    "#### Visualizing features importances\n"
   ]
  },
  {
   "cell_type": "code",
   "execution_count": null,
   "id": "e99155db-e9f8-4117-9f33-1bc6cc10b816",
   "metadata": {},
   "outputs": [],
   "source": []
  },
  {
   "cell_type": "markdown",
   "id": "3fd0ee00-e2da-4ce9-bdf9-abbf56c0e09b",
   "metadata": {
    "jp-MarkdownHeadingCollapsed": true,
    "tags": []
   },
   "source": [
    "## 4. Boosting\n"
   ]
  },
  {
   "cell_type": "markdown",
   "id": "87e6fd54-9a86-435c-98e8-0293fc60b306",
   "metadata": {},
   "source": [
    "### Adaboost\n"
   ]
  },
  {
   "cell_type": "markdown",
   "id": "d44c1956-b98e-471c-a708-cb44c1031558",
   "metadata": {},
   "source": [
    "#### Define the AdaBoost classifier\n"
   ]
  },
  {
   "cell_type": "code",
   "execution_count": null,
   "id": "901eee3b-a7a9-4de0-ac50-3ede705c8dd2",
   "metadata": {},
   "outputs": [],
   "source": []
  },
  {
   "cell_type": "markdown",
   "id": "402f207c-1fb5-4804-8421-1552ffb665a6",
   "metadata": {},
   "source": [
    "#### Train the AdaBoost classifier\n"
   ]
  },
  {
   "cell_type": "code",
   "execution_count": null,
   "id": "06a44489-03bb-4bb7-b790-1e8add0d0b8f",
   "metadata": {},
   "outputs": [],
   "source": []
  },
  {
   "cell_type": "markdown",
   "id": "7673bcd8-1b00-43d9-8669-5fa6a2cccf86",
   "metadata": {},
   "source": [
    "#### Evaluate the AdaBoost classifier\n"
   ]
  },
  {
   "cell_type": "code",
   "execution_count": null,
   "id": "e8594c19-d5b6-4ace-8554-1bf3885d5d07",
   "metadata": {},
   "outputs": [],
   "source": []
  },
  {
   "cell_type": "markdown",
   "id": "00d0a51d-73ca-4b60-9b58-62fa81d6149b",
   "metadata": {},
   "source": [
    "### Gradient Boosting (GB)\n"
   ]
  },
  {
   "cell_type": "markdown",
   "id": "7f0d053d-0a80-4b2d-b201-1b66e241d64d",
   "metadata": {},
   "source": [
    "#### Define the GB regressor\n"
   ]
  },
  {
   "cell_type": "code",
   "execution_count": null,
   "id": "03633402-86a3-4caa-bc0f-6bced98cfbd3",
   "metadata": {},
   "outputs": [],
   "source": []
  },
  {
   "cell_type": "markdown",
   "id": "5ba5c7da-d5a1-414f-aabb-8ce9d52c4f85",
   "metadata": {},
   "source": [
    "#### Train the GB regressor\n"
   ]
  },
  {
   "cell_type": "code",
   "execution_count": null,
   "id": "e92e0efc-7fb2-476f-8ea6-8d21c4c4400f",
   "metadata": {},
   "outputs": [],
   "source": []
  },
  {
   "cell_type": "markdown",
   "id": "4e36d681-988e-426f-b2ee-423273bfc66e",
   "metadata": {},
   "source": [
    "#### Evaluate the GB regressor\n"
   ]
  },
  {
   "cell_type": "code",
   "execution_count": null,
   "id": "0e2c2b31-66a0-4032-9f3f-c9f312047e03",
   "metadata": {},
   "outputs": [],
   "source": []
  },
  {
   "cell_type": "markdown",
   "id": "aa189b55-3e45-4c32-8d59-ea4f80bbb53c",
   "metadata": {},
   "source": [
    "### Stochastic Gradient Boosting (SGB)\n"
   ]
  },
  {
   "cell_type": "markdown",
   "id": "d1b9950f-78ed-4d22-b863-df66a29ec2bd",
   "metadata": {},
   "source": [
    "#### Regression with SGB\n"
   ]
  },
  {
   "cell_type": "code",
   "execution_count": null,
   "id": "09f695b7-056f-4edb-92ca-325e573bf0e0",
   "metadata": {},
   "outputs": [],
   "source": []
  },
  {
   "cell_type": "markdown",
   "id": "d952a5a3-5c5a-4e91-b375-12ed65f1beea",
   "metadata": {},
   "source": [
    "#### Train the SGB regressor\n"
   ]
  },
  {
   "cell_type": "code",
   "execution_count": null,
   "id": "85ec7363-99a3-4f10-8ec5-65ae78e498f1",
   "metadata": {},
   "outputs": [],
   "source": []
  },
  {
   "cell_type": "markdown",
   "id": "538a40fc-e182-4ac0-989d-f6950925026d",
   "metadata": {},
   "source": [
    "#### Evaluate the SGB regressor\n"
   ]
  },
  {
   "cell_type": "code",
   "execution_count": null,
   "id": "45d7c780-0c70-4a65-98fe-a9c1d6e0b2c9",
   "metadata": {},
   "outputs": [],
   "source": []
  },
  {
   "cell_type": "markdown",
   "id": "d0754121-044f-494d-a7c8-89f5b64a8b13",
   "metadata": {
    "jp-MarkdownHeadingCollapsed": true,
    "tags": []
   },
   "source": [
    "## 5. Model Tuning\n"
   ]
  },
  {
   "cell_type": "markdown",
   "id": "7b3dabc4-02b4-4df6-a736-dad81882f632",
   "metadata": {},
   "source": [
    "### Tuning a CART's Hyperparameters\n"
   ]
  },
  {
   "cell_type": "markdown",
   "id": "8c9a7cf1-184d-46a7-a524-3e0bed227e9f",
   "metadata": {},
   "source": [
    "#### Tree hyperparameters\n"
   ]
  },
  {
   "cell_type": "code",
   "execution_count": null,
   "id": "545592c4-602a-425a-9ffa-dac019de5403",
   "metadata": {},
   "outputs": [],
   "source": []
  },
  {
   "cell_type": "markdown",
   "id": "7a165c85-2989-4fe0-98ea-98fd043465eb",
   "metadata": {},
   "source": [
    "#### Set the tree's hyperparameter grid\n"
   ]
  },
  {
   "cell_type": "code",
   "execution_count": null,
   "id": "800408a5-53e8-4126-bec4-c854bb899332",
   "metadata": {},
   "outputs": [],
   "source": []
  },
  {
   "cell_type": "markdown",
   "id": "06f5832e-ca2d-4b0d-8dd7-09dac8ba4027",
   "metadata": {},
   "source": [
    "#### Search for the optimal tree\n"
   ]
  },
  {
   "cell_type": "code",
   "execution_count": null,
   "id": "2dbdc4ef-ac43-4adf-807c-35da77892bf1",
   "metadata": {},
   "outputs": [],
   "source": []
  },
  {
   "cell_type": "markdown",
   "id": "0e2f3e7c-617f-4975-98ef-c4214963f740",
   "metadata": {},
   "source": [
    "#### Evaluate the optimal tree\n"
   ]
  },
  {
   "cell_type": "code",
   "execution_count": null,
   "id": "0e1ab155-e351-4c19-9c7f-fa9b2be83556",
   "metadata": {},
   "outputs": [],
   "source": []
  },
  {
   "cell_type": "markdown",
   "id": "331b8903-a109-4b73-912f-e27ab703bec7",
   "metadata": {},
   "source": [
    "### Tuning a RF's Hyperparameters\n"
   ]
  },
  {
   "cell_type": "markdown",
   "id": "fe4ee7df-f746-4ed6-b866-3f76e0995984",
   "metadata": {},
   "source": [
    "#### Random forests hyperparameters\n"
   ]
  },
  {
   "cell_type": "code",
   "execution_count": null,
   "id": "0054d732-6f23-4fdf-9a70-f139cd9bfafd",
   "metadata": {},
   "outputs": [],
   "source": []
  },
  {
   "cell_type": "markdown",
   "id": "96736815-87be-4d91-ae79-952a7c972818",
   "metadata": {},
   "source": [
    "#### Set the hyperparameter grid of RF\n"
   ]
  },
  {
   "cell_type": "code",
   "execution_count": null,
   "id": "925e6f53-88d2-47f6-8d41-368f13f85943",
   "metadata": {},
   "outputs": [],
   "source": []
  },
  {
   "cell_type": "markdown",
   "id": "b10b8d8e-b21d-40f0-8510-c88a4f8a44d4",
   "metadata": {},
   "source": [
    "#### Search for the optimal forest\n"
   ]
  },
  {
   "cell_type": "code",
   "execution_count": null,
   "id": "a31fdb61-69bb-4850-8fb7-e4ffe2871d57",
   "metadata": {},
   "outputs": [],
   "source": []
  },
  {
   "cell_type": "markdown",
   "id": "2b5a6df4-f8c5-4329-96c1-a50f8e5907b1",
   "metadata": {},
   "source": [
    "#### Evaluate the optimal forest\n"
   ]
  },
  {
   "cell_type": "code",
   "execution_count": null,
   "id": "21efdbae-6530-4d3c-ace6-298d09adf6b0",
   "metadata": {},
   "outputs": [],
   "source": []
  }
 ],
 "metadata": {
  "kernelspec": {
   "display_name": "Python 3 (ipykernel)",
   "language": "python",
   "name": "python3"
  },
  "language_info": {
   "codemirror_mode": {
    "name": "ipython",
    "version": 3
   },
   "file_extension": ".py",
   "mimetype": "text/x-python",
   "name": "python",
   "nbconvert_exporter": "python",
   "pygments_lexer": "ipython3",
   "version": "3.9.6"
  }
 },
 "nbformat": 4,
 "nbformat_minor": 5
}
