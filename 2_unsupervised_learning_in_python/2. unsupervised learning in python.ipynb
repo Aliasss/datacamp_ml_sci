{
 "cells": [
  {
   "cell_type": "code",
   "execution_count": 48,
   "id": "e2ed13a0-0adc-4abc-b67f-1c1aeef49834",
   "metadata": {},
   "outputs": [],
   "source": [
    "import pandas as pd\n",
    "import numpy as np\n",
    "import matplotlib.pyplot as plt\n",
    "import seaborn as sns\n",
    "pd.set_option('display.max_columns', None)\n",
    "\n",
    "from IPython.display import set_matplotlib_formats\n",
    "set_matplotlib_formats('retina')\n",
    "\n",
    "import sklearn\n",
    "sklearn.__version__\n",
    "\n",
    "import warnings; warnings.filterwarnings('ignore')"
   ]
  },
  {
   "cell_type": "markdown",
   "id": "035f74f6-694f-4848-9720-0bab8e25e4c0",
   "metadata": {},
   "source": [
    "# datacamp practice code"
   ]
  },
  {
   "cell_type": "markdown",
   "id": "4b7b77c9-f184-41aa-8bfc-99e1037bd02b",
   "metadata": {
    "tags": []
   },
   "source": [
    "## 1. Clustering for dataset exploration"
   ]
  },
  {
   "cell_type": "markdown",
   "id": "7a85984e-4bc1-4e6b-915e-dc1119bac525",
   "metadata": {
    "tags": []
   },
   "source": [
    "### Unsupervised Learning"
   ]
  },
  {
   "cell_type": "markdown",
   "id": "075d6ee1-f9a2-4c58-8215-b9b84f1bda8d",
   "metadata": {
    "tags": []
   },
   "source": [
    "#### Clustering 2D points"
   ]
  },
  {
   "cell_type": "code",
   "execution_count": null,
   "id": "bebcbe7f-9dba-4e01-b6f8-032e56405e97",
   "metadata": {},
   "outputs": [],
   "source": [
    "xs = points[:, 0]\n",
    "ys = points[:, 1]\n",
    "plt.scatter(xs, ys)\n",
    "plt.show()\n",
    "\n",
    "# Import KMeans\n",
    "# from sklearn.datasets import load_iris\n",
    "from sklearn.cluster import KMeans\n",
    "\n",
    "# Create a KMeans instance with 3 clusters: model\n",
    "model = KMeans(n_clusters=3)\n",
    "\n",
    "# Fit model to points\n",
    "model.fit(points)\n",
    "\n",
    "# Determine the cluster labels of new_points: labels\n",
    "labels = model.predict(new_points)\n",
    "\n",
    "# Print cluster labels of new_points\n",
    "print(labels)"
   ]
  },
  {
   "cell_type": "markdown",
   "id": "ba60ec73-e0dd-461a-b73f-c9591cc869f1",
   "metadata": {},
   "source": [
    "#### Inspect your clustering"
   ]
  },
  {
   "cell_type": "code",
   "execution_count": null,
   "id": "b0504821-52ae-4ee7-b232-9346793f84c1",
   "metadata": {},
   "outputs": [],
   "source": [
    "# Import pyplot\n",
    "import matplotlib.pyplot as plt\n",
    "\n",
    "# Assign the columns of new_points: xs and ys\n",
    "xs = new_points[:, 0]\n",
    "ys = new_points[:, 1]\n",
    "\n",
    "# Make a scatter plot of xs and ys, using labels to define the colors\n",
    "plt.scatter(xs, ys, c=labels, alpha=0.5)\n",
    "\n",
    "# Assign the cluster centers: centroids\n",
    "centroids = model.cluster_centers_\n",
    "\n",
    "# Assign the columns of centroids: centroids_x, centroids_y\n",
    "centroids_x = centroids[:,0]\n",
    "centroids_y = centroids[:,1]\n",
    "\n",
    "# Make a scatter plot of centroids_x and centroids_y\n",
    "plt.scatter(centroids_x, centroids_y, marker='D', s=50)\n",
    "plt.show()"
   ]
  },
  {
   "cell_type": "markdown",
   "id": "b2df9b38-d41b-483b-8bd7-253159f13f18",
   "metadata": {
    "tags": []
   },
   "source": [
    "### Evaluating a clustering"
   ]
  },
  {
   "cell_type": "markdown",
   "id": "54614c6d-d14a-43a3-a6e4-c3ef4987b184",
   "metadata": {
    "tags": []
   },
   "source": [
    "#### How many clusters of grain?"
   ]
  },
  {
   "cell_type": "code",
   "execution_count": null,
   "id": "17d7ce68-b3f3-4b26-a0df-2e313846203b",
   "metadata": {},
   "outputs": [],
   "source": [
    "ks = range(1, 6)\n",
    "inertias = []\n",
    "\n",
    "for k in ks:\n",
    "    # Create a KMeans instance with k clusters: model\n",
    "    model = KMeans(n_clusters=k)\n",
    "    \n",
    "    # Fit model to samples\n",
    "    model.fit(samples)\n",
    "    \n",
    "    # Append the inertia to the list of inertias\n",
    "    inertias.append(model.inertia_)\n",
    "    \n",
    "# Plot ks vs inertias\n",
    "plt.plot(ks, inertias, '-o')\n",
    "plt.xlabel('number of clusters, k')\n",
    "plt.ylabel('inertia')\n",
    "plt.xticks(ks)\n",
    "plt.show()"
   ]
  },
  {
   "cell_type": "markdown",
   "id": "4c9c0529-9690-43cb-9bb5-1d61613f1807",
   "metadata": {},
   "source": [
    "#### Evaluating the grain clustering"
   ]
  },
  {
   "cell_type": "code",
   "execution_count": null,
   "id": "1a48f319-4697-4e7b-bf36-6cbd10a23487",
   "metadata": {},
   "outputs": [],
   "source": [
    "# Create a KMeans model with 3 clusters: model\n",
    "model = KMeans(n_clusters=3)\n",
    "\n",
    "# Use fit_predict to fit model and obtain cluster labels: labels\n",
    "labels = model.fit_predict(samples)\n",
    "\n",
    "# Create a DataFrame with labels and varieties as columns: df\n",
    "df = pd.DataFrame({'labels': labels, 'varieties': varieties})\n",
    "\n",
    "# Create crosstab: ct\n",
    "ct = pd.crosstab(df['labels'], df['varieties'])\n",
    "\n",
    "# Display ct\n",
    "print(ct)"
   ]
  },
  {
   "cell_type": "markdown",
   "id": "27dc03bd-2aca-43e7-89f1-6d4a414d3008",
   "metadata": {
    "tags": []
   },
   "source": [
    "### Transforming features for better clusterings"
   ]
  },
  {
   "cell_type": "markdown",
   "id": "83fe46a5-9c79-4928-9add-52b61eb3ac92",
   "metadata": {},
   "source": [
    "#### Scaling fish data for clustering"
   ]
  },
  {
   "cell_type": "code",
   "execution_count": 21,
   "id": "c286dfd6-2ef0-4888-be59-6d1495b7a44a",
   "metadata": {},
   "outputs": [],
   "source": [
    "# Perform the necessary imports\n",
    "from sklearn.pipeline import make_pipeline\n",
    "from sklearn.preprocessing import StandardScaler\n",
    "from sklearn.cluster import KMeans\n",
    "\n",
    "# Create scaler: scaler\n",
    "scaler = StandardScaler()\n",
    "\n",
    "# Create KMeans instance: kmeans\n",
    "kmeans = KMeans(n_clusters=4)\n",
    "\n",
    "# Create pipeline: pipeline\n",
    "pipeline = make_pipeline(scaler, kmeans)"
   ]
  },
  {
   "cell_type": "markdown",
   "id": "404e4fc3-40b0-4558-ab7e-ac8ab292c917",
   "metadata": {},
   "source": [
    "#### Clustering the fish data"
   ]
  },
  {
   "cell_type": "code",
   "execution_count": null,
   "id": "30e10039-22e9-4a05-b4fc-89a96cb59d04",
   "metadata": {},
   "outputs": [],
   "source": [
    "# Import pandas\n",
    "import pandas as pd\n",
    "\n",
    "# Fit the pipeline to samples\n",
    "pipeline.fit(samples)\n",
    "\n",
    "# Calculate the cluster labels: labels\n",
    "labels = pipeline.predict(samples)\n",
    "\n",
    "# Create a DataFrame with labels and species as columns: df\n",
    "df = pd.DataFrame({'labels':labels, 'species':species})\n",
    "\n",
    "# Create crosstab: ct\n",
    "ct = pd.crosstab(df['labels'], df['species'])\n",
    "\n",
    "# Display ct\n",
    "print(ct)"
   ]
  },
  {
   "cell_type": "markdown",
   "id": "b90c109f-52bc-4119-b757-378ca0e63d82",
   "metadata": {},
   "source": [
    "#### Clustering stocks using KMeans"
   ]
  },
  {
   "cell_type": "code",
   "execution_count": null,
   "id": "5427720b-e3df-40cc-a939-291ed1cc870b",
   "metadata": {},
   "outputs": [],
   "source": [
    "# Import Normalizer\n",
    "from sklearn.preprocessing import Normalizer\n",
    "\n",
    "# Create a normalizer: normalizer\n",
    "normalizer = Normalizer()\n",
    "\n",
    "# Create a KMeans model with 10 clusters: kmeans\n",
    "kmeans = KMeans(n_clusters=10)\n",
    "\n",
    "# Make a pipeline chaining normalizer and kmeans: pipeline\n",
    "pipeline = make_pipeline(normalizer, kmeans)\n",
    "\n",
    "# Fit pipeline to the daily price movements\n",
    "pipeline.fit(movements)"
   ]
  },
  {
   "cell_type": "markdown",
   "id": "dc37f748-a31a-47db-8c2e-afbc01ac4827",
   "metadata": {},
   "source": [
    "#### Which stocks move together?"
   ]
  },
  {
   "cell_type": "code",
   "execution_count": null,
   "id": "fddbe39b-72fa-4fe1-a28f-b8bbc5befa36",
   "metadata": {},
   "outputs": [],
   "source": [
    "# Import pandas\n",
    "import pandas as pd\n",
    "\n",
    "# Predict the cluster labels: labels\n",
    "labels = pipeline.predict(movements)\n",
    "\n",
    "# Create a DataFrame aligning labels and companies: df\n",
    "df = pd.DataFrame({'labels': labels, 'companies': companies})\n",
    "\n",
    "# Display df sorted by cluster label\n",
    "print(df.sort_values(by='labels'))\n"
   ]
  },
  {
   "cell_type": "markdown",
   "id": "04ae3ba6-1201-40da-ba12-fafd3e4fe4c8",
   "metadata": {
    "tags": []
   },
   "source": [
    "### 실습1 (x)"
   ]
  },
  {
   "cell_type": "code",
   "execution_count": 19,
   "id": "56525997-fc59-4278-8e03-c11e5d6ff897",
   "metadata": {},
   "outputs": [
    {
     "name": "stdout",
     "output_type": "stream",
     "text": [
      "(178, 13)\n"
     ]
    },
    {
     "data": {
      "text/html": [
       "<div>\n",
       "<style scoped>\n",
       "    .dataframe tbody tr th:only-of-type {\n",
       "        vertical-align: middle;\n",
       "    }\n",
       "\n",
       "    .dataframe tbody tr th {\n",
       "        vertical-align: top;\n",
       "    }\n",
       "\n",
       "    .dataframe thead th {\n",
       "        text-align: right;\n",
       "    }\n",
       "</style>\n",
       "<table border=\"1\" class=\"dataframe\">\n",
       "  <thead>\n",
       "    <tr style=\"text-align: right;\">\n",
       "      <th></th>\n",
       "      <th>alcohol</th>\n",
       "      <th>malic_acid</th>\n",
       "      <th>ash</th>\n",
       "      <th>alcalinity</th>\n",
       "      <th>magnesium</th>\n",
       "      <th>total_phenols</th>\n",
       "      <th>flavanoids</th>\n",
       "      <th>nonflavanoid_phenols</th>\n",
       "      <th>proanthocyanins</th>\n",
       "      <th>color_intensity</th>\n",
       "      <th>hue</th>\n",
       "      <th>od280</th>\n",
       "      <th>proline</th>\n",
       "    </tr>\n",
       "  </thead>\n",
       "  <tbody>\n",
       "    <tr>\n",
       "      <th>0</th>\n",
       "      <td>14.23</td>\n",
       "      <td>1.71</td>\n",
       "      <td>2.43</td>\n",
       "      <td>15.6</td>\n",
       "      <td>127</td>\n",
       "      <td>2.80</td>\n",
       "      <td>3.06</td>\n",
       "      <td>0.28</td>\n",
       "      <td>2.29</td>\n",
       "      <td>5.64</td>\n",
       "      <td>1.04</td>\n",
       "      <td>3.92</td>\n",
       "      <td>1065</td>\n",
       "    </tr>\n",
       "    <tr>\n",
       "      <th>1</th>\n",
       "      <td>13.20</td>\n",
       "      <td>1.78</td>\n",
       "      <td>2.14</td>\n",
       "      <td>11.2</td>\n",
       "      <td>100</td>\n",
       "      <td>2.65</td>\n",
       "      <td>2.76</td>\n",
       "      <td>0.26</td>\n",
       "      <td>1.28</td>\n",
       "      <td>4.38</td>\n",
       "      <td>1.05</td>\n",
       "      <td>3.40</td>\n",
       "      <td>1050</td>\n",
       "    </tr>\n",
       "    <tr>\n",
       "      <th>2</th>\n",
       "      <td>13.16</td>\n",
       "      <td>2.36</td>\n",
       "      <td>2.67</td>\n",
       "      <td>18.6</td>\n",
       "      <td>101</td>\n",
       "      <td>2.80</td>\n",
       "      <td>3.24</td>\n",
       "      <td>0.30</td>\n",
       "      <td>2.81</td>\n",
       "      <td>5.68</td>\n",
       "      <td>1.03</td>\n",
       "      <td>3.17</td>\n",
       "      <td>1185</td>\n",
       "    </tr>\n",
       "    <tr>\n",
       "      <th>3</th>\n",
       "      <td>14.37</td>\n",
       "      <td>1.95</td>\n",
       "      <td>2.50</td>\n",
       "      <td>16.8</td>\n",
       "      <td>113</td>\n",
       "      <td>3.85</td>\n",
       "      <td>3.49</td>\n",
       "      <td>0.24</td>\n",
       "      <td>2.18</td>\n",
       "      <td>7.80</td>\n",
       "      <td>0.86</td>\n",
       "      <td>3.45</td>\n",
       "      <td>1480</td>\n",
       "    </tr>\n",
       "    <tr>\n",
       "      <th>4</th>\n",
       "      <td>13.24</td>\n",
       "      <td>2.59</td>\n",
       "      <td>2.87</td>\n",
       "      <td>21.0</td>\n",
       "      <td>118</td>\n",
       "      <td>2.80</td>\n",
       "      <td>2.69</td>\n",
       "      <td>0.39</td>\n",
       "      <td>1.82</td>\n",
       "      <td>4.32</td>\n",
       "      <td>1.04</td>\n",
       "      <td>2.93</td>\n",
       "      <td>735</td>\n",
       "    </tr>\n",
       "  </tbody>\n",
       "</table>\n",
       "</div>"
      ],
      "text/plain": [
       "   alcohol  malic_acid   ash  alcalinity  magnesium  total_phenols  \\\n",
       "0    14.23        1.71  2.43        15.6        127           2.80   \n",
       "1    13.20        1.78  2.14        11.2        100           2.65   \n",
       "2    13.16        2.36  2.67        18.6        101           2.80   \n",
       "3    14.37        1.95  2.50        16.8        113           3.85   \n",
       "4    13.24        2.59  2.87        21.0        118           2.80   \n",
       "\n",
       "   flavanoids  nonflavanoid_phenols  proanthocyanins  color_intensity   hue  \\\n",
       "0        3.06                  0.28             2.29             5.64  1.04   \n",
       "1        2.76                  0.26             1.28             4.38  1.05   \n",
       "2        3.24                  0.30             2.81             5.68  1.03   \n",
       "3        3.49                  0.24             2.18             7.80  0.86   \n",
       "4        2.69                  0.39             1.82             4.32  1.04   \n",
       "\n",
       "   od280  proline  \n",
       "0   3.92     1065  \n",
       "1   3.40     1050  \n",
       "2   3.17     1185  \n",
       "3   3.45     1480  \n",
       "4   2.93      735  "
      ]
     },
     "execution_count": 19,
     "metadata": {},
     "output_type": "execute_result"
    }
   ],
   "source": [
    "# # wine 실습\n",
    "# wine = pd.read_csv('./wine_data.csv', header=None)\n",
    "# wine.drop(columns=[0], inplace=True)\n",
    "# col = ['alcohol','malic_acid','ash','alcalinity','magnesium','total_phenols'\n",
    "#        ,'flavanoids','nonflavanoid_phenols','proanthocyanins','color_intensity'\n",
    "#        ,'hue','od280','proline']\n",
    "# wine.columns = col\n",
    "# print(wine.shape)\n",
    "# wine.head()"
   ]
  },
  {
   "cell_type": "markdown",
   "id": "58658cb1-30bf-4314-9e46-946437c034df",
   "metadata": {},
   "source": [
    "### 실습2"
   ]
  },
  {
   "cell_type": "markdown",
   "id": "27464370-e59e-4cb3-a69c-2285197c5bf1",
   "metadata": {},
   "source": [
    "* Edmunds, Amazon, Tripadvisor uci 리뷰 데이터\n",
    "    * 51개의 .data 확장자 파일 \n",
    "* (1) 주제별로 군집화\n",
    "* (2) 문서 유사도"
   ]
  },
  {
   "cell_type": "code",
   "execution_count": 108,
   "id": "d96937d6-fb6f-419a-a083-94d06057f7a2",
   "metadata": {},
   "outputs": [
    {
     "name": "stdout",
     "output_type": "stream",
     "text": [
      "(51, 2)\n"
     ]
    },
    {
     "data": {
      "text/html": [
       "<div>\n",
       "<style scoped>\n",
       "    .dataframe tbody tr th:only-of-type {\n",
       "        vertical-align: middle;\n",
       "    }\n",
       "\n",
       "    .dataframe tbody tr th {\n",
       "        vertical-align: top;\n",
       "    }\n",
       "\n",
       "    .dataframe thead th {\n",
       "        text-align: right;\n",
       "    }\n",
       "</style>\n",
       "<table border=\"1\" class=\"dataframe\">\n",
       "  <thead>\n",
       "    <tr style=\"text-align: right;\">\n",
       "      <th></th>\n",
       "      <th>title</th>\n",
       "      <th>content</th>\n",
       "    </tr>\n",
       "  </thead>\n",
       "  <tbody>\n",
       "    <tr>\n",
       "      <th>0</th>\n",
       "      <td>battery-life_ipod_nano_8gb</td>\n",
       "      <td>short battery life  I moved up from a...</td>\n",
       "    </tr>\n",
       "    <tr>\n",
       "      <th>1</th>\n",
       "      <td>gas_mileage_toyota_camry_2007</td>\n",
       "      <td>Ride seems comfortable and gas mileage fa...</td>\n",
       "    </tr>\n",
       "    <tr>\n",
       "      <th>2</th>\n",
       "      <td>room_holiday_inn_london</td>\n",
       "      <td>We arrived at 23,30 hours and they could n...</td>\n",
       "    </tr>\n",
       "    <tr>\n",
       "      <th>3</th>\n",
       "      <td>location_holiday_inn_london</td>\n",
       "      <td>Great location for tube and we crammed in...</td>\n",
       "    </tr>\n",
       "    <tr>\n",
       "      <th>4</th>\n",
       "      <td>staff_bestwestern_hotel_sfo</td>\n",
       "      <td>Staff are friendly and hel...</td>\n",
       "    </tr>\n",
       "  </tbody>\n",
       "</table>\n",
       "</div>"
      ],
      "text/plain": [
       "                           title  \\\n",
       "0     battery-life_ipod_nano_8gb   \n",
       "1  gas_mileage_toyota_camry_2007   \n",
       "2        room_holiday_inn_london   \n",
       "3    location_holiday_inn_london   \n",
       "4    staff_bestwestern_hotel_sfo   \n",
       "\n",
       "                                             content  \n",
       "0           short battery life  I moved up from a...  \n",
       "1       Ride seems comfortable and gas mileage fa...  \n",
       "2      We arrived at 23,30 hours and they could n...  \n",
       "3       Great location for tube and we crammed in...  \n",
       "4                      Staff are friendly and hel...  "
      ]
     },
     "metadata": {},
     "output_type": "display_data"
    }
   ],
   "source": [
    "# Module\n",
    "import matplotlib.pyplot as plt\n",
    "import numpy as np\n",
    "import seaborn as sns\n",
    "from glob import glob\n",
    "import os\n",
    "import pandas as pd\n",
    "from sklearn.cluster import KMeans\n",
    "from sklearn.feature_extraction.text import TfidfVectorizer\n",
    "import warnings; warnings.filterwarnings('ignore')\n",
    "\n",
    "file_dir = './opinion_data/topics/'\n",
    "file_titles, contents = [], []\n",
    "\n",
    "# 파일 제목과 파일 내용을 담고 있는 DataFrame 생성 (df)\n",
    "# print(glob(os.path.join(file_dir, '*.data'))[0]) # file 포맷 예시 출력\n",
    "for file in glob(os.path.join(file_dir, '*.data')):\n",
    "    # 파일 제목\n",
    "    file_title = file.split('/')[-1].split('.')[0]\n",
    "    file_titles.append(file_title)\n",
    "    # 파일 내용\n",
    "    contents.append(pd.read_table(file, header=0, encoding='latin1'))\n",
    "    \n",
    "df = pd.DataFrame({'title':file_titles\n",
    "                   , 'content':contents})\n",
    "print(df.shape)\n",
    "display(df.head())"
   ]
  },
  {
   "cell_type": "markdown",
   "id": "d6147de1-eaa9-4658-83b0-e40c07457eea",
   "metadata": {},
   "source": [
    "**TF-IDF (Term Frequency-Inverse Document Frequency) 벡터화**\n",
    "* 문서의 유사도를 구하는 작업, 검색 시스템에서 검색 결과의 중요도를 정하는 작업, 문서 내에서 특정 단어의 중요도를 구하는 작업 등에 쓰임\n",
    "* 카운트 벡터화의 보완\n",
    "    * 단어 피처에 단어 count를 부여하는 방법\n",
    "    * 문장에서 자주 사용될 수밖에 없는 단어들에도 높은 가중치가 부여되는 단점\n",
    "* TF * IDF\n",
    "    * 자주 나타나는 단어에 높은 가중치를 줌 & 모든 문서에서 높은 빈도로 나타나는 단어에 패널티 부여\n",
    "        * ex) 당연히-와 같은 불용어\n",
    "    * TF-IDF 값이 크면 중요도가 높고, 낮으면 중요도가 적은 단어\n",
    "    * TF (Term Frequency) : 개별 문서에서의 단어 i 빈도\n",
    "    * DF (Document Frequency) : 단어 i가 등장한 문서의 개수\n",
    "    * IDF (Inverse Document Frequency) : DF의 역수 "
   ]
  },
  {
   "cell_type": "markdown",
   "id": "619405a0-9777-40eb-8171-c71339357965",
   "metadata": {},
   "source": [
    "![tf-idf](tf-idf.png)"
   ]
  },
  {
   "cell_type": "code",
   "execution_count": 130,
   "id": "c7ccadb5-4e28-4a94-9fd9-a93ddeae0605",
   "metadata": {},
   "outputs": [
    {
     "name": "stderr",
     "output_type": "stream",
     "text": [
      "2022-09-21 21:14:54.561433: I tensorflow/core/platform/cpu_feature_guard.cc:193] This TensorFlow binary is optimized with oneAPI Deep Neural Network Library (oneDNN) to use the following CPU instructions in performance-critical operations:  AVX2 FMA\n",
      "To enable them in other operations, rebuild TensorFlow with the appropriate compiler flags.\n"
     ]
    },
    {
     "data": {
      "text/plain": [
       "['abcd3', '33', '2ss', 'ait']"
      ]
     },
     "execution_count": 130,
     "metadata": {},
     "output_type": "execute_result"
    }
   ],
   "source": [
    "# from nltk.tokenize import word_tokenize\n",
    "# from nltk.tokenize import WordPunctTokenizer\n",
    "import string\n",
    "# from nltk.stem import WordNetLemmatizer\n",
    "\n",
    "from tensorflow.keras.preprocessing.text import text_to_word_sequence\n",
    "text_to_word_sequence('ABCD3.33!!2ss^^!ait')"
   ]
  },
  {
   "cell_type": "code",
   "execution_count": 131,
   "id": "ee951ea7-4d1c-4abe-94fc-4cc33b699df5",
   "metadata": {},
   "outputs": [
    {
     "data": {
      "text/plain": [
       "<51x27 sparse matrix of type '<class 'numpy.float64'>'\n",
       "\twith 106 stored elements in Compressed Sparse Row format>"
      ]
     },
     "execution_count": 131,
     "metadata": {},
     "output_type": "execute_result"
    }
   ],
   "source": [
    "# 소문자 (lower_content)\n",
    "def content_lower(row):\n",
    "    li = []\n",
    "    for i in row:\n",
    "        for j in i:\n",
    "            li.append(j.lower())\n",
    "    return li\n",
    "\n",
    "df['lower_content'] = content_lower(df['content'])\n",
    "\n",
    "# 특수문자 제거 (del_punc)\n",
    "del_punc = dict((ord(punc), None) for punc in string.punctuation)  # '!\"#$%&\\'()*+,-./:;<=>?@[\\\\]^_`{|}~' 를 아스키 코드로 변환 후 None\n",
    "\n",
    "\n",
    "# 표제어 추출을 위한 Lemmatization 커스텀 코드 작업\n",
    "# Lemmatization : am, are, is의 뿌리 단어 = be\n",
    "\n",
    "import nltk\n",
    "# nltk.download('omw-1.4')\n",
    "# nltk.download('wordnet')\n",
    "# nltk.download('punkt')\n",
    "# dler = nltk.downloader.Downloader()\n",
    "# dler._update_index()\n",
    "# dler.download('all')\n",
    "\n",
    "\n",
    "import string\n",
    "from nltk.stem import WordNetLemmatizer\n",
    "\n",
    "lemmatizer = WordNetLemmatizer()\n",
    "\n",
    "def token(tokens):\n",
    "    return [lemmatizer.lemmatize(token) for token in tokens]\n",
    "\n",
    "def LemNormalizer(text):\n",
    "    return token(text_to_word_sequence(text))\n",
    "\n",
    "# TF-IDF 벡터화\n",
    "tfidf = TfidfVectorizer(tokenizer=LemNormalizer,\n",
    "                       stop_words='english',\n",
    "                       ngram_range=(1, 2), \n",
    "                       min_df=0.05, max_df=0.90) # min_df : 전체 documents에서 너무 낮은 빈도의 단어 피처는 제외 (하위 5% 이하의 빈도수를 지닌 단어는 제외)\n",
    "                                                 # max_df : 전체 documents에서 너무 높은 빈도의 단어 피처는 제외 (0%~90% 의 빈도수를 지닌 단어만 포함, 상위 10% 빈도수의 단어는 제외)\n",
    "                                                 # ngram_range : 단어 묶음 1~2개로 설정 (단어가 여러 개 묶여야 의미를 갖는 단어들이 있으므로)\n",
    "# fit_transform content (피처 벡터화된 matrix)\n",
    "vect = tfidf.fit_transform(df['lower_content'])\n",
    "vect"
   ]
  },
  {
   "cell_type": "code",
   "execution_count": 132,
   "id": "d478effc-af50-4442-967a-561255c9edc6",
   "metadata": {},
   "outputs": [
    {
     "name": "stdout",
     "output_type": "stream",
     "text": [
      "0    32\n",
      "2    12\n",
      "1     7\n",
      "Name: cluster, dtype: int64\n"
     ]
    }
   ],
   "source": [
    "from sklearn.cluster import KMeans\n",
    "\n",
    "km_cluster = KMeans(n_clusters=3, max_iter=10000, random_state=0)\n",
    "km_cluster.fit(vect)\n",
    "cluster_label = km_cluster.labels_\n",
    "cluster_centers = km_cluster.cluster_centers_\n",
    "\n",
    "df['cluster'] = cluster_label\n",
    "df.sort_values(by='cluster')\n",
    "print(df.cluster.value_counts())"
   ]
  },
  {
   "cell_type": "code",
   "execution_count": 133,
   "id": "da367913-293a-442e-8bd6-cef4b81dd685",
   "metadata": {},
   "outputs": [
    {
     "data": {
      "text/html": [
       "<div>\n",
       "<style scoped>\n",
       "    .dataframe tbody tr th:only-of-type {\n",
       "        vertical-align: middle;\n",
       "    }\n",
       "\n",
       "    .dataframe tbody tr th {\n",
       "        vertical-align: top;\n",
       "    }\n",
       "\n",
       "    .dataframe thead th {\n",
       "        text-align: right;\n",
       "    }\n",
       "</style>\n",
       "<table border=\"1\" class=\"dataframe\">\n",
       "  <thead>\n",
       "    <tr style=\"text-align: right;\">\n",
       "      <th></th>\n",
       "      <th>title</th>\n",
       "      <th>content</th>\n",
       "      <th>lower_content</th>\n",
       "      <th>cluster</th>\n",
       "    </tr>\n",
       "  </thead>\n",
       "  <tbody>\n",
       "    <tr>\n",
       "      <th>2</th>\n",
       "      <td>room_holiday_inn_london</td>\n",
       "      <td>We arrived at 23,30 hours and they could n...</td>\n",
       "      <td>we arrived at 23,30 hours and they could not r...</td>\n",
       "      <td>2</td>\n",
       "    </tr>\n",
       "    <tr>\n",
       "      <th>3</th>\n",
       "      <td>location_holiday_inn_london</td>\n",
       "      <td>Great location for tube and we crammed in...</td>\n",
       "      <td>great location for tube and we crammed in a f...</td>\n",
       "      <td>2</td>\n",
       "    </tr>\n",
       "    <tr>\n",
       "      <th>12</th>\n",
       "      <td>keyboard_netbook_1005ha</td>\n",
       "      <td>,  I think the new keyboard rivals the gre...</td>\n",
       "      <td>,  i think the new keyboard rivals the great h...</td>\n",
       "      <td>2</td>\n",
       "    </tr>\n",
       "    <tr>\n",
       "      <th>14</th>\n",
       "      <td>video_ipod_nano_8gb</td>\n",
       "      <td>I bought the 8, gig Ipod Nano that has the...</td>\n",
       "      <td>i bought the 8, gig ipod nano that has the bui...</td>\n",
       "      <td>2</td>\n",
       "    </tr>\n",
       "    <tr>\n",
       "      <th>20</th>\n",
       "      <td>staff_swissotel_chicago</td>\n",
       "      <td>The staff at Swissotel were not particula...</td>\n",
       "      <td>the staff at swissotel were not particularly ...</td>\n",
       "      <td>2</td>\n",
       "    </tr>\n",
       "    <tr>\n",
       "      <th>22</th>\n",
       "      <td>interior_toyota_camry_2007</td>\n",
       "      <td>First of all, the interior has way too ma...</td>\n",
       "      <td>first of all, the interior has way too many c...</td>\n",
       "      <td>2</td>\n",
       "    </tr>\n",
       "    <tr>\n",
       "      <th>23</th>\n",
       "      <td>transmission_toyota_camry_2007</td>\n",
       "      <td>After slowing down, transmission has to b...</td>\n",
       "      <td>after slowing down, transmission has to be  k...</td>\n",
       "      <td>2</td>\n",
       "    </tr>\n",
       "    <tr>\n",
       "      <th>28</th>\n",
       "      <td>price_holiday_inn_london</td>\n",
       "      <td>All in all, a normal chain hotel on a nice...</td>\n",
       "      <td>all in all, a normal chain hotel on a nice loc...</td>\n",
       "      <td>2</td>\n",
       "    </tr>\n",
       "    <tr>\n",
       "      <th>38</th>\n",
       "      <td>navigation_amazon_kindle</td>\n",
       "      <td>In fact, the entire navigation structure h...</td>\n",
       "      <td>in fact, the entire navigation structure has ...</td>\n",
       "      <td>2</td>\n",
       "    </tr>\n",
       "    <tr>\n",
       "      <th>46</th>\n",
       "      <td>rooms_bestwestern_hotel_sfo</td>\n",
       "      <td>Great Location ,  Nice   Rooms ,  Helpless...</td>\n",
       "      <td>great location ,  nice   rooms ,  helpless con...</td>\n",
       "      <td>2</td>\n",
       "    </tr>\n",
       "    <tr>\n",
       "      <th>47</th>\n",
       "      <td>performance_honda_accord_2008</td>\n",
       "      <td>Very happy with my 08 Accord, performance i...</td>\n",
       "      <td>very happy with my 08 accord, performance is q...</td>\n",
       "      <td>2</td>\n",
       "    </tr>\n",
       "    <tr>\n",
       "      <th>49</th>\n",
       "      <td>free_bestwestern_hotel_sfo</td>\n",
       "      <td>The wine reception is a great idea as it i...</td>\n",
       "      <td>the wine reception is a great idea as it is ni...</td>\n",
       "      <td>2</td>\n",
       "    </tr>\n",
       "  </tbody>\n",
       "</table>\n",
       "</div>"
      ],
      "text/plain": [
       "                             title  \\\n",
       "2          room_holiday_inn_london   \n",
       "3      location_holiday_inn_london   \n",
       "12         keyboard_netbook_1005ha   \n",
       "14             video_ipod_nano_8gb   \n",
       "20         staff_swissotel_chicago   \n",
       "22      interior_toyota_camry_2007   \n",
       "23  transmission_toyota_camry_2007   \n",
       "28        price_holiday_inn_london   \n",
       "38        navigation_amazon_kindle   \n",
       "46     rooms_bestwestern_hotel_sfo   \n",
       "47   performance_honda_accord_2008   \n",
       "49      free_bestwestern_hotel_sfo   \n",
       "\n",
       "                                              content  \\\n",
       "2       We arrived at 23,30 hours and they could n...   \n",
       "3        Great location for tube and we crammed in...   \n",
       "12      ,  I think the new keyboard rivals the gre...   \n",
       "14      I bought the 8, gig Ipod Nano that has the...   \n",
       "20       The staff at Swissotel were not particula...   \n",
       "22       First of all, the interior has way too ma...   \n",
       "23       After slowing down, transmission has to b...   \n",
       "28      All in all, a normal chain hotel on a nice...   \n",
       "38      In fact, the entire navigation structure h...   \n",
       "46      Great Location ,  Nice   Rooms ,  Helpless...   \n",
       "47     Very happy with my 08 Accord, performance i...   \n",
       "49      The wine reception is a great idea as it i...   \n",
       "\n",
       "                                        lower_content  cluster  \n",
       "2   we arrived at 23,30 hours and they could not r...        2  \n",
       "3    great location for tube and we crammed in a f...        2  \n",
       "12  ,  i think the new keyboard rivals the great h...        2  \n",
       "14  i bought the 8, gig ipod nano that has the bui...        2  \n",
       "20   the staff at swissotel were not particularly ...        2  \n",
       "22   first of all, the interior has way too many c...        2  \n",
       "23   after slowing down, transmission has to be  k...        2  \n",
       "28  all in all, a normal chain hotel on a nice loc...        2  \n",
       "38   in fact, the entire navigation structure has ...        2  \n",
       "46  great location ,  nice   rooms ,  helpless con...        2  \n",
       "47  very happy with my 08 accord, performance is q...        2  \n",
       "49  the wine reception is a great idea as it is ni...        2  "
      ]
     },
     "execution_count": 133,
     "metadata": {},
     "output_type": "execute_result"
    }
   ],
   "source": [
    "df.loc[df['cluster']==2]"
   ]
  },
  {
   "cell_type": "code",
   "execution_count": 134,
   "id": "d91d3f62-6e18-4260-84e9-9061fd364eb4",
   "metadata": {},
   "outputs": [
    {
     "name": "stdout",
     "output_type": "stream",
     "text": [
      "2로 클러스터링 된 문서들의 DF Index: Int64Index([2, 3, 12, 14, 20, 22, 23, 28, 38, 46, 47, 49], dtype='int64')\n",
      "\n",
      "비교 기준 문서명  room_holiday_inn_london과 타 문서 유사도\n",
      "[[1.         0.         0.         0.         0.72291615 0.\n",
      "  0.         0.32167346 0.         0.51391196 0.3436457  0.43799056]]\n"
     ]
    }
   ],
   "source": [
    "# cosine similarity\n",
    "from sklearn.metrics.pairwise import cosine_similarity\n",
    "\n",
    "# cluster_label=2\n",
    "label2_indexes = df[df['cluster']==2].index\n",
    "print('2로 클러스터링 된 문서들의 DF Index:', label2_indexes)\n",
    "\n",
    "# 첫번째 문서를 추출하여 파일명 표시\n",
    "comparison_doc = df.iloc[label2_indexes[0]]['title']\n",
    "print('\\n비교 기준 문서명 ', comparison_doc+'과 타 문서 유사도')\n",
    "\n",
    "'''df에서 추출한 Index 객체를 vect로 입력하여 클러스터링된 vect 추출 \n",
    "이를 이용하여 cluster=2로 클러스터링된 문서 중 첫 번째 문서와 다른 문서간의 코사인 유사도 측정'''\n",
    "similarity_cluster2 = cosine_similarity(vect[label2_indexes[0]] , vect[label2_indexes])\n",
    "print(similarity_cluster2)"
   ]
  },
  {
   "cell_type": "code",
   "execution_count": 135,
   "id": "cf6b5635-9c13-4f40-8388-8827514fa1fe",
   "metadata": {},
   "outputs": [
    {
     "data": {
      "text/plain": [
       "Text(0.5, 1.0, 'room_holiday_inn_london')"
      ]
     },
     "execution_count": 135,
     "metadata": {},
     "output_type": "execute_result"
    },
    {
     "data": {
      "image/png": "[encoded data removed]",
      "text/plain": [
       "<Figure size 640x480 with 1 Axes>"
      ]
     },
     "metadata": {
      "image/png": {
       "height": 454,
       "width": 780
      }
     },
     "output_type": "display_data"
    }
   ],
   "source": [
    "# argsort()를 이용, 첫 번째 문서와 타 문서간 유사도가 큰 순으로 정렬한 인덱스 반환 (자기 자신 제외) \n",
    "sorted_index = similarity_cluster2.argsort()[:,::-1]\n",
    "sorted_index = sorted_index[:, 1:]\n",
    "\n",
    "# 유사도가 큰 순으로 index를 추출하여 다시 정렬 \n",
    "re_sorted_indexes = label2_indexes[sorted_index.reshape(-1)]\n",
    "\n",
    "# 유사도가 큰 순으로 유사도 값을 재정렬하되 자기 자신은 제외\n",
    "cluster2_sim_value = np.sort(similarity_cluster2.reshape(-1))[::-1]\n",
    "cluster2_sim_value = cluster2_sim_value[1:]\n",
    "\n",
    "# 유사도가 큰 순으로 정렬된 Index와 유사도값을 이용하여 파일명과 유사도값을 Seaborn 막대 그래프로 시각화\n",
    "cluster2_sim_df = pd.DataFrame()\n",
    "cluster2_sim_df['title'] = df.iloc[re_sorted_indexes]['title']\n",
    "cluster2_sim_df['similarity'] = cluster2_sim_value\n",
    "\n",
    "sns.barplot(x='similarity', y='title',data=cluster2_sim_df)\n",
    "plt.title(comparison_doc)"
   ]
  },
  {
   "cell_type": "markdown",
   "id": "7ec22946-0691-47ca-9443-53b3b7fff47f",
   "metadata": {
    "tags": []
   },
   "source": [
    "## 2. Visualization with hierarchical clustering and t-SNE"
   ]
  },
  {
   "cell_type": "markdown",
   "id": "5f5474b4-bbf0-445d-b18e-e3e30aa341d8",
   "metadata": {},
   "source": [
    "### Visualizing hierarchies"
   ]
  },
  {
   "cell_type": "markdown",
   "id": "6579c253-e35c-4f75-a2e8-884b03e64fd0",
   "metadata": {},
   "source": [
    "#### Hierarchical clustering of the grain data"
   ]
  },
  {
   "cell_type": "code",
   "execution_count": null,
   "id": "92e0d5d7-4a75-486e-bff9-f8a5fec83ad8",
   "metadata": {},
   "outputs": [],
   "source": [
    "# Perform the necessary imports\n",
    "from scipy.cluster.hierarchy import linkage, dendrogram\n",
    "import matplotlib.pyplot as plt\n",
    "\n",
    "# Calculate the linkage: mergings\n",
    "mergings = linkage(samples, method='complete')\n",
    "\n",
    "# Plot the dendrogram, using varieties as labels\n",
    "dendrogram(mergings,\n",
    "           labels=varieties,\n",
    "           leaf_rotation=90,\n",
    "           leaf_font_size=6,\n",
    ")\n",
    "plt.show()"
   ]
  },
  {
   "cell_type": "markdown",
   "id": "e0930f37-9795-4d25-a0e0-7fd0620551db",
   "metadata": {},
   "source": [
    "#### Hierarchies of stocks"
   ]
  },
  {
   "cell_type": "code",
   "execution_count": 25,
   "id": "7ce70f71-1ef3-4aff-bffe-ca756cf6c553",
   "metadata": {},
   "outputs": [],
   "source": [
    "# Import normalize\n",
    "from sklearn.preprocessing import normalize\n",
    "\n",
    "# Normalize the movements: normalized_movements\n",
    "normalized_movements = normalize(movements)\n",
    "\n",
    "# Calculate the linkage: mergings\n",
    "mergings = linkage(normalized_movements, method='complete')\n",
    "\n",
    "# Plot the dendrogram\n",
    "dendrogram(mergings, labels=companies, leaf_rotation=90, leaf_font_size=6)\n",
    "plt.show()"
   ]
  },
  {
   "cell_type": "markdown",
   "id": "fe8416b7-1f22-49c1-b703-7aa4bb39eb42",
   "metadata": {},
   "source": [
    "### Cluster labels in hierarchical clustering"
   ]
  },
  {
   "cell_type": "markdown",
   "id": "73d6a194-1ada-49a4-b3dc-2a0e26eaf65a",
   "metadata": {},
   "source": [
    "#### Which clusters are closest?"
   ]
  },
  {
   "cell_type": "markdown",
   "id": "9d83e206-bfc4-495c-8d6a-69aaa0f4cebd",
   "metadata": {},
   "source": [
    "![linkage cluster](cluster_linkage_riddle.png)"
   ]
  },
  {
   "cell_type": "markdown",
   "id": "4b07a77a-d05f-4263-a1a4-8248e63544a8",
   "metadata": {},
   "source": [
    "In the video, you learned that the linkage method defines how the distnace between clusters is measured.  \n",
    "In complete linkage, the distance between clusters is the distance between the furthest points of the clusters.  \n",
    "In single linkage, the distance between clusters is the distance between the closest points of the clusters.  \n",
    "Consider the three clusters in the diagram. Which of the following statements are true?  \n",
    "* In single linkage, Cluster 3 is the closest cluster to Cluster 2. -> True  \n",
    "* In complete linkage, Cluster 1 is the closest cluster to Cluster 2. -> True"
   ]
  },
  {
   "cell_type": "markdown",
   "id": "4fd9c84d-93c9-46b1-bfaa-61dd0b7ac04e",
   "metadata": {},
   "source": [
    "#### Different linkage, different hierarchical clustering!"
   ]
  },
  {
   "cell_type": "code",
   "execution_count": null,
   "id": "83b0c0dc-099c-4e66-9a97-e5de85479131",
   "metadata": {},
   "outputs": [],
   "source": [
    "# Perform the necessary imports\n",
    "import matplotlib.pyplot as plt\n",
    "from scipy.cluster.hierarchy import linkage, dendrogram\n",
    "\n",
    "# Calculate the linkage: mergings\n",
    "mergings = linkage(samples, method='single')\n",
    "\n",
    "# Plot the dendrogram\n",
    "dendrogram(mergings, labels=country_names, leaf_rotation=90, leaf_font_size=6)\n",
    "plt.show()\n"
   ]
  },
  {
   "cell_type": "markdown",
   "id": "359a895e-151d-419e-8961-94350936b80e",
   "metadata": {},
   "source": [
    "#### Intermediate clusterings"
   ]
  },
  {
   "cell_type": "markdown",
   "id": "1662d377-1496-4457-91bd-6852c0f5884b",
   "metadata": {},
   "source": [
    "![linkage cluster](intermediate_clusterings.svg)"
   ]
  },
  {
   "cell_type": "markdown",
   "id": "6b1970b6-6e50-4e43-ae8e-baf7e3afd378",
   "metadata": {},
   "source": [
    "Displayed on the right is the dendrogram for the hierarchical clustering of the grain samples that you computed earlier.  \n",
    "if the hierarchical clustering were stopped at height 6 on the dendrogram, how many clusters would there be?\n",
    "* 3"
   ]
  },
  {
   "cell_type": "markdown",
   "id": "c80298dc-e038-4c1d-8f2f-627b963e8819",
   "metadata": {},
   "source": [
    "#### Extracting the cluster labels"
   ]
  },
  {
   "cell_type": "code",
   "execution_count": null,
   "id": "1f264d88-d8f9-42b6-a40f-9574d20f1fbe",
   "metadata": {},
   "outputs": [],
   "source": [
    "# Perform the necessary imports\n",
    "import pandas as pd\n",
    "from scipy.cluster.hierarchy import fcluster\n",
    "\n",
    "# Use fcluster to extract labels: labels\n",
    "labels = fcluster(mergings, 6, criterion='distance')\n",
    "\n",
    "# Create a DataFrame with labels and varieties as columns: df\n",
    "df = pd.DataFrame({'labels': labels, 'varieties': varieties})\n",
    "\n",
    "# Create crosstab: ct\n",
    "ct = pd.crosstab(df['labels'], df['varieties'])\n",
    "\n",
    "# Display ct\n",
    "print(ct)"
   ]
  },
  {
   "cell_type": "markdown",
   "id": "15fd7b7c-89f6-4208-bbce-7aa66bfd40b2",
   "metadata": {},
   "source": [
    "### t-SNE for 2-dimensional maps"
   ]
  },
  {
   "cell_type": "markdown",
   "id": "9c9c46a3-f15b-41e8-b790-01ad020aa6cd",
   "metadata": {},
   "source": [
    "* t-SNE = t-Distributed Stochastic Neighbor Embedding. \n",
    "* 훈련 데이터를 새로운 표현으로 변환, 새로운 데이터에는 적용하지 못함(훈련했던 데이터만 변환 가능)\n",
    "* 데이터 포인트 사이의 거리를 가장 잘 보존하는 2차원 표현을 찾는 것. 각 데이터 포인트를 2차원에 무작위로 표현한 후 원본 특성 공간에서 가까운 포인트는 가깝게, 멀리 떨어진 포인트는 멀어지게 만들고, 멀리 떨어진 포인트와 거리를 보존하는 것보다 가까이 있는 포인트에 더 많은 비중을 둠\n",
    "* 즉, 이웃 데이터 포인트에 대한 정보를 보존하려 노력\n",
    "* fit_transform만 있음"
   ]
  },
  {
   "cell_type": "markdown",
   "id": "73df8e8b-20de-470e-930e-6b77b99d7bf2",
   "metadata": {},
   "source": [
    "#### t-SNE visualization of grain dataset"
   ]
  },
  {
   "cell_type": "code",
   "execution_count": null,
   "id": "51212939-8d05-49a6-a701-b17c301f9130",
   "metadata": {},
   "outputs": [],
   "source": [
    "# Import TSNE\n",
    "from sklearn.manifold import TSNE\n",
    "\n",
    "# Create a TSNE instance: model\n",
    "model = TSNE(learning_rate=200)\n",
    "\n",
    "# Apply fit_transform to samples: tsne_features\n",
    "tsne_features = model.fit_transform(samples)\n",
    "\n",
    "# Select the 0th feature: xs\n",
    "xs = tsne_features[:,0]\n",
    "\n",
    "# Select the 1st feature: ys\n",
    "ys = tsne_features[:,1]\n",
    "\n",
    "# Scatter plot, coloring by variety_numbers\n",
    "plt.scatter(xs, ys, c=variety_numbers)\n",
    "plt.show()"
   ]
  },
  {
   "cell_type": "markdown",
   "id": "12f7d616-e5c4-497f-bed5-27ce8bfa0943",
   "metadata": {},
   "source": [
    "![img](t-SNE_visualization_of_grain_dataset.svg)"
   ]
  },
  {
   "cell_type": "markdown",
   "id": "cf6df637-39d8-4fc7-b721-f1d72c0e8762",
   "metadata": {},
   "source": [
    "#### A t-SNE map of the stock market"
   ]
  },
  {
   "cell_type": "code",
   "execution_count": null,
   "id": "a963fb46-7659-49a2-b1bc-81f28eaac30d",
   "metadata": {},
   "outputs": [],
   "source": [
    "# Import TSNE\n",
    "from sklearn.manifold import TSNE\n",
    "\n",
    "# Create a TSNE instance: model\n",
    "model = TSNE(learning_rate=50)\n",
    "\n",
    "# Apply fit_transform to normalized_movements: tsne_features\n",
    "tsne_features = model.fit_transform(normalized_movements)\n",
    "\n",
    "# Select the 0th feature: xs\n",
    "xs = tsne_features[:, 0]\n",
    "\n",
    "# Select the 1th feature: ys\n",
    "ys = tsne_features[:, 1]\n",
    "\n",
    "# Scatter plot\n",
    "plt.scatter(xs, ys, alpha=0.5)\n",
    "\n",
    "# Annotate the points\n",
    "for x, y, company in zip(xs, ys, companies):\n",
    "    plt.annotate(company, (x, y), fontsize=5, alpha=0.75)\n",
    "plt.show()"
   ]
  },
  {
   "cell_type": "markdown",
   "id": "39cfe62d-d3ac-4e56-b330-ecf0df01d009",
   "metadata": {},
   "source": [
    "![img](t-SNE_map_of_the_stock_market.svg)"
   ]
  },
  {
   "cell_type": "markdown",
   "id": "6784006a-fcee-48a4-b596-cf696d08da3e",
   "metadata": {},
   "source": [
    "### 실습"
   ]
  },
  {
   "cell_type": "code",
   "execution_count": 38,
   "id": "8dca5a97-d914-4f63-8a73-bd56b040ee62",
   "metadata": {},
   "outputs": [
    {
     "name": "stdout",
     "output_type": "stream",
     "text": [
      "(26, 2)\n"
     ]
    },
    {
     "data": {
      "text/html": [
       "<div>\n",
       "<style scoped>\n",
       "    .dataframe tbody tr th:only-of-type {\n",
       "        vertical-align: middle;\n",
       "    }\n",
       "\n",
       "    .dataframe tbody tr th {\n",
       "        vertical-align: top;\n",
       "    }\n",
       "\n",
       "    .dataframe thead th {\n",
       "        text-align: right;\n",
       "    }\n",
       "</style>\n",
       "<table border=\"1\" class=\"dataframe\">\n",
       "  <thead>\n",
       "    <tr style=\"text-align: right;\">\n",
       "      <th></th>\n",
       "      <th>Countries</th>\n",
       "      <th>Total</th>\n",
       "    </tr>\n",
       "  </thead>\n",
       "  <tbody>\n",
       "    <tr>\n",
       "      <th>0</th>\n",
       "      <td>Portugal</td>\n",
       "      <td>758</td>\n",
       "    </tr>\n",
       "    <tr>\n",
       "      <th>1</th>\n",
       "      <td>Bulgaria</td>\n",
       "      <td>615</td>\n",
       "    </tr>\n",
       "    <tr>\n",
       "      <th>2</th>\n",
       "      <td>Moldova</td>\n",
       "      <td>374</td>\n",
       "    </tr>\n",
       "    <tr>\n",
       "      <th>3</th>\n",
       "      <td>Belgium</td>\n",
       "      <td>363</td>\n",
       "    </tr>\n",
       "    <tr>\n",
       "      <th>4</th>\n",
       "      <td>Sweden</td>\n",
       "      <td>344</td>\n",
       "    </tr>\n",
       "  </tbody>\n",
       "</table>\n",
       "</div>"
      ],
      "text/plain": [
       "  Countries  Total\n",
       "0  Portugal    758\n",
       "1  Bulgaria    615\n",
       "2   Moldova    374\n",
       "3   Belgium    363\n",
       "4    Sweden    344"
      ]
     },
     "metadata": {},
     "output_type": "display_data"
    },
    {
     "data": {
      "image/png": "[encoded data removed]",
      "text/plain": [
       "<Figure size 640x480 with 1 Axes>"
      ]
     },
     "metadata": {},
     "output_type": "display_data"
    }
   ],
   "source": [
    "from scipy.cluster.hierarchy import linkage, dendrogram\n",
    "\n",
    "song = pd.read_csv('song_contest.csv')\n",
    "print(song.shape)\n",
    "display(song.head())\n",
    "x = np.array(song['Countries'])\n",
    "y = np.array(song['Total'])\n",
    "mergings = linkage(np.reshape(y, (len(y), 1)), method='complete')\n",
    "dendrogram(mergings\n",
    "           , labels=x\n",
    "           , leaf_rotation=90\n",
    "           , leaf_font_size=6)\n",
    "plt.show()"
   ]
  },
  {
   "cell_type": "markdown",
   "id": "1cfb4590-a19f-46a2-a4d2-8b8e83225e1d",
   "metadata": {
    "tags": []
   },
   "source": [
    "## 3. Decorrelating your data and dimension reduction"
   ]
  },
  {
   "cell_type": "markdown",
   "id": "13ef8ae9-1f37-4b70-a6d9-c3432c7883d5",
   "metadata": {},
   "source": [
    "* Principal component analysis\n",
    "    * 주성분 분석은 특성들이 통계적으로 상관관계가 없도록 데이터셋을 회전시킴\n",
    "    * 회전한 뒤에 데이터를 설명하는 데 얼마나 중요하냐에 따라 종종 새로운 특성 중 일부만 선택"
   ]
  },
  {
   "cell_type": "markdown",
   "id": "efb3e547-5adb-48eb-bc4b-99fb6c43084e",
   "metadata": {},
   "source": [
    "![img1](2d_pca.png)"
   ]
  },
  {
   "cell_type": "markdown",
   "id": "5f7b184b-5652-4ff8-b239-3568efe6a06c",
   "metadata": {},
   "source": [
    "* 그림1"
   ]
  },
  {
   "cell_type": "markdown",
   "id": "079e368a-5826-4c13-9c8c-5008e0c40e70",
   "metadata": {},
   "source": [
    "![img2](3d_pca.png)"
   ]
  },
  {
   "cell_type": "markdown",
   "id": "6f64a88d-23d0-47e8-8154-fd550cdcf626",
   "metadata": {},
   "source": [
    "* 그림2"
   ]
  },
  {
   "cell_type": "markdown",
   "id": "724e73fb-caec-4fb2-b09d-d224829a24e5",
   "metadata": {},
   "source": [
    "여기서 주성분이라 함은 그 방향으로 데이터들의 분산이 가장 큰 방향벡터를 의미한다.   \n",
    "<그림 1>에서 e1 방향을 따라 데이터들의 분산(흩어진 정도)이 가장 크다. 그리고 e1에 수직이면서 그 다음으로 데이터들의 분산이 가장 큰 방향은 e2이다.  \n",
    "\n",
    "PCA는 2차원 데이터 집합에 대해 PCA를 수행하면 2개의 서로 수직인 주성분 벡터를 반환하고, 3차원 점들에 대해 PCA를 수행하면 3개의 서로 수직인 주성분 벡터들을 반환한다.   \n",
    "예를 들어 3차원 데이터의 경우는 아래 그림과 같이 3개의 서로 수직인 주성분 벡터를 찾아준다."
   ]
  },
  {
   "cell_type": "markdown",
   "id": "7db59a96-ba19-464a-a7af-d0a502859a7c",
   "metadata": {},
   "source": [
    "### Visualizing the PCA transformation"
   ]
  },
  {
   "cell_type": "markdown",
   "id": "119eadae-8d63-4d16-9231-ca6b75c67323",
   "metadata": {},
   "source": [
    "#### Correlated data in nature"
   ]
  },
  {
   "cell_type": "code",
   "execution_count": null,
   "id": "6d28f099-73e3-4aaa-ad74-22d085134580",
   "metadata": {},
   "outputs": [],
   "source": [
    "# Perform the necessary imports\n",
    "import matplotlib.pyplot as plt\n",
    "from scipy.stats import pearsonr\n",
    "\n",
    "# Assign the 0th column of grains: width\n",
    "width = grains[:, 0]\n",
    "\n",
    "# Assign the 1st column of grains: length\n",
    "length = grains[:, 1]\n",
    "\n",
    "# Scatter plot width vs length\n",
    "plt.scatter(width, length)\n",
    "plt.axis('equal')\n",
    "plt.show()\n",
    "\n",
    "# Calculate the Pearson correlation\n",
    "correlation, pvalue = pearsonr(width, length)\n",
    "\n",
    "# Display the correlation\n",
    "print(correlation)"
   ]
  },
  {
   "cell_type": "markdown",
   "id": "908a7b76-4cff-42d2-98c4-ace954ecdbd8",
   "metadata": {},
   "source": [
    "![img](correlated_data_in_nature.svg)"
   ]
  },
  {
   "cell_type": "markdown",
   "id": "f77b5a10-a38a-4d6b-b798-950779222c02",
   "metadata": {},
   "source": [
    "#### Decorrelating the grain measurements with PCA"
   ]
  },
  {
   "cell_type": "code",
   "execution_count": null,
   "id": "899ab233-7bfc-4e36-ba8e-ad13b4c3c0df",
   "metadata": {},
   "outputs": [],
   "source": [
    "# Import PCA\n",
    "from sklearn.decomposition import PCA\n",
    "\n",
    "# Create PCA instance: model\n",
    "model = PCA()\n",
    "\n",
    "# Apply the fit_transform method of model to grains: pca_features\n",
    "pca_features = model.fit_transform(grains)\n",
    "\n",
    "# Assign 0th column of pca_features: xs\n",
    "xs = pca_features[:,0]\n",
    "\n",
    "# Assign 1st column of pca_features: ys\n",
    "ys = pca_features[:,1]\n",
    "\n",
    "# Scatter plot xs vs ys\n",
    "plt.scatter(xs, ys)\n",
    "plt.axis('equal')\n",
    "plt.show()\n",
    "\n",
    "# Calculate the Pearson correlation of xs and ys\n",
    "correlation, pvalue = pearsonr(xs, ys)\n",
    "\n",
    "# Display the correlation\n",
    "print(correlation)"
   ]
  },
  {
   "cell_type": "markdown",
   "id": "469ecd49-c72a-4ad4-ad44-877a21789bf1",
   "metadata": {},
   "source": [
    "![img](decorrelating_the_grain_measuerments_with_pca.svg)"
   ]
  },
  {
   "cell_type": "markdown",
   "id": "3d2f4d60-126e-461f-b515-bcd60e6908dc",
   "metadata": {},
   "source": [
    "#### Principal components"
   ]
  },
  {
   "cell_type": "markdown",
   "id": "2eb703da-e31e-410c-804f-0cdb7bf3341c",
   "metadata": {},
   "source": [
    "![i](principal_components.svg)"
   ]
  },
  {
   "cell_type": "markdown",
   "id": "633bf688-2f90-4c11-96f2-64c4e7f153a0",
   "metadata": {},
   "source": [
    "On the right are three scatter plots of the same point cloud. Each scatter plot shows a different set of axes (in red). In which of the plots could the axes represent the principal components of the point cloud?\n",
    "\n",
    "Recall that the principal components are the directions along which the the data varies."
   ]
  },
  {
   "cell_type": "markdown",
   "id": "ac61bc26-c889-4086-98e7-037443a01050",
   "metadata": {},
   "source": [
    "* The answer is **both plot 1 and plot 3.**"
   ]
  },
  {
   "cell_type": "markdown",
   "id": "bd372f98-c311-49d2-a307-6c5e1465fe93",
   "metadata": {},
   "source": [
    "### Intrinsic dimension"
   ]
  },
  {
   "cell_type": "markdown",
   "id": "4392374f-be88-48af-b761-6bfd4b17238f",
   "metadata": {},
   "source": [
    "#### The first pricinpal component"
   ]
  },
  {
   "cell_type": "code",
   "execution_count": null,
   "id": "02beaac2-49ec-4453-8c26-320db54073ca",
   "metadata": {},
   "outputs": [],
   "source": [
    "# Make a scatter plot of the untransformed points\n",
    "plt.scatter(grains[:,0], grains[:,1])\n",
    "\n",
    "# Create a PCA instance: model\n",
    "model = PCA()\n",
    "\n",
    "# Fit model to points\n",
    "model.fit(grains)\n",
    "\n",
    "# Get the mean of the grain samples: mean\n",
    "mean = model.mean_\n",
    "\n",
    "# Get the first principal component: first_pc\n",
    "first_pc = model.components_[0, :]\n",
    "\n",
    "# Plot first_pc as an arrow, starting at mean\n",
    "plt.arrow(mean[0], mean[1], first_pc[0], first_pc[1], color='red', width=0.01)\n",
    "\n",
    "# Keep axes on same scale\n",
    "plt.axis('equal')\n",
    "plt.show()"
   ]
  },
  {
   "cell_type": "markdown",
   "id": "c44685bb-99a4-44dd-b7bc-7d7fc2a42e71",
   "metadata": {},
   "source": [
    "![img](first_principal_compo.svg)"
   ]
  },
  {
   "cell_type": "markdown",
   "id": "f37ca327-2c98-4f9f-b6a6-ed5e2fb2efb7",
   "metadata": {},
   "source": [
    "#### Variance of the PCA features"
   ]
  },
  {
   "cell_type": "code",
   "execution_count": null,
   "id": "8d957895-c385-4855-b6cf-5ddcb951d242",
   "metadata": {},
   "outputs": [],
   "source": [
    "# Perform the necessary imports\n",
    "from sklearn.decomposition import PCA\n",
    "from sklearn.preprocessing import StandardScaler\n",
    "from sklearn.pipeline import make_pipeline\n",
    "import matplotlib.pyplot as plt\n",
    "\n",
    "# Create scaler: scaler\n",
    "scaler = StandardScaler()\n",
    "\n",
    "# Create a PCA instance: pca\n",
    "pca = PCA()\n",
    "\n",
    "# Create pipeline: pipeline\n",
    "pipeline = make_pipeline(scaler, pca)\n",
    "\n",
    "# Fit the pipeline to 'samples'\n",
    "pipeline.fit(samples)\n",
    "\n",
    "# Plot the explained variances\n",
    "features = range(pca.n_components_)\n",
    "plt.bar(features, pca.explained_variance_)\n",
    "plt.xlabel('PCA feature')\n",
    "plt.ylabel('variance')\n",
    "plt.xticks(features)\n",
    "plt.show()"
   ]
  },
  {
   "cell_type": "markdown",
   "id": "5a9ff737-8216-4d66-9cb5-bfcef1e51018",
   "metadata": {},
   "source": [
    "![img](var_pca_feature.svg)"
   ]
  },
  {
   "cell_type": "markdown",
   "id": "91c705ec-35a9-4fb6-96b7-5716c0790454",
   "metadata": {},
   "source": [
    "#### Intrinsic dimension of the fish data"
   ]
  },
  {
   "cell_type": "markdown",
   "id": "98a3f7e0-1327-4f46-9f4f-a1db170b406b",
   "metadata": {},
   "source": [
    "![g](intrinsic.svg)"
   ]
  },
  {
   "cell_type": "markdown",
   "id": "6fd432da-81d9-4ce8-a934-3b618d927ffc",
   "metadata": {},
   "source": [
    "In the previous exercise, you plotted the variance of the PCA features of the fish measurements.   \n",
    "Looking again at your plot, what do you think would be a reasonable choice for the \"intrinsic dimension\" of the fish measurements?  \n",
    "Recall that the intrinsic dimension is the number of PCA features with significant variance.\n",
    "* Answer: 2"
   ]
  },
  {
   "cell_type": "markdown",
   "id": "79f23b2e-1b9c-47e6-b19e-d1ad9fba8642",
   "metadata": {},
   "source": [
    "### Dimension reduction with PCA"
   ]
  },
  {
   "cell_type": "markdown",
   "id": "ee5ada2d-edb7-448f-a62b-51a572bab696",
   "metadata": {},
   "source": [
    "#### Dimension reduction of the fish measurements"
   ]
  },
  {
   "cell_type": "code",
   "execution_count": null,
   "id": "eb3fe1b1-7675-41fe-8a39-3e7b3ec19d0a",
   "metadata": {},
   "outputs": [],
   "source": [
    "# Import PCA\n",
    "from sklearn.decomposition import PCA\n",
    "\n",
    "# Create a PCA model with 2 components: pca\n",
    "pca = PCA(n_components=2)\n",
    "\n",
    "# Fit the PCA instance to the scaled samples\n",
    "pca.fit(scaled_samples)\n",
    "\n",
    "# Transform the scaled samples: pca_features\n",
    "pca_features = pca.transform(scaled_samples)\n",
    "\n",
    "# Print the shape of pca_features\n",
    "print(pca_features.shape)\n"
   ]
  },
  {
   "cell_type": "markdown",
   "id": "e9c5617a-73e6-4c91-82e5-823c6d4e6aa9",
   "metadata": {},
   "source": [
    "#### A tf-idf word-frequency array"
   ]
  },
  {
   "cell_type": "code",
   "execution_count": null,
   "id": "db00d24f-ad6d-4b40-9031-561794c25fcc",
   "metadata": {},
   "outputs": [],
   "source": [
    "# Import TfidfVectorizer\n",
    "from sklearn.feature_extraction.text import TfidfVectorizer\n",
    "\n",
    "# Create a TfidfVectorizer: tfidf\n",
    "tfidf = TfidfVectorizer()\n",
    "\n",
    "# Apply fit_transform to document: csr_mat\n",
    "csr_mat = tfidf.fit_transform(documents)\n",
    "\n",
    "# Print result of toarray() method\n",
    "print(csr_mat.toarray())\n",
    "\n",
    "# Get the words: words\n",
    "words = tfidf.get_feature_names()\n",
    "\n",
    "# Print words\n",
    "print(words)\n"
   ]
  },
  {
   "cell_type": "markdown",
   "id": "6b76afab-3a22-42a0-8730-0a4b4a5044c9",
   "metadata": {},
   "source": [
    "#### Clustering Wikipedia part 1"
   ]
  },
  {
   "cell_type": "code",
   "execution_count": null,
   "id": "893a16db-232c-42cb-96db-efcf0ed562fc",
   "metadata": {},
   "outputs": [],
   "source": [
    "# Perform the necessary imports\n",
    "from sklearn.decomposition import TruncatedSVD\n",
    "from sklearn.cluster import KMeans\n",
    "from sklearn.pipeline import make_pipeline\n",
    "\n",
    "# Create a TruncatedSVD instance: svd\n",
    "svd = TruncatedSVD(n_components=50)\n",
    "\n",
    "# Create a KMeans instance: kmeans\n",
    "kmeans = KMeans(n_clusters=6)\n",
    "\n",
    "# Create a pipeline: pipeline\n",
    "pipeline = make_pipeline(svd, kmeans)\n"
   ]
  },
  {
   "cell_type": "markdown",
   "id": "4168f3ac-b7e8-4ab2-a223-e241819ffbdf",
   "metadata": {},
   "source": [
    "#### Clustering Wikipedia part 2"
   ]
  },
  {
   "cell_type": "code",
   "execution_count": null,
   "id": "cb07a226-74f5-486e-9049-1a78b4d37276",
   "metadata": {},
   "outputs": [],
   "source": [
    "# Import pandas\n",
    "import pandas as pd\n",
    "\n",
    "# Fit the pipeline to articles\n",
    "pipeline.fit(articles)\n",
    "\n",
    "# Calculate the cluster labels: labels\n",
    "labels = pipeline.predict(articles)\n",
    "\n",
    "# Create a DataFrame aligning labels and titles: df\n",
    "df = pd.DataFrame({'label': labels, 'article': titles})\n",
    "\n",
    "# Display df sorted by cluster label\n",
    "print(df.sort_values(by='label'))\n"
   ]
  },
  {
   "cell_type": "markdown",
   "id": "d33cf94d-12b3-4c46-9061-a390840e07dd",
   "metadata": {},
   "source": [
    "### 실습"
   ]
  },
  {
   "cell_type": "code",
   "execution_count": null,
   "id": "cae804c4-38e5-4377-8e0d-96361fdf046c",
   "metadata": {},
   "outputs": [],
   "source": []
  },
  {
   "cell_type": "markdown",
   "id": "27c77447-7360-4c23-b281-860579cd1533",
   "metadata": {
    "tags": []
   },
   "source": [
    "## 4. Discovering interpretable features"
   ]
  },
  {
   "cell_type": "markdown",
   "id": "0506fd81-7d6e-4f9f-a246-374366c029d6",
   "metadata": {},
   "source": [
    "### Non-negative matrix factorization (NMF)"
   ]
  },
  {
   "cell_type": "markdown",
   "id": "bfb9058b-f4ad-4ec8-8166-18b1cfab943d",
   "metadata": {},
   "source": [
    "* 비음수 행렬 분해\n",
    "* PCA와 달리 해석 가능\n",
    "* 샘플 특성이 0보다 같거나 커야 함"
   ]
  },
  {
   "cell_type": "markdown",
   "id": "dd96968b-2739-4afa-8e76-5dffb0fe8bb0",
   "metadata": {},
   "source": [
    "#### Non-negative data"
   ]
  },
  {
   "cell_type": "markdown",
   "id": "e11b9f41-0cb6-437f-955d-1d68d1114667",
   "metadata": {},
   "source": [
    "Which of the following 2-dimensional arrays are examples of non-negative data?  \n",
    "  \n",
    "1. A tf-idf word-frequency array.  \n",
    "2. An array daily stock market price movements (up and down), where each row represents a company.  \n",
    "3. An array where rows are customers, columns are products and entries are 0 or 1, indicating whether a customer has purchased a product.  \n",
    "  \n",
    "* The answer is 1 and 3"
   ]
  },
  {
   "cell_type": "markdown",
   "id": "7f65336a-19c5-49bc-a76e-149d76be0370",
   "metadata": {},
   "source": [
    "#### NMF applied to Wikipedia articles"
   ]
  },
  {
   "cell_type": "code",
   "execution_count": null,
   "id": "c3106f7b-3a8e-4323-b21c-18e79461a03a",
   "metadata": {},
   "outputs": [],
   "source": [
    "# Import NMF\n",
    "from sklearn.decomposition import NMF\n",
    "\n",
    "# Create an NMF instance: model\n",
    "model = NMF(n_components=6)\n",
    "\n",
    "# Fit the model to articles\n",
    "model.fit(articles)\n",
    "\n",
    "# Transform the articles: nmf_features\n",
    "nmf_features = model.transform(articles)\n",
    "\n",
    "# Print the NMF features\n",
    "print(nmf_features.round(2))\n"
   ]
  },
  {
   "cell_type": "markdown",
   "id": "2e183771-94e7-48d1-b10c-9b8ebe339e9d",
   "metadata": {},
   "source": [
    "#### NMF features of the Wikipedia articles"
   ]
  },
  {
   "cell_type": "code",
   "execution_count": null,
   "id": "98f1ce4a-6f5c-4b22-af59-43270a7ec204",
   "metadata": {},
   "outputs": [],
   "source": [
    "# Import pandas\n",
    "import pandas as pd\n",
    "\n",
    "# Create a pandas DataFrame: df\n",
    "df = pd.DataFrame(index=titles, data=nmf_features)\n",
    "\n",
    "# Print the row for 'Anne Hathaway'\n",
    "print(df.loc['Anne Hathaway'])\n",
    "\n",
    "# Print the row for 'Denzel Washington'\n",
    "print(df.loc['Denzel Washington'])\n"
   ]
  },
  {
   "cell_type": "markdown",
   "id": "486d15d1-dd19-4a3f-9075-8b5c4ef86c93",
   "metadata": {},
   "source": [
    "### NMF learns interpretable parts"
   ]
  },
  {
   "cell_type": "markdown",
   "id": "32250b18-0519-4a67-8389-56192453e7a2",
   "metadata": {},
   "source": [
    "#### NMF learns topics of documents"
   ]
  },
  {
   "cell_type": "code",
   "execution_count": null,
   "id": "30b8fb2e-1250-4e0c-a537-bafe6aea0d5e",
   "metadata": {},
   "outputs": [],
   "source": [
    "# Import pandas\n",
    "import pandas as pd\n",
    "\n",
    "# Create a DataFrame: components_df\n",
    "components_df = pd.DataFrame(data=model.components_, columns=words)\n",
    "\n",
    "# Print the shape of the DataFrame\n",
    "print(components_df.shape)\n",
    "\n",
    "# Select row 3: component\n",
    "component = components_df.iloc[3]\n",
    "\n",
    "# Print result of nlargest\n",
    "print(component.nlargest())\n"
   ]
  },
  {
   "cell_type": "markdown",
   "id": "cfd4b24e-ba52-4da8-b568-21728a3ace88",
   "metadata": {},
   "source": [
    "#### Explore the LED digits dataset"
   ]
  },
  {
   "cell_type": "code",
   "execution_count": null,
   "id": "a39c7afa-63cb-471e-8e11-11379ba78f9d",
   "metadata": {},
   "outputs": [],
   "source": [
    "# Import pyplot\n",
    "from matplotlib import pyplot as plt\n",
    "\n",
    "# Select the 0th row: digit\n",
    "digit = samples[0]\n",
    "\n",
    "# Print digit\n",
    "print(digit)\n",
    "\n",
    "# Reshape digit to a 13x8 array: bitmap\n",
    "bitmap = digit.reshape(13, 8)\n",
    "\n",
    "# Print bitmap\n",
    "print(bitmap)\n",
    "\n",
    "# Use plt.imshow to display bitmap\n",
    "plt.imshow(bitmap, cmap='gray', interpolation='nearest')\n",
    "plt.colorbar()\n",
    "plt.show()"
   ]
  },
  {
   "cell_type": "markdown",
   "id": "f7764d20-0f48-4848-abfc-22c9b869c62c",
   "metadata": {},
   "source": [
    "![img](led_digits_dataset.svg)"
   ]
  },
  {
   "cell_type": "markdown",
   "id": "81217a64-319e-43c4-a58e-a3f95db4995f",
   "metadata": {},
   "source": [
    "#### NMF learns the parts of images"
   ]
  },
  {
   "cell_type": "code",
   "execution_count": null,
   "id": "06fc0598-4f6f-4cee-8c09-eec9d5bb81cc",
   "metadata": {},
   "outputs": [],
   "source": [
    "# Import NMF\n",
    "from sklearn.decomposition import NMF\n",
    "\n",
    "# Create an NMF model: model\n",
    "model = NMF(n_components=7)\n",
    "\n",
    "# Apply fit_transform to samples: features\n",
    "features = model.fit_transform(samples)\n",
    "\n",
    "# Call show_as_image on each component\n",
    "for component in model.components_:\n",
    "    show_as_image(component)\n",
    "\n",
    "# Select the 0th row of features: digit_features\n",
    "digit_features = features[0]\n",
    "\n",
    "# Print digit_features\n",
    "print(digit_features)"
   ]
  },
  {
   "cell_type": "markdown",
   "id": "cab34043-e206-4dde-a444-0e985826683a",
   "metadata": {},
   "source": [
    "![g](nmf_learns_the_parts_of_img.svg)"
   ]
  },
  {
   "cell_type": "markdown",
   "id": "95ca3feb-9280-4978-a943-552709c8a4b7",
   "metadata": {},
   "source": [
    "#### PCA doesn't learn parts"
   ]
  },
  {
   "cell_type": "code",
   "execution_count": null,
   "id": "6c631d08-ccc9-416b-9678-6ed2129b40f9",
   "metadata": {},
   "outputs": [],
   "source": [
    "# Import PCA\n",
    "from sklearn.decomposition import PCA\n",
    "\n",
    "# Create a PCA instance: model\n",
    "model = PCA(n_components=7)\n",
    "\n",
    "# Apply fit_transform to samples: features\n",
    "features = model.fit_transform(samples)\n",
    "\n",
    "# Call show_as_image on each component\n",
    "for component in model.components_:\n",
    "    show_as_image(component)"
   ]
  },
  {
   "cell_type": "markdown",
   "id": "9e7c929d-4143-49ff-9247-72926e8d64bf",
   "metadata": {},
   "source": [
    "![a](pca_doesnt_learn_parts.svg)"
   ]
  },
  {
   "cell_type": "markdown",
   "id": "163a468c-1d2e-4b14-8caa-6e73b72fa9f8",
   "metadata": {},
   "source": [
    "### Building recommender systems using NMF"
   ]
  },
  {
   "cell_type": "markdown",
   "id": "9ec76809-e6ff-4136-9b55-a1e03d6c1c5b",
   "metadata": {},
   "source": [
    "#### Which articles are similar to 'Cristiano Ronalodo'?"
   ]
  },
  {
   "cell_type": "code",
   "execution_count": null,
   "id": "6c5189ef-5438-40d5-83d2-d8779e4fcb68",
   "metadata": {},
   "outputs": [],
   "source": [
    "# Perform the necessary imports\n",
    "import pandas as pd\n",
    "from sklearn.preprocessing import normalize\n",
    "\n",
    "# Normalize the NMF features: norm_features\n",
    "norm_features = normalize(nmf_features)\n",
    "\n",
    "# Create a DataFrame: df\n",
    "df = pd.DataFrame(data=norm_features, index=titles)\n",
    "\n",
    "# Select the row corresponding to 'Cristiano Ronaldo': article\n",
    "article = df.loc['Cristiano Ronaldo']\n",
    "\n",
    "# Compute the dot products: similarities\n",
    "similarities = df.dot(article)\n",
    "\n",
    "# Display those with the largest cosine similarity\n",
    "print(similarities.nlargest())"
   ]
  },
  {
   "cell_type": "markdown",
   "id": "b276b315-910a-46c0-b8ef-6a649c99b1af",
   "metadata": {},
   "source": [
    "#### Recommend musical artists part 1"
   ]
  },
  {
   "cell_type": "code",
   "execution_count": null,
   "id": "83157277-d50f-40f6-8d26-c04a9075bd9f",
   "metadata": {},
   "outputs": [],
   "source": [
    "# Perform the necessary imports\n",
    "from sklearn.decomposition import NMF\n",
    "from sklearn.preprocessing import Normalizer, MaxAbsScaler\n",
    "from sklearn.pipeline import make_pipeline\n",
    "\n",
    "# Create a MaxAbsScaler: scaler\n",
    "scaler = MaxAbsScaler()\n",
    "\n",
    "# Create an NMF model: nmf\n",
    "nmf = NMF(n_components=20)\n",
    "\n",
    "# Create a Normalizer: normalizer\n",
    "normalizer = Normalizer()\n",
    "\n",
    "# Create a pipeline: pipeline\n",
    "pipeline = make_pipeline(scaler, nmf, normalizer)\n",
    "\n",
    "# Apply fit_transform to artists: norm_features\n",
    "norm_features = pipeline.fit_transform(artists)\n"
   ]
  },
  {
   "cell_type": "markdown",
   "id": "72639695-ab0a-4aca-8f21-444870a8e9e9",
   "metadata": {},
   "source": [
    "#### Recommend musical artists part 2"
   ]
  },
  {
   "cell_type": "code",
   "execution_count": null,
   "id": "a12c4d4b-dc25-499a-a3da-cca0ed78faf8",
   "metadata": {},
   "outputs": [],
   "source": [
    "# Import pandas\n",
    "import pandas as pd\n",
    "\n",
    "# Create a DataFrame: df\n",
    "df = pd.DataFrame(data=norm_features, index=artist_names)\n",
    "\n",
    "# Select row of 'Bruce Springsteen': artist\n",
    "artist = df.loc['Bruce Springsteen']\n",
    "\n",
    "# Compute cosine similarities: similarities\n",
    "similarities = df.dot(artist)\n",
    "\n",
    "# Display those with highest cosine similarity\n",
    "print(similarities.nlargest())\n"
   ]
  },
  {
   "cell_type": "markdown",
   "id": "826b5c6f-99f4-4f44-9753-9748e0e69caf",
   "metadata": {},
   "source": [
    "### 실습"
   ]
  },
  {
   "cell_type": "code",
   "execution_count": null,
   "id": "d7709387-274d-4344-b329-0a77d4268448",
   "metadata": {},
   "outputs": [],
   "source": []
  },
  {
   "cell_type": "code",
   "execution_count": null,
   "id": "8325fba2-269b-4740-8159-1d9eb8c577d6",
   "metadata": {},
   "outputs": [],
   "source": []
  }
 ],
 "metadata": {
  "kernelspec": {
   "display_name": "Python 3 (ipykernel)",
   "language": "python",
   "name": "python3"
  },
  "language_info": {
   "codemirror_mode": {
    "name": "ipython",
    "version": 3
   },
   "file_extension": ".py",
   "mimetype": "text/x-python",
   "name": "python",
   "nbconvert_exporter": "python",
   "pygments_lexer": "ipython3",
   "version": "3.9.6"
  }
 },
 "nbformat": 4,
 "nbformat_minor": 5
}
