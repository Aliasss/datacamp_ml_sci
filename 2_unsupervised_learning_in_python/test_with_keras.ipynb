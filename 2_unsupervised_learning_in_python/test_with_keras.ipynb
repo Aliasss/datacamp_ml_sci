{
 "cells": [
  {
   "cell_type": "markdown",
   "id": "2cdc7772-4ff8-46b4-85fd-c904698b9839",
   "metadata": {},
   "source": [
    "* Edmunds, Amazon, Tripadvisor uci 리뷰 데이터\n",
    "    * 51개의 .data 확장자 파일 \n",
    "* (1) 주제별로 군집화\n",
    "* (2) 문서 유사도"
   ]
  },
  {
   "cell_type": "markdown",
   "id": "7dea8a9c-2129-431f-bd63-6bfce78d1576",
   "metadata": {},
   "source": [
    "**TF-IDF (Term Frequency-Inverse Document Frequency) 벡터화**\n",
    "* 문서의 유사도를 구하는 작업, 검색 시스템에서 검색 결과의 중요도를 정하는 작업, 문서 내에서 특정 단어의 중요도를 구하는 작업 등에 쓰임\n",
    "* 카운트 벡터화의 보완\n",
    "    * 단어 피처에 단어 count를 부여하는 방법\n",
    "    * 문장에서 자주 사용될 수밖에 없는 단어들에도 높은 가중치가 부여되는 단점\n",
    "* TF * IDF\n",
    "    * 자주 나타나는 단어에 높은 가중치를 줌 & 모든 문서에서 높은 빈도로 나타나는 단어에 패널티 부여\n",
    "        * ex) 당연히-와 같은 불용어\n",
    "    * TF-IDF 값이 크면 중요도가 높고, 낮으면 중요도가 적은 단어\n",
    "    * TF (Term Frequency) : 개별 문서에서의 단어 i 빈도\n",
    "    * DF (Document Frequency) : 단어 i가 등장한 문서의 개수\n",
    "    * IDF (Inverse Document Frequency) : DF의 역수 "
   ]
  },
  {
   "cell_type": "markdown",
   "id": "92487e29-fd29-48bc-b932-8b98cb42c1a8",
   "metadata": {},
   "source": [
    "![tf-idf](tf-idf.png)"
   ]
  },
  {
   "cell_type": "code",
   "execution_count": 1,
   "id": "da32c045-8bcc-4724-9d20-c809e8de3678",
   "metadata": {},
   "outputs": [
    {
     "name": "stdout",
     "output_type": "stream",
     "text": [
      "(51, 2)\n"
     ]
    },
    {
     "data": {
      "text/html": [
       "<div>\n",
       "<style scoped>\n",
       "    .dataframe tbody tr th:only-of-type {\n",
       "        vertical-align: middle;\n",
       "    }\n",
       "\n",
       "    .dataframe tbody tr th {\n",
       "        vertical-align: top;\n",
       "    }\n",
       "\n",
       "    .dataframe thead th {\n",
       "        text-align: right;\n",
       "    }\n",
       "</style>\n",
       "<table border=\"1\" class=\"dataframe\">\n",
       "  <thead>\n",
       "    <tr style=\"text-align: right;\">\n",
       "      <th></th>\n",
       "      <th>title</th>\n",
       "      <th>content</th>\n",
       "    </tr>\n",
       "  </thead>\n",
       "  <tbody>\n",
       "    <tr>\n",
       "      <th>0</th>\n",
       "      <td>battery-life_ipod_nano_8gb</td>\n",
       "      <td>short battery life  I moved up from a...</td>\n",
       "    </tr>\n",
       "    <tr>\n",
       "      <th>1</th>\n",
       "      <td>gas_mileage_toyota_camry_2007</td>\n",
       "      <td>Ride seems comfortable and gas mileage fa...</td>\n",
       "    </tr>\n",
       "    <tr>\n",
       "      <th>2</th>\n",
       "      <td>room_holiday_inn_london</td>\n",
       "      <td>We arrived at 23,30 hours and they could n...</td>\n",
       "    </tr>\n",
       "    <tr>\n",
       "      <th>3</th>\n",
       "      <td>location_holiday_inn_london</td>\n",
       "      <td>Great location for tube and we crammed in...</td>\n",
       "    </tr>\n",
       "    <tr>\n",
       "      <th>4</th>\n",
       "      <td>staff_bestwestern_hotel_sfo</td>\n",
       "      <td>Staff are friendly and hel...</td>\n",
       "    </tr>\n",
       "  </tbody>\n",
       "</table>\n",
       "</div>"
      ],
      "text/plain": [
       "                           title  \\\n",
       "0     battery-life_ipod_nano_8gb   \n",
       "1  gas_mileage_toyota_camry_2007   \n",
       "2        room_holiday_inn_london   \n",
       "3    location_holiday_inn_london   \n",
       "4    staff_bestwestern_hotel_sfo   \n",
       "\n",
       "                                             content  \n",
       "0           short battery life  I moved up from a...  \n",
       "1       Ride seems comfortable and gas mileage fa...  \n",
       "2      We arrived at 23,30 hours and they could n...  \n",
       "3       Great location for tube and we crammed in...  \n",
       "4                      Staff are friendly and hel...  "
      ]
     },
     "metadata": {},
     "output_type": "display_data"
    }
   ],
   "source": [
    "# Module\n",
    "import matplotlib.pyplot as plt\n",
    "import numpy as np\n",
    "import seaborn as sns\n",
    "from glob import glob\n",
    "import os\n",
    "import pandas as pd\n",
    "from sklearn.cluster import KMeans\n",
    "from sklearn.feature_extraction.text import TfidfVectorizer\n",
    "import warnings; warnings.filterwarnings('ignore')\n",
    "\n",
    "file_dir = './opinion_data/topics/'\n",
    "file_titles, contents = [], []\n",
    "\n",
    "# 파일 제목과 파일 내용을 담고 있는 DataFrame 생성 (df)\n",
    "# print(glob(os.path.join(file_dir, '*.data'))[0]) # file 포맷 예시 출력\n",
    "for file in glob(os.path.join(file_dir, '*.data')):\n",
    "    # 파일 제목\n",
    "    file_title = file.split('/')[-1].split('.')[0]\n",
    "    file_titles.append(file_title)\n",
    "    # 파일 내용\n",
    "    contents.append(pd.read_table(file, header=0, encoding='latin1'))\n",
    "    \n",
    "df = pd.DataFrame({'title':file_titles\n",
    "                   , 'content':contents})\n",
    "print(df.shape)\n",
    "display(df.head())"
   ]
  },
  {
   "cell_type": "code",
   "execution_count": 5,
   "id": "f1e944c6-98a0-4c7e-abb5-a1025da4ebee",
   "metadata": {},
   "outputs": [],
   "source": [
    "# from nltk.tokenize import word_tokenize\n",
    "# from nltk.tokenize import WordPunctTokenizer\n",
    "import string\n",
    "# from nltk.stem import WordNetLemmatizer"
   ]
  },
  {
   "cell_type": "code",
   "execution_count": 2,
   "id": "1aaf7c83-aaa9-4f4d-8671-51e96d847241",
   "metadata": {},
   "outputs": [
    {
     "name": "stderr",
     "output_type": "stream",
     "text": [
      "2022-09-21 14:47:14.329958: I tensorflow/core/platform/cpu_feature_guard.cc:193] This TensorFlow binary is optimized with oneAPI Deep Neural Network Library (oneDNN) to use the following CPU instructions in performance-critical operations:  AVX2 FMA\n",
      "To enable them in other operations, rebuild TensorFlow with the appropriate compiler flags.\n"
     ]
    }
   ],
   "source": [
    "from tensorflow.keras.preprocessing.text import text_to_word_sequence"
   ]
  },
  {
   "cell_type": "code",
   "execution_count": 47,
   "id": "5419b36c-e6b2-422e-97ef-7c17927b85f1",
   "metadata": {},
   "outputs": [
    {
     "data": {
      "text/plain": [
       "['abcd3', '33', '2ss', 'ait']"
      ]
     },
     "execution_count": 47,
     "metadata": {},
     "output_type": "execute_result"
    }
   ],
   "source": [
    "text_to_word_sequence('ABCD3.33!!2ss^^!ait')"
   ]
  },
  {
   "cell_type": "code",
   "execution_count": 32,
   "id": "b5b39195-2b88-43ae-8e5a-a69a5bbfb00f",
   "metadata": {},
   "outputs": [
    {
     "data": {
      "text/plain": [
       "<51x27 sparse matrix of type '<class 'numpy.float64'>'\n",
       "\twith 106 stored elements in Compressed Sparse Row format>"
      ]
     },
     "execution_count": 32,
     "metadata": {},
     "output_type": "execute_result"
    }
   ],
   "source": [
    "# 소문자 (lower_content)\n",
    "def content_lower(row):\n",
    "    li = []\n",
    "    for i in row:\n",
    "        for j in i:\n",
    "            li.append(j.lower())\n",
    "    return li\n",
    "\n",
    "df['lower_content'] = content_lower(df['content'])\n",
    "\n",
    "# 특수문자 제거 (del_punc)\n",
    "del_punc = dict((ord(punc), None) for punc in string.punctuation)  # '!\"#$%&\\'()*+,-./:;<=>?@[\\\\]^_`{|}~' 를 아스키 코드로 변환 후 None\n",
    "\n",
    "\n",
    "# 표제어 추출을 위한 Lemmatization 커스텀 코드 작업\n",
    "# Lemmatization : am, are, is의 뿌리 단어 = be\n",
    "\n",
    "import nltk\n",
    "# nltk.download('omw-1.4')\n",
    "# nltk.download('wordnet')\n",
    "# nltk.download('punkt')\n",
    "# dler = nltk.downloader.Downloader()\n",
    "# dler._update_index()\n",
    "# dler.download('all')\n",
    "\n",
    "\n",
    "import string\n",
    "from nltk.stem import WordNetLemmatizer\n",
    "\n",
    "lemmatizer = WordNetLemmatizer()\n",
    "\n",
    "def token(tokens):\n",
    "    return [lemmatizer.lemmatize(token) for token in tokens]\n",
    "\n",
    "def LemNormalizer(text):\n",
    "    return token(text_to_word_sequence(text))\n",
    "\n",
    "# TF-IDF 벡터화\n",
    "tfidf = TfidfVectorizer(tokenizer=LemNormalizer,\n",
    "                       stop_words='english',\n",
    "                       ngram_range=(1, 2), \n",
    "                       min_df=0.05, max_df=0.90) # min_df : 전체 documents에서 너무 낮은 빈도의 단어 피처는 제외 (하위 5% 이하의 빈도수를 지닌 단어는 제외)\n",
    "                                                 # max_df : 전체 documents에서 너무 높은 빈도의 단어 피처는 제외 (0%~90% 의 빈도수를 지닌 단어만 포함, 상위 10% 빈도수의 단어는 제외)\n",
    "                                                 # ngram_range : 단어 묶음 1~2개로 설정 (단어가 여러 개 묶여야 의미를 갖는 단어들이 있으므로)\n",
    "# fit_transform content (피처 벡터화된 matrix)\n",
    "vect = tfidf.fit_transform(df['lower_content'])\n",
    "vect"
   ]
  },
  {
   "cell_type": "code",
   "execution_count": 33,
   "id": "335fc3d8-7608-46c0-a1f8-366ed66ce3e3",
   "metadata": {},
   "outputs": [
    {
     "name": "stdout",
     "output_type": "stream",
     "text": [
      "0    32\n",
      "2    12\n",
      "1     7\n",
      "Name: cluster, dtype: int64\n"
     ]
    }
   ],
   "source": [
    "from sklearn.cluster import KMeans\n",
    "\n",
    "km_cluster = KMeans(n_clusters=3, max_iter=10000, random_state=0)\n",
    "km_cluster.fit(vect)\n",
    "cluster_label = km_cluster.labels_\n",
    "cluster_centers = km_cluster.cluster_centers_\n",
    "\n",
    "df['cluster'] = cluster_label\n",
    "df.sort_values(by='cluster')\n",
    "print(df.cluster.value_counts())"
   ]
  },
  {
   "cell_type": "code",
   "execution_count": 11,
   "id": "520b4497-e510-46fc-9abb-ebb3d069f092",
   "metadata": {},
   "outputs": [
    {
     "data": {
      "text/html": [
       "<div>\n",
       "<style scoped>\n",
       "    .dataframe tbody tr th:only-of-type {\n",
       "        vertical-align: middle;\n",
       "    }\n",
       "\n",
       "    .dataframe tbody tr th {\n",
       "        vertical-align: top;\n",
       "    }\n",
       "\n",
       "    .dataframe thead th {\n",
       "        text-align: right;\n",
       "    }\n",
       "</style>\n",
       "<table border=\"1\" class=\"dataframe\">\n",
       "  <thead>\n",
       "    <tr style=\"text-align: right;\">\n",
       "      <th></th>\n",
       "      <th>title</th>\n",
       "      <th>content</th>\n",
       "      <th>lower_content</th>\n",
       "      <th>cluster</th>\n",
       "    </tr>\n",
       "  </thead>\n",
       "  <tbody>\n",
       "    <tr>\n",
       "      <th>2</th>\n",
       "      <td>room_holiday_inn_london</td>\n",
       "      <td>We arrived at 23,30 hours and they could n...</td>\n",
       "      <td>we arrived at 23,30 hours and they could not r...</td>\n",
       "      <td>2</td>\n",
       "    </tr>\n",
       "    <tr>\n",
       "      <th>3</th>\n",
       "      <td>location_holiday_inn_london</td>\n",
       "      <td>Great location for tube and we crammed in...</td>\n",
       "      <td>great location for tube and we crammed in a f...</td>\n",
       "      <td>2</td>\n",
       "    </tr>\n",
       "    <tr>\n",
       "      <th>12</th>\n",
       "      <td>keyboard_netbook_1005ha</td>\n",
       "      <td>,  I think the new keyboard rivals the gre...</td>\n",
       "      <td>,  i think the new keyboard rivals the great h...</td>\n",
       "      <td>2</td>\n",
       "    </tr>\n",
       "    <tr>\n",
       "      <th>14</th>\n",
       "      <td>video_ipod_nano_8gb</td>\n",
       "      <td>I bought the 8, gig Ipod Nano that has the...</td>\n",
       "      <td>i bought the 8, gig ipod nano that has the bui...</td>\n",
       "      <td>2</td>\n",
       "    </tr>\n",
       "    <tr>\n",
       "      <th>20</th>\n",
       "      <td>staff_swissotel_chicago</td>\n",
       "      <td>The staff at Swissotel were not particula...</td>\n",
       "      <td>the staff at swissotel were not particularly ...</td>\n",
       "      <td>2</td>\n",
       "    </tr>\n",
       "    <tr>\n",
       "      <th>22</th>\n",
       "      <td>interior_toyota_camry_2007</td>\n",
       "      <td>First of all, the interior has way too ma...</td>\n",
       "      <td>first of all, the interior has way too many c...</td>\n",
       "      <td>2</td>\n",
       "    </tr>\n",
       "    <tr>\n",
       "      <th>23</th>\n",
       "      <td>transmission_toyota_camry_2007</td>\n",
       "      <td>After slowing down, transmission has to b...</td>\n",
       "      <td>after slowing down, transmission has to be  k...</td>\n",
       "      <td>2</td>\n",
       "    </tr>\n",
       "    <tr>\n",
       "      <th>28</th>\n",
       "      <td>price_holiday_inn_london</td>\n",
       "      <td>All in all, a normal chain hotel on a nice...</td>\n",
       "      <td>all in all, a normal chain hotel on a nice loc...</td>\n",
       "      <td>2</td>\n",
       "    </tr>\n",
       "    <tr>\n",
       "      <th>38</th>\n",
       "      <td>navigation_amazon_kindle</td>\n",
       "      <td>In fact, the entire navigation structure h...</td>\n",
       "      <td>in fact, the entire navigation structure has ...</td>\n",
       "      <td>2</td>\n",
       "    </tr>\n",
       "    <tr>\n",
       "      <th>46</th>\n",
       "      <td>rooms_bestwestern_hotel_sfo</td>\n",
       "      <td>Great Location ,  Nice   Rooms ,  Helpless...</td>\n",
       "      <td>great location ,  nice   rooms ,  helpless con...</td>\n",
       "      <td>2</td>\n",
       "    </tr>\n",
       "    <tr>\n",
       "      <th>47</th>\n",
       "      <td>performance_honda_accord_2008</td>\n",
       "      <td>Very happy with my 08 Accord, performance i...</td>\n",
       "      <td>very happy with my 08 accord, performance is q...</td>\n",
       "      <td>2</td>\n",
       "    </tr>\n",
       "    <tr>\n",
       "      <th>49</th>\n",
       "      <td>free_bestwestern_hotel_sfo</td>\n",
       "      <td>The wine reception is a great idea as it i...</td>\n",
       "      <td>the wine reception is a great idea as it is ni...</td>\n",
       "      <td>2</td>\n",
       "    </tr>\n",
       "  </tbody>\n",
       "</table>\n",
       "</div>"
      ],
      "text/plain": [
       "                             title  \\\n",
       "2          room_holiday_inn_london   \n",
       "3      location_holiday_inn_london   \n",
       "12         keyboard_netbook_1005ha   \n",
       "14             video_ipod_nano_8gb   \n",
       "20         staff_swissotel_chicago   \n",
       "22      interior_toyota_camry_2007   \n",
       "23  transmission_toyota_camry_2007   \n",
       "28        price_holiday_inn_london   \n",
       "38        navigation_amazon_kindle   \n",
       "46     rooms_bestwestern_hotel_sfo   \n",
       "47   performance_honda_accord_2008   \n",
       "49      free_bestwestern_hotel_sfo   \n",
       "\n",
       "                                              content  \\\n",
       "2       We arrived at 23,30 hours and they could n...   \n",
       "3        Great location for tube and we crammed in...   \n",
       "12      ,  I think the new keyboard rivals the gre...   \n",
       "14      I bought the 8, gig Ipod Nano that has the...   \n",
       "20       The staff at Swissotel were not particula...   \n",
       "22       First of all, the interior has way too ma...   \n",
       "23       After slowing down, transmission has to b...   \n",
       "28      All in all, a normal chain hotel on a nice...   \n",
       "38      In fact, the entire navigation structure h...   \n",
       "46      Great Location ,  Nice   Rooms ,  Helpless...   \n",
       "47     Very happy with my 08 Accord, performance i...   \n",
       "49      The wine reception is a great idea as it i...   \n",
       "\n",
       "                                        lower_content  cluster  \n",
       "2   we arrived at 23,30 hours and they could not r...        2  \n",
       "3    great location for tube and we crammed in a f...        2  \n",
       "12  ,  i think the new keyboard rivals the great h...        2  \n",
       "14  i bought the 8, gig ipod nano that has the bui...        2  \n",
       "20   the staff at swissotel were not particularly ...        2  \n",
       "22   first of all, the interior has way too many c...        2  \n",
       "23   after slowing down, transmission has to be  k...        2  \n",
       "28  all in all, a normal chain hotel on a nice loc...        2  \n",
       "38   in fact, the entire navigation structure has ...        2  \n",
       "46  great location ,  nice   rooms ,  helpless con...        2  \n",
       "47  very happy with my 08 accord, performance is q...        2  \n",
       "49  the wine reception is a great idea as it is ni...        2  "
      ]
     },
     "execution_count": 11,
     "metadata": {},
     "output_type": "execute_result"
    }
   ],
   "source": [
    "df.loc[df['cluster']==2]"
   ]
  },
  {
   "cell_type": "code",
   "execution_count": 39,
   "id": "f0b621c7-e32f-44a8-910d-bef14238ac41",
   "metadata": {},
   "outputs": [
    {
     "name": "stdout",
     "output_type": "stream",
     "text": [
      "2로 클러스터링 된 문서들의 DF Index: Int64Index([2, 3, 12, 14, 20, 22, 23, 28, 38, 46, 47, 49], dtype='int64')\n",
      "\n",
      "비교 기준 문서명  room_holiday_inn_london과 타 문서 유사도\n",
      "[[1.         0.         0.         0.         0.72291615 0.\n",
      "  0.         0.32167346 0.         0.51391196 0.3436457  0.43799056]]\n"
     ]
    }
   ],
   "source": [
    "# cosine similarity\n",
    "from sklearn.metrics.pairwise import cosine_similarity\n",
    "\n",
    "# cluster_label=2\n",
    "label2_indexes = df[df['cluster']==2].index\n",
    "print('2로 클러스터링 된 문서들의 DF Index:', label2_indexes)\n",
    "\n",
    "# 첫번째 문서를 추출하여 파일명 표시\n",
    "comparison_doc = df.iloc[label2_indexes[0]]['title']\n",
    "print('\\n비교 기준 문서명 ', comparison_doc+'과 타 문서 유사도')\n",
    "\n",
    "'''df에서 추출한 Index 객체를 vect로 입력하여 클러스터링된 vect 추출 \n",
    "이를 이용하여 cluster=2로 클러스터링된 문서 중 첫 번째 문서와 다른 문서간의 코사인 유사도 측정'''\n",
    "similarity_cluster2 = cosine_similarity(vect[label2_indexes[0]] , vect[label2_indexes])\n",
    "print(similarity_cluster2)"
   ]
  },
  {
   "cell_type": "code",
   "execution_count": 42,
   "id": "4ef95506-5ede-4cb3-a3df-16e0a58a4890",
   "metadata": {},
   "outputs": [
    {
     "data": {
      "text/plain": [
       "Text(0.5, 1.0, 'room_holiday_inn_london')"
      ]
     },
     "execution_count": 42,
     "metadata": {},
     "output_type": "execute_result"
    },
    {
     "data": {
      "image/png": "[encoded data removed]",
      "text/plain": [
       "<Figure size 640x480 with 1 Axes>"
      ]
     },
     "metadata": {},
     "output_type": "display_data"
    }
   ],
   "source": [
    "# argsort()를 이용, 첫 번째 문서와 타 문서간 유사도가 큰 순으로 정렬한 인덱스 반환 (자기 자신 제외) \n",
    "sorted_index = similarity_cluster2.argsort()[:,::-1]\n",
    "sorted_index = sorted_index[:, 1:]\n",
    "\n",
    "# 유사도가 큰 순으로 index를 추출하여 다시 정렬 \n",
    "re_sorted_indexes = label2_indexes[sorted_index.reshape(-1)]\n",
    "\n",
    "# 유사도가 큰 순으로 유사도 값을 재정렬하되 자기 자신은 제외\n",
    "cluster2_sim_value = np.sort(similarity_cluster2.reshape(-1))[::-1]\n",
    "cluster2_sim_value = cluster2_sim_value[1:]\n",
    "\n",
    "# 유사도가 큰 순으로 정렬된 Index와 유사도값을 이용하여 파일명과 유사도값을 Seaborn 막대 그래프로 시각화\n",
    "cluster2_sim_df = pd.DataFrame()\n",
    "cluster2_sim_df['title'] = df.iloc[re_sorted_indexes]['title']\n",
    "cluster2_sim_df['similarity'] = cluster2_sim_value\n",
    "\n",
    "sns.barplot(x='similarity', y='title',data=cluster2_sim_df)\n",
    "plt.title(comparison_doc)"
   ]
  },
  {
   "cell_type": "code",
   "execution_count": null,
   "id": "4a09caf4-f605-4871-be3b-5815f59e91c8",
   "metadata": {},
   "outputs": [],
   "source": []
  }
 ],
 "metadata": {
  "kernelspec": {
   "display_name": "Python 3 (ipykernel)",
   "language": "python",
   "name": "python3"
  },
  "language_info": {
   "codemirror_mode": {
    "name": "ipython",
    "version": 3
   },
   "file_extension": ".py",
   "mimetype": "text/x-python",
   "name": "python",
   "nbconvert_exporter": "python",
   "pygments_lexer": "ipython3",
   "version": "3.9.6"
  }
 },
 "nbformat": 4,
 "nbformat_minor": 5
}
