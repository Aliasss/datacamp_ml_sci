{
 "cells": [
  {
   "cell_type": "code",
   "execution_count": 127,
   "id": "21286bee-3e6a-46a6-8976-c6973885210c",
   "metadata": {},
   "outputs": [],
   "source": [
    "import pandas as pd\n",
    "pd.set_option('display.max_columns', None)\n",
    "import numpy as np\n",
    "import seaborn as sns\n",
    "import matplotlib.pyplot as plt\n",
    "import time\n",
    "\n",
    "import warnings; warnings.filterwarnings('ignore')"
   ]
  },
  {
   "cell_type": "code",
   "execution_count": 41,
   "id": "d6515f4a-30a2-4ef2-aaaa-48e9a5a0deb2",
   "metadata": {},
   "outputs": [
    {
     "name": "stdout",
     "output_type": "stream",
     "text": [
      "(665, 35)\n"
     ]
    },
    {
     "data": {
      "text/html": [
       "<div>\n",
       "<style scoped>\n",
       "    .dataframe tbody tr th:only-of-type {\n",
       "        vertical-align: middle;\n",
       "    }\n",
       "\n",
       "    .dataframe tbody tr th {\n",
       "        vertical-align: top;\n",
       "    }\n",
       "\n",
       "    .dataframe thead th {\n",
       "        text-align: right;\n",
       "    }\n",
       "</style>\n",
       "<table border=\"1\" class=\"dataframe\">\n",
       "  <thead>\n",
       "    <tr style=\"text-align: right;\">\n",
       "      <th></th>\n",
       "      <th>opportunity_id</th>\n",
       "      <th>content_id</th>\n",
       "      <th>vol_requests</th>\n",
       "      <th>event_time</th>\n",
       "      <th>title</th>\n",
       "      <th>hits</th>\n",
       "      <th>summary</th>\n",
       "      <th>is_priority</th>\n",
       "      <th>category_id</th>\n",
       "      <th>category_desc</th>\n",
       "      <th>amsl</th>\n",
       "      <th>amsl_unit</th>\n",
       "      <th>org_title</th>\n",
       "      <th>org_content_id</th>\n",
       "      <th>addresses_count</th>\n",
       "      <th>locality</th>\n",
       "      <th>region</th>\n",
       "      <th>postalcode</th>\n",
       "      <th>primary_loc</th>\n",
       "      <th>display_url</th>\n",
       "      <th>recurrence_type</th>\n",
       "      <th>hours</th>\n",
       "      <th>created_date</th>\n",
       "      <th>last_modified_date</th>\n",
       "      <th>start_date_date</th>\n",
       "      <th>end_date_date</th>\n",
       "      <th>status</th>\n",
       "      <th>Latitude</th>\n",
       "      <th>Longitude</th>\n",
       "      <th>Community Board</th>\n",
       "      <th>Community Council</th>\n",
       "      <th>Census Tract</th>\n",
       "      <th>BIN</th>\n",
       "      <th>BBL</th>\n",
       "      <th>NTA</th>\n",
       "    </tr>\n",
       "  </thead>\n",
       "  <tbody>\n",
       "    <tr>\n",
       "      <th>0</th>\n",
       "      <td>4996</td>\n",
       "      <td>37004</td>\n",
       "      <td>50</td>\n",
       "      <td>0</td>\n",
       "      <td>Volunteers Needed For Rise Up &amp; Stay Put! Home...</td>\n",
       "      <td>737</td>\n",
       "      <td>Building on successful events last summer and ...</td>\n",
       "      <td>NaN</td>\n",
       "      <td>NaN</td>\n",
       "      <td>NaN</td>\n",
       "      <td>NaN</td>\n",
       "      <td>NaN</td>\n",
       "      <td>Center For NYC Neighborhoods</td>\n",
       "      <td>4426</td>\n",
       "      <td>1</td>\n",
       "      <td>NaN</td>\n",
       "      <td>NY</td>\n",
       "      <td>NaN</td>\n",
       "      <td>NaN</td>\n",
       "      <td>/opportunities/4996</td>\n",
       "      <td>onetime</td>\n",
       "      <td>0</td>\n",
       "      <td>January 13 2011</td>\n",
       "      <td>June 23 2011</td>\n",
       "      <td>July 30 2011</td>\n",
       "      <td>July 30 2011</td>\n",
       "      <td>approved</td>\n",
       "      <td>NaN</td>\n",
       "      <td>NaN</td>\n",
       "      <td>NaN</td>\n",
       "      <td>NaN</td>\n",
       "      <td>NaN</td>\n",
       "      <td>NaN</td>\n",
       "      <td>NaN</td>\n",
       "      <td>NaN</td>\n",
       "    </tr>\n",
       "    <tr>\n",
       "      <th>1</th>\n",
       "      <td>5008</td>\n",
       "      <td>37036</td>\n",
       "      <td>2</td>\n",
       "      <td>0</td>\n",
       "      <td>Web designer</td>\n",
       "      <td>22</td>\n",
       "      <td>Build a website for an Afghan business</td>\n",
       "      <td>NaN</td>\n",
       "      <td>1.0</td>\n",
       "      <td>Strengthening Communities</td>\n",
       "      <td>NaN</td>\n",
       "      <td>NaN</td>\n",
       "      <td>Bpeace</td>\n",
       "      <td>37026</td>\n",
       "      <td>1</td>\n",
       "      <td>5 22nd St\\nNew York, NY 10010\\n(40.74053152272...</td>\n",
       "      <td>NY</td>\n",
       "      <td>10010.0</td>\n",
       "      <td>NaN</td>\n",
       "      <td>/opportunities/5008</td>\n",
       "      <td>onetime</td>\n",
       "      <td>0</td>\n",
       "      <td>January 14 2011</td>\n",
       "      <td>January 25 2011</td>\n",
       "      <td>February 01 2011</td>\n",
       "      <td>February 01 2011</td>\n",
       "      <td>approved</td>\n",
       "      <td>NaN</td>\n",
       "      <td>NaN</td>\n",
       "      <td>NaN</td>\n",
       "      <td>NaN</td>\n",
       "      <td>NaN</td>\n",
       "      <td>NaN</td>\n",
       "      <td>NaN</td>\n",
       "      <td>NaN</td>\n",
       "    </tr>\n",
       "    <tr>\n",
       "      <th>2</th>\n",
       "      <td>5016</td>\n",
       "      <td>37143</td>\n",
       "      <td>20</td>\n",
       "      <td>0</td>\n",
       "      <td>Urban Adventures - Ice Skating at Lasker Rink</td>\n",
       "      <td>62</td>\n",
       "      <td>Please join us and the students from Mott Hall...</td>\n",
       "      <td>NaN</td>\n",
       "      <td>1.0</td>\n",
       "      <td>Strengthening Communities</td>\n",
       "      <td>NaN</td>\n",
       "      <td>NaN</td>\n",
       "      <td>Street Project</td>\n",
       "      <td>3001</td>\n",
       "      <td>1</td>\n",
       "      <td>NaN</td>\n",
       "      <td>NY</td>\n",
       "      <td>10026.0</td>\n",
       "      <td>NaN</td>\n",
       "      <td>/opportunities/5016</td>\n",
       "      <td>onetime</td>\n",
       "      <td>0</td>\n",
       "      <td>January 19 2011</td>\n",
       "      <td>January 21 2011</td>\n",
       "      <td>January 29 2011</td>\n",
       "      <td>January 29 2011</td>\n",
       "      <td>approved</td>\n",
       "      <td>NaN</td>\n",
       "      <td>NaN</td>\n",
       "      <td>NaN</td>\n",
       "      <td>NaN</td>\n",
       "      <td>NaN</td>\n",
       "      <td>NaN</td>\n",
       "      <td>NaN</td>\n",
       "      <td>NaN</td>\n",
       "    </tr>\n",
       "  </tbody>\n",
       "</table>\n",
       "</div>"
      ],
      "text/plain": [
       "   opportunity_id  content_id  vol_requests  event_time  \\\n",
       "0            4996       37004            50           0   \n",
       "1            5008       37036             2           0   \n",
       "2            5016       37143            20           0   \n",
       "\n",
       "                                               title  hits  \\\n",
       "0  Volunteers Needed For Rise Up & Stay Put! Home...   737   \n",
       "1                                       Web designer    22   \n",
       "2      Urban Adventures - Ice Skating at Lasker Rink    62   \n",
       "\n",
       "                                             summary is_priority  category_id  \\\n",
       "0  Building on successful events last summer and ...         NaN          NaN   \n",
       "1             Build a website for an Afghan business         NaN          1.0   \n",
       "2  Please join us and the students from Mott Hall...         NaN          1.0   \n",
       "\n",
       "               category_desc  amsl  amsl_unit                     org_title  \\\n",
       "0                        NaN   NaN        NaN  Center For NYC Neighborhoods   \n",
       "1  Strengthening Communities   NaN        NaN                        Bpeace   \n",
       "2  Strengthening Communities   NaN        NaN                Street Project   \n",
       "\n",
       "   org_content_id  addresses_count  \\\n",
       "0            4426                1   \n",
       "1           37026                1   \n",
       "2            3001                1   \n",
       "\n",
       "                                            locality region  postalcode  \\\n",
       "0                                                NaN     NY         NaN   \n",
       "1  5 22nd St\\nNew York, NY 10010\\n(40.74053152272...     NY     10010.0   \n",
       "2                                                NaN     NY     10026.0   \n",
       "\n",
       "   primary_loc          display_url recurrence_type  hours     created_date  \\\n",
       "0          NaN  /opportunities/4996         onetime      0  January 13 2011   \n",
       "1          NaN  /opportunities/5008         onetime      0  January 14 2011   \n",
       "2          NaN  /opportunities/5016         onetime      0  January 19 2011   \n",
       "\n",
       "  last_modified_date   start_date_date     end_date_date    status  Latitude  \\\n",
       "0       June 23 2011      July 30 2011      July 30 2011  approved       NaN   \n",
       "1    January 25 2011  February 01 2011  February 01 2011  approved       NaN   \n",
       "2    January 21 2011   January 29 2011   January 29 2011  approved       NaN   \n",
       "\n",
       "   Longitude  Community Board  Community Council   Census Tract  BIN  BBL  NTA  \n",
       "0        NaN              NaN                 NaN           NaN  NaN  NaN  NaN  \n",
       "1        NaN              NaN                 NaN           NaN  NaN  NaN  NaN  \n",
       "2        NaN              NaN                 NaN           NaN  NaN  NaN  NaN  "
      ]
     },
     "execution_count": 41,
     "metadata": {},
     "output_type": "execute_result"
    }
   ],
   "source": [
    "v = pd.read_csv('volunteer_opportunities.csv')\n",
    "print(v.shape)\n",
    "v.head(3)"
   ]
  },
  {
   "cell_type": "code",
   "execution_count": 42,
   "id": "900e5df3-8bac-4de4-9174-ab01b6209ab4",
   "metadata": {},
   "outputs": [],
   "source": [
    "v = v[['content_id', 'hits', 'recurrence_type']]"
   ]
  },
  {
   "cell_type": "code",
   "execution_count": 43,
   "id": "ae7623bd-9259-4239-9010-6e1fa25e0057",
   "metadata": {},
   "outputs": [
    {
     "data": {
      "text/plain": [
       "ongoing    510\n",
       "onetime    155\n",
       "Name: recurrence_type, dtype: int64"
      ]
     },
     "execution_count": 43,
     "metadata": {},
     "output_type": "execute_result"
    }
   ],
   "source": [
    "v.recurrence_type.value_counts()"
   ]
  },
  {
   "cell_type": "markdown",
   "id": "c0780f30-2583-4c5d-8f76-37caf30fd945",
   "metadata": {},
   "source": [
    "# .query vs .loc"
   ]
  },
  {
   "cell_type": "markdown",
   "id": "0fcaed7b-eeb1-437a-b58b-f96a23ebcbd5",
   "metadata": {},
   "source": [
    "1 마이크로초 [µs] = 0.001 밀리초 [ms]"
   ]
  },
  {
   "cell_type": "code",
   "execution_count": 44,
   "id": "6cb4d5f4-67a9-459c-8e2e-72b12c867411",
   "metadata": {},
   "outputs": [
    {
     "name": "stdout",
     "output_type": "stream",
     "text": [
      "1.03 ms ± 70.4 µs per loop (mean ± std. dev. of 7 runs, 1,000 loops each)\n"
     ]
    }
   ],
   "source": [
    "%%timeit\n",
    "v.query((\"recurrence_type=='ongoing'\"))"
   ]
  },
  {
   "cell_type": "code",
   "execution_count": 79,
   "id": "bd0ff837-8fc0-48c6-a549-a13d2d7a8300",
   "metadata": {},
   "outputs": [
    {
     "name": "stdout",
     "output_type": "stream",
     "text": [
      "1.1004ms\n"
     ]
    }
   ],
   "source": [
    "print(f\"{1.03+70.4*0.001}ms\")"
   ]
  },
  {
   "cell_type": "code",
   "execution_count": 46,
   "id": "bb760ea6-cd17-4fa5-993c-fdf0a698cf13",
   "metadata": {},
   "outputs": [
    {
     "name": "stdout",
     "output_type": "stream",
     "text": [
      "270 µs ± 3.41 µs per loop (mean ± std. dev. of 7 runs, 1,000 loops each)\n"
     ]
    }
   ],
   "source": [
    "%%timeit\n",
    "v.loc[v['recurrence_type']=='ongoing']"
   ]
  },
  {
   "cell_type": "code",
   "execution_count": 80,
   "id": "24e4669b-3214-49c4-a6eb-6a90d44d7b63",
   "metadata": {},
   "outputs": [
    {
     "name": "stdout",
     "output_type": "stream",
     "text": [
      "0.27341000000000004ms\n"
     ]
    }
   ],
   "source": [
    "print(f\"{270*0.001+3.41*0.001}ms\")"
   ]
  },
  {
   "cell_type": "markdown",
   "id": "67203c28-7c3c-459e-9121-a3cc58d7d9a2",
   "metadata": {},
   "source": [
    "일반적으로 .query가 .loc보다 속도 더 느림"
   ]
  },
  {
   "cell_type": "markdown",
   "id": "535946af-016f-4d31-b062-00482c294c74",
   "metadata": {},
   "source": [
    "# for loop vs apply"
   ]
  },
  {
   "cell_type": "code",
   "execution_count": 48,
   "id": "ef95776a-a32e-4c91-8eee-5913728d5c4b",
   "metadata": {},
   "outputs": [
    {
     "data": {
      "text/plain": [
       "<AxesSubplot:xlabel='hits'>"
      ]
     },
     "execution_count": 48,
     "metadata": {},
     "output_type": "execute_result"
    },
    {
     "data": {
      "image/png": "[encoded data removed]",
      "text/plain": [
       "<Figure size 640x480 with 1 Axes>"
      ]
     },
     "metadata": {},
     "output_type": "display_data"
    }
   ],
   "source": [
    "sns.boxplot(v['hits'])"
   ]
  },
  {
   "cell_type": "code",
   "execution_count": 49,
   "id": "b2c86b88-c7a2-4065-bcae-fe05ecaec2ea",
   "metadata": {},
   "outputs": [
    {
     "data": {
      "text/html": [
       "<div>\n",
       "<style scoped>\n",
       "    .dataframe tbody tr th:only-of-type {\n",
       "        vertical-align: middle;\n",
       "    }\n",
       "\n",
       "    .dataframe tbody tr th {\n",
       "        vertical-align: top;\n",
       "    }\n",
       "\n",
       "    .dataframe thead th {\n",
       "        text-align: right;\n",
       "    }\n",
       "</style>\n",
       "<table border=\"1\" class=\"dataframe\">\n",
       "  <thead>\n",
       "    <tr style=\"text-align: right;\">\n",
       "      <th></th>\n",
       "      <th>content_id</th>\n",
       "      <th>hits</th>\n",
       "      <th>recurrence_type</th>\n",
       "    </tr>\n",
       "  </thead>\n",
       "  <tbody>\n",
       "    <tr>\n",
       "      <th>0</th>\n",
       "      <td>37004</td>\n",
       "      <td>737</td>\n",
       "      <td>onetime</td>\n",
       "    </tr>\n",
       "    <tr>\n",
       "      <th>1</th>\n",
       "      <td>37036</td>\n",
       "      <td>22</td>\n",
       "      <td>onetime</td>\n",
       "    </tr>\n",
       "    <tr>\n",
       "      <th>2</th>\n",
       "      <td>37143</td>\n",
       "      <td>62</td>\n",
       "      <td>onetime</td>\n",
       "    </tr>\n",
       "  </tbody>\n",
       "</table>\n",
       "</div>"
      ],
      "text/plain": [
       "   content_id  hits recurrence_type\n",
       "0       37004   737         onetime\n",
       "1       37036    22         onetime\n",
       "2       37143    62         onetime"
      ]
     },
     "execution_count": 49,
     "metadata": {},
     "output_type": "execute_result"
    }
   ],
   "source": [
    "v.head(3)"
   ]
  },
  {
   "cell_type": "code",
   "execution_count": 78,
   "id": "d203988d-833b-4d18-9991-cac227e6c2de",
   "metadata": {},
   "outputs": [
    {
     "name": "stdout",
     "output_type": "stream",
     "text": [
      "41.8 ms ± 658 µs per loop (mean ± std. dev. of 7 runs, 10 loops each)\n"
     ]
    }
   ],
   "source": [
    "%%timeit\n",
    "\n",
    "# 1. for loop\n",
    "v['hits_grp_1'] = np.nan\n",
    "\n",
    "for i, j in enumerate(v['hits']):\n",
    "    if j <= 500:\n",
    "        v.iloc[i, 3] = 1\n",
    "    elif (j > 500) and (j <= 1000):\n",
    "        v.iloc[i, 3] = 2\n",
    "    elif (j > 1000) and (j <= 2000):\n",
    "        v.iloc[i, 3] = 3\n",
    "    else:\n",
    "        v.iloc[i, 3] = 4"
   ]
  },
  {
   "cell_type": "code",
   "execution_count": 81,
   "id": "a1da4c65-7def-420f-890c-891d8be7f632",
   "metadata": {},
   "outputs": [
    {
     "name": "stdout",
     "output_type": "stream",
     "text": [
      "42.458ms\n"
     ]
    }
   ],
   "source": [
    "print(f\"{41.8+658*0.001}ms\")"
   ]
  },
  {
   "cell_type": "code",
   "execution_count": 72,
   "id": "f74ec5e2-ee64-4f75-9e51-4eae9548e494",
   "metadata": {},
   "outputs": [
    {
     "name": "stdout",
     "output_type": "stream",
     "text": [
      "447 µs ± 8.42 µs per loop (mean ± std. dev. of 7 runs, 1,000 loops each)\n"
     ]
    }
   ],
   "source": [
    "%%timeit\n",
    "\n",
    "# 2. .apply\n",
    "\n",
    "def hits_apply(hits):\n",
    "    if hits <= 500:\n",
    "        return 1\n",
    "    elif (hits > 500) and (hits <= 1000):\n",
    "        return 2\n",
    "    elif (hits > 1000) and (hits <= 2000):\n",
    "        return 3\n",
    "    else:\n",
    "        return 4\n",
    "        \n",
    "v['hits_grp_2'] = v['hits'].apply(hits_apply)"
   ]
  },
  {
   "cell_type": "code",
   "execution_count": 82,
   "id": "6f8e9b4d-af52-446d-a2e1-846c1ec1643a",
   "metadata": {},
   "outputs": [
    {
     "name": "stdout",
     "output_type": "stream",
     "text": [
      "0.45542ms\n"
     ]
    }
   ],
   "source": [
    "print(f\"{447*0.001+8.42*0.001}ms\")"
   ]
  },
  {
   "cell_type": "code",
   "execution_count": 87,
   "id": "83baee57-e27b-490e-a488-ae3a39758381",
   "metadata": {},
   "outputs": [
    {
     "data": {
      "text/html": [
       "<div>\n",
       "<style scoped>\n",
       "    .dataframe tbody tr th:only-of-type {\n",
       "        vertical-align: middle;\n",
       "    }\n",
       "\n",
       "    .dataframe tbody tr th {\n",
       "        vertical-align: top;\n",
       "    }\n",
       "\n",
       "    .dataframe thead th {\n",
       "        text-align: right;\n",
       "    }\n",
       "</style>\n",
       "<table border=\"1\" class=\"dataframe\">\n",
       "  <thead>\n",
       "    <tr style=\"text-align: right;\">\n",
       "      <th></th>\n",
       "      <th>content_id</th>\n",
       "      <th>hits</th>\n",
       "      <th>recurrence_type</th>\n",
       "      <th>hits_grp_1</th>\n",
       "      <th>hits_grp_2</th>\n",
       "    </tr>\n",
       "  </thead>\n",
       "  <tbody>\n",
       "    <tr>\n",
       "      <th>642</th>\n",
       "      <td>51541</td>\n",
       "      <td>230</td>\n",
       "      <td>onetime</td>\n",
       "      <td>1.0</td>\n",
       "      <td>1</td>\n",
       "    </tr>\n",
       "    <tr>\n",
       "      <th>149</th>\n",
       "      <td>40993</td>\n",
       "      <td>38</td>\n",
       "      <td>ongoing</td>\n",
       "      <td>1.0</td>\n",
       "      <td>1</td>\n",
       "    </tr>\n",
       "    <tr>\n",
       "      <th>316</th>\n",
       "      <td>38634</td>\n",
       "      <td>601</td>\n",
       "      <td>ongoing</td>\n",
       "      <td>2.0</td>\n",
       "      <td>2</td>\n",
       "    </tr>\n",
       "    <tr>\n",
       "      <th>384</th>\n",
       "      <td>36928</td>\n",
       "      <td>2953</td>\n",
       "      <td>ongoing</td>\n",
       "      <td>4.0</td>\n",
       "      <td>4</td>\n",
       "    </tr>\n",
       "    <tr>\n",
       "      <th>211</th>\n",
       "      <td>38474</td>\n",
       "      <td>590</td>\n",
       "      <td>ongoing</td>\n",
       "      <td>2.0</td>\n",
       "      <td>2</td>\n",
       "    </tr>\n",
       "  </tbody>\n",
       "</table>\n",
       "</div>"
      ],
      "text/plain": [
       "     content_id  hits recurrence_type  hits_grp_1  hits_grp_2\n",
       "642       51541   230         onetime         1.0           1\n",
       "149       40993    38         ongoing         1.0           1\n",
       "316       38634   601         ongoing         2.0           2\n",
       "384       36928  2953         ongoing         4.0           4\n",
       "211       38474   590         ongoing         2.0           2"
      ]
     },
     "execution_count": 87,
     "metadata": {},
     "output_type": "execute_result"
    }
   ],
   "source": [
    "v.sample(5)"
   ]
  },
  {
   "cell_type": "markdown",
   "id": "929a165e-a12a-404f-893e-d5671b1405f8",
   "metadata": {},
   "source": [
    "# Thread"
   ]
  },
  {
   "cell_type": "markdown",
   "id": "8146c3f2-e9b4-4e5f-9bf7-3619973290cf",
   "metadata": {},
   "source": [
    "2가지 이상의 함수를 동시에 동작"
   ]
  },
  {
   "cell_type": "code",
   "execution_count": 117,
   "id": "8e647b04-c4ad-40b0-93b7-49f60b07adb2",
   "metadata": {},
   "outputs": [],
   "source": [
    "import threading"
   ]
  },
  {
   "cell_type": "code",
   "execution_count": 118,
   "id": "2c9b8ee4-1d89-4a0e-8061-1a16a47c557f",
   "metadata": {},
   "outputs": [],
   "source": [
    "test = v[['content_id', 'hits']].copy()"
   ]
  },
  {
   "cell_type": "code",
   "execution_count": 119,
   "id": "81e4894c-3502-433d-b22d-7daaf6d2763b",
   "metadata": {},
   "outputs": [
    {
     "data": {
      "text/html": [
       "<div>\n",
       "<style scoped>\n",
       "    .dataframe tbody tr th:only-of-type {\n",
       "        vertical-align: middle;\n",
       "    }\n",
       "\n",
       "    .dataframe tbody tr th {\n",
       "        vertical-align: top;\n",
       "    }\n",
       "\n",
       "    .dataframe thead th {\n",
       "        text-align: right;\n",
       "    }\n",
       "</style>\n",
       "<table border=\"1\" class=\"dataframe\">\n",
       "  <thead>\n",
       "    <tr style=\"text-align: right;\">\n",
       "      <th></th>\n",
       "      <th>content_id</th>\n",
       "      <th>hits</th>\n",
       "    </tr>\n",
       "  </thead>\n",
       "  <tbody>\n",
       "    <tr>\n",
       "      <th>0</th>\n",
       "      <td>37004</td>\n",
       "      <td>737</td>\n",
       "    </tr>\n",
       "    <tr>\n",
       "      <th>1</th>\n",
       "      <td>37036</td>\n",
       "      <td>22</td>\n",
       "    </tr>\n",
       "    <tr>\n",
       "      <th>2</th>\n",
       "      <td>37143</td>\n",
       "      <td>62</td>\n",
       "    </tr>\n",
       "    <tr>\n",
       "      <th>3</th>\n",
       "      <td>37237</td>\n",
       "      <td>14</td>\n",
       "    </tr>\n",
       "    <tr>\n",
       "      <th>4</th>\n",
       "      <td>37425</td>\n",
       "      <td>31</td>\n",
       "    </tr>\n",
       "  </tbody>\n",
       "</table>\n",
       "</div>"
      ],
      "text/plain": [
       "   content_id  hits\n",
       "0       37004   737\n",
       "1       37036    22\n",
       "2       37143    62\n",
       "3       37237    14\n",
       "4       37425    31"
      ]
     },
     "execution_count": 119,
     "metadata": {},
     "output_type": "execute_result"
    }
   ],
   "source": [
    "test.head()"
   ]
  },
  {
   "cell_type": "code",
   "execution_count": 130,
   "id": "dac5b5fe-3d17-4f9d-a2af-ddeeae75aa4d",
   "metadata": {},
   "outputs": [
    {
     "name": "stdout",
     "output_type": "stream",
     "text": [
      "hits_for 함수 200배수 지점의 i: 0\n",
      "hits_for 함수 200배수 지점의 i: 200\n",
      "hits_for 함수 200배수 지점의 i: 400\n",
      "hits_for 함수 200배수 지점의 i: 600\n",
      "test_print 함수 300배수 지점의 i: 0\n",
      "test_print 함수 300배수 지점의 i: 300\n"
     ]
    }
   ],
   "source": [
    "# 일반적인 함수 선언 및 실행\n",
    "\n",
    "def hits_for():\n",
    "    for i, j in enumerate(test['hits']):\n",
    "        # i가 200의 배수일 때마다 출력\n",
    "        if i % 200 == 0:\n",
    "            print(f\"hits_for 함수 200배수 지점의 i: {i}\")\n",
    "        if j <= 500:\n",
    "            test.iloc[i, 2] = 1\n",
    "        elif (j > 500) and (j <= 1000):\n",
    "            test.iloc[i, 2] = 2\n",
    "        elif (j > 1000) and (j <= 2000):\n",
    "            test.iloc[i, 2] = 3\n",
    "        else:\n",
    "            test.iloc[i, 2] = 4\n",
    "            \n",
    "def test_print():\n",
    "    for i in range(600):\n",
    "        # i가 300의 배수일 때마다 출력\n",
    "        if i % 300 == 0:\n",
    "            print(f\"test_print 함수 300배수 지점의 i: {i}\")\n",
    "            \n",
    "if __name__ == '__main__':\n",
    "    hits_for()\n",
    "    test_print()"
   ]
  },
  {
   "cell_type": "code",
   "execution_count": 138,
   "id": "8cbdd562-4d8c-46fc-84f1-524902aa77b6",
   "metadata": {},
   "outputs": [
    {
     "name": "stdout",
     "output_type": "stream",
     "text": [
      "hits_for 함수 200배수 지점의 i: 0\n",
      "test_print 함수 300배수 지점의 i: 0\n",
      "test_print 함수 300배수 지점의 i: 300\n",
      "hits_for 함수 200배수 지점의 i: 200\n",
      "hits_for 함수 200배수 지점의 i: 400\n",
      "hits_for 함수 200배수 지점의 i: 600\n"
     ]
    }
   ],
   "source": [
    "# Thread 활용\n",
    "\n",
    "def hits_for():\n",
    "    for i, j in enumerate(test['hits']):\n",
    "        # i가 200의 배수일 때마다 출력\n",
    "        if i % 200 == 0:\n",
    "            print(f\"hits_for 함수 200배수 지점의 i: {i}\")\n",
    "        if j <= 500:\n",
    "            test.iloc[i, 2] = 1\n",
    "        elif (j > 500) and (j <= 1000):\n",
    "            test.iloc[i, 2] = 2\n",
    "        elif (j > 1000) and (j <= 2000):\n",
    "            test.iloc[i, 2] = 3\n",
    "        else:\n",
    "            test.iloc[i, 2] = 4\n",
    "            \n",
    "    \n",
    "# 병렬 처리 확인 위한 함수\n",
    "def test_print():\n",
    "    for i in range(600):\n",
    "        # i가 300의 배수일 때마다 출력\n",
    "        if i % 300 == 0:\n",
    "            print(f\"test_print 함수 300배수 지점의 i: {i}\")\n",
    "\n",
    "def hits_apply_thread():\n",
    "    thread = threading.Thread(target=hits_for)\n",
    "    thread.start()\n",
    "        \n",
    "if __name__ == '__main__':\n",
    "    test['hits_grp'] = np.nan\n",
    "    hits_apply_thread()\n",
    "    test_print()"
   ]
  },
  {
   "cell_type": "code",
   "execution_count": 126,
   "id": "5bcb5f30-34cc-4e4c-9704-6955734714e3",
   "metadata": {},
   "outputs": [
    {
     "data": {
      "text/html": [
       "<div>\n",
       "<style scoped>\n",
       "    .dataframe tbody tr th:only-of-type {\n",
       "        vertical-align: middle;\n",
       "    }\n",
       "\n",
       "    .dataframe tbody tr th {\n",
       "        vertical-align: top;\n",
       "    }\n",
       "\n",
       "    .dataframe thead th {\n",
       "        text-align: right;\n",
       "    }\n",
       "</style>\n",
       "<table border=\"1\" class=\"dataframe\">\n",
       "  <thead>\n",
       "    <tr style=\"text-align: right;\">\n",
       "      <th></th>\n",
       "      <th>content_id</th>\n",
       "      <th>hits</th>\n",
       "      <th>hits_grp</th>\n",
       "    </tr>\n",
       "  </thead>\n",
       "  <tbody>\n",
       "    <tr>\n",
       "      <th>0</th>\n",
       "      <td>37004</td>\n",
       "      <td>737</td>\n",
       "      <td>2.0</td>\n",
       "    </tr>\n",
       "    <tr>\n",
       "      <th>1</th>\n",
       "      <td>37036</td>\n",
       "      <td>22</td>\n",
       "      <td>1.0</td>\n",
       "    </tr>\n",
       "    <tr>\n",
       "      <th>2</th>\n",
       "      <td>37143</td>\n",
       "      <td>62</td>\n",
       "      <td>1.0</td>\n",
       "    </tr>\n",
       "    <tr>\n",
       "      <th>3</th>\n",
       "      <td>37237</td>\n",
       "      <td>14</td>\n",
       "      <td>1.0</td>\n",
       "    </tr>\n",
       "    <tr>\n",
       "      <th>4</th>\n",
       "      <td>37425</td>\n",
       "      <td>31</td>\n",
       "      <td>1.0</td>\n",
       "    </tr>\n",
       "  </tbody>\n",
       "</table>\n",
       "</div>"
      ],
      "text/plain": [
       "   content_id  hits  hits_grp\n",
       "0       37004   737       2.0\n",
       "1       37036    22       1.0\n",
       "2       37143    62       1.0\n",
       "3       37237    14       1.0\n",
       "4       37425    31       1.0"
      ]
     },
     "execution_count": 126,
     "metadata": {},
     "output_type": "execute_result"
    }
   ],
   "source": [
    "test.head()"
   ]
  }
 ],
 "metadata": {
  "kernelspec": {
   "display_name": "Python 3 (ipykernel)",
   "language": "python",
   "name": "python3"
  },
  "language_info": {
   "codemirror_mode": {
    "name": "ipython",
    "version": 3
   },
   "file_extension": ".py",
   "mimetype": "text/x-python",
   "name": "python",
   "nbconvert_exporter": "python",
   "pygments_lexer": "ipython3",
   "version": "3.9.6"
  }
 },
 "nbformat": 4,
 "nbformat_minor": 5
}
