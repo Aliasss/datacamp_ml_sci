{
 "cells": [
  {
   "cell_type": "markdown",
   "id": "e95b32c4-701b-488e-a453-f62ba2d02c62",
   "metadata": {},
   "source": [
    "# Data camp 실습 코드"
   ]
  },
  {
   "cell_type": "markdown",
   "id": "3a3cc90a-0037-498f-a468-32c07ca8574b",
   "metadata": {},
   "source": [
    "## 1. Supervised Learning with scikit-learn"
   ]
  },
  {
   "cell_type": "markdown",
   "id": "a9d2b03c-de89-4cc6-a1be-1f40f38c084b",
   "metadata": {},
   "source": [
    "### (1) Classification"
   ]
  },
  {
   "cell_type": "code",
   "execution_count": 4,
   "id": "3ed2852b-027f-4d01-ae9c-48c94b238cdb",
   "metadata": {},
   "outputs": [
    {
     "data": {
      "text/plain": [
       "'0.21.3'"
      ]
     },
     "execution_count": 4,
     "metadata": {},
     "output_type": "execute_result"
    }
   ],
   "source": [
    "import warnings; warnings.filterwarnings('ignore')\n",
    "import sklearn\n",
    "sklearn.__version__\n",
    "\n",
    "# sklearn.neighbors.classification was renamed to sklearn.neighbors._classification in version 0.22.X\n",
    "# Downgrade to scikit-learn version <= 0.21.3 to fix this problem\n",
    "# (https://github.com/ageitgey/face_recognition/issues/1262)\n",
    "\n",
    "# pip install --user --upgrade scikit-learn==0.21.3"
   ]
  },
  {
   "cell_type": "markdown",
   "id": "d44692f7-25c5-4231-b004-44e7bf8b44cb",
   "metadata": {},
   "source": [
    "#### **Classifying labels of unseen data**\n",
    "1. Build a model\n",
    "2. Model learns from the labeled data we pass to it (Labeled data = training data)\n",
    "3. pass unlabeled data to the model as input\n",
    "4. Model predicts the labels of the unseen data"
   ]
  },
  {
   "cell_type": "markdown",
   "id": "eb9e0426-30fb-4fec-945b-1a16dd03ffeb",
   "metadata": {},
   "source": [
    "#### k-Nearest Neighbors\n",
    "* Predict the label of a data point by\n",
    "  * Looking at the **k** closest labeled data points\n",
    "  * Taking a majority vote"
   ]
  },
  {
   "cell_type": "code",
   "execution_count": 6,
   "id": "fca0cad3-114d-4320-bbd1-c6113e94a25e",
   "metadata": {},
   "outputs": [],
   "source": [
    "# KNN 사용법\n",
    "from sklearn.neighbors import KNeighborsClassifier\n",
    "import numpy as np\n",
    "\n",
    "X = churn_df[['total_day_charge', 'total_eve_charge']].values\n",
    "y = churn_df['churn'].values\n",
    "knn = KNeighborsClassifier(n_neighbors=15)\n",
    "knn.fit(X, y)\n",
    "\n",
    "X_new = np.array([[56.8, 17.5],\n",
    "                 [24.4,24.1],\n",
    "                 [50.1, 10.9]])\n",
    "print(X_new.shape)\n",
    "\n",
    "predictions = knn.predict(X_new)\n",
    "print(f'Predictions: {predictions}')"
   ]
  },
  {
   "cell_type": "markdown",
   "id": "c27853fe-e574-4e1b-a6e2-96d6008f4dcb",
   "metadata": {},
   "source": [
    "#### Measuring model performance"
   ]
  },
  {
   "cell_type": "markdown",
   "id": "7695f3e5-9d5f-4a3b-9d21-620497f1c1f0",
   "metadata": {},
   "source": [
    "* How do we measure accuracy?\n",
    "* Could compute accuracy on the data used to fit the classifier\n",
    "* Not indicative of ability to generalize\n",
    "* Split data -> Training set / Test set"
   ]
  },
  {
   "cell_type": "code",
   "execution_count": null,
   "id": "88d10326-0a42-47bc-b0fa-356f2357d6a8",
   "metadata": {},
   "outputs": [],
   "source": [
    "# Train/test split\n",
    "from sklearn.medel_selection import train_test_split\n",
    "X = churn_df.drop(\"churn\", axis=1).values\n",
    "y = churn_df[\"churn\"].values\n",
    "\n",
    "X_train, X_test, y_train, y_test = train_test_split(X, y, test_size=0.3, random_state=21, stratify=y)\n",
    "\n",
    "knn = KNeighborsClassifier(n_neighbors=6)\n",
    "knn.fit(X_train, y_train)\n",
    "print(knn.score(X_test, y_test))"
   ]
  },
  {
   "cell_type": "markdown",
   "id": "c91bdc92-6cbd-4ae4-908a-df4fa8cfecf2",
   "metadata": {},
   "source": [
    "* Model Complexity\n",
    "  * Larger k = less complex model = can cause underfitting\n",
    "  * Smaller k = more complex model = can lead to overfitting"
   ]
  },
  {
   "cell_type": "code",
   "execution_count": null,
   "id": "a2ed6fe4-db63-4da9-ac99-37d2e3494a23",
   "metadata": {},
   "outputs": [],
   "source": [
    "# Model complexity and over/underfitting\n",
    "import matplotlib.pyplot as plt\n",
    "\n",
    "train_accuracies = {}\n",
    "test_accuracies = {}\n",
    "neighbors = np.arange(1, 26)\n",
    "\n",
    "for neighbor in neighbors:\n",
    "    knn = KNeighborsClassifier(n_neighbors=neighbor)\n",
    "    knn.fit(X_train, y_train)\n",
    "    train_accuracies[neighbor] = knn.score(X_train, y_train)\n",
    "    test_accuracies[neighbor] = knn.score(X_test, y_test)\n",
    "    \n",
    "print(neighbors, '\\n', train_accuracies, '\\n', test_accuracies)\n",
    "    \n",
    "plt.figure(figsize=(8, 6))\n",
    "plt.title(\"KNN: Varying Number of Neighbors\")\n",
    "plt.plot(neighbors, train_accuracies.values(), label=\"Training Accuracy\")\n",
    "plt.plot(neighbors, test_accuracies.values(), label=\"Testing Accuracy\")\n",
    "plt.xlabel(\"Number of Neighbors\")\n",
    "plt.ylabel(\"Accuracy\")"
   ]
  },
  {
   "cell_type": "markdown",
   "id": "e414d277-17d2-40af-bbd6-b2e493a3cc5f",
   "metadata": {},
   "source": [
    "### (2) Regression"
   ]
  },
  {
   "cell_type": "markdown",
   "id": "fb1110b4-1ad0-4e79-b303-224e18b6a96b",
   "metadata": {},
   "source": [
    "#### Introduction to regression"
   ]
  },
  {
   "cell_type": "code",
   "execution_count": null,
   "id": "c6b578ea-3978-492c-907d-32ffea3c8d3d",
   "metadata": {},
   "outputs": [],
   "source": [
    "# Creating features\n",
    "\n",
    "import numpy as np\n",
    "\n",
    "# Create X from the radio column's values\n",
    "X = sales_df['radio'].values\n",
    "\n",
    "# Create y from the sales column's values\n",
    "y = sales_df['sales'].values\n",
    "\n",
    "# Reshape X\n",
    "X = X.reshape(-1, 1)\n",
    "\n",
    "# Check the shape of the features and targets\n",
    "print(X.shape, y.shape)"
   ]
  },
  {
   "cell_type": "code",
   "execution_count": null,
   "id": "bf69ef7e-d6cc-4c71-87cd-e510b52aac65",
   "metadata": {},
   "outputs": [],
   "source": [
    "# Building a linear regression model\n",
    "\n",
    "# Import LinearRegression\n",
    "from sklearn.linear_model import LinearRegression\n",
    "\n",
    "# Create the model\n",
    "reg = LinearRegression()\n",
    "\n",
    "# Fit the model to the data\n",
    "reg.fit(X, y)\n",
    "\n",
    "# Make predictions\n",
    "predictions = reg.predict(X)\n",
    "\n",
    "print(predictions[:5])"
   ]
  },
  {
   "cell_type": "code",
   "execution_count": null,
   "id": "8b52700b-b5c8-443b-9df4-beaaf1365d46",
   "metadata": {},
   "outputs": [],
   "source": [
    "# Visualizing a linear regression model\n",
    "\n",
    "# Import matplotlib.pyplot\n",
    "import matplotlib.pyplot as plt\n",
    "\n",
    "# Create scatter plot\n",
    "plt.scatter(X, y, color=\"blue\")\n",
    "\n",
    "# Create line plot\n",
    "plt.plot(X, predictions, color=\"red\")\n",
    "plt.xlabel(\"Radio Expenditure ($)\")\n",
    "plt.ylabel(\"Sales ($)\")\n",
    "\n",
    "# Display the plot\n",
    "plt.show()"
   ]
  },
  {
   "cell_type": "code",
   "execution_count": null,
   "id": "620794c9-3dca-4068-817f-f24ee3b9d7ef",
   "metadata": {},
   "outputs": [],
   "source": [
    "# Fit and predict for regression\n",
    "# Create X and y arrays\n",
    "X = sales_df.drop(\"sales\", axis=1).values\n",
    "y = sales_df[\"sales\"].values\n",
    "\n",
    "X_train, X_test, y_train, y_test = train_test_split(X, y, test_size=0.3, random_state=42)\n",
    "\n",
    "# Instantiate the model\n",
    "reg = LinearRegression()\n",
    "\n",
    "# Fit the model to the data\n",
    "reg.fit(X_train, y_train)\n",
    "\n",
    "# Make predictions\n",
    "y_pred = reg.predict(X_test)\n",
    "print(\"Predictions: {}, Actual Values: {}\".format(y_pred[:2], y_test[:2]))"
   ]
  },
  {
   "cell_type": "code",
   "execution_count": null,
   "id": "670d70e4-0998-44ea-93e8-5b8c38c2ae59",
   "metadata": {},
   "outputs": [],
   "source": [
    "# Regression preformance\n",
    "# Import mean_squared_error\n",
    "from sklearn.metrics import mean_squared_error\n",
    "\n",
    "# Compute R-squared\n",
    "r_squared = reg.score(X_test, y_test)\n",
    "\n",
    "# Compute RMSE\n",
    "rmse = mean_squared_error(y_test, y_pred, squared=False)\n",
    "\n",
    "# Print the metrics\n",
    "print(\"R^2: {}\".format(r_squared))\n",
    "print(\"RMSE: {}\".format(rmse))"
   ]
  },
  {
   "cell_type": "markdown",
   "id": "7c02d03e-4e11-4fd9-a6e2-5cee01899b90",
   "metadata": {},
   "source": [
    "#### Cross-validation"
   ]
  },
  {
   "cell_type": "code",
   "execution_count": null,
   "id": "93c3fcc3-4021-483f-ad15-e826ac937f29",
   "metadata": {},
   "outputs": [],
   "source": [
    "# Cross-validation for R-squared\n",
    "\n",
    "# Import the necessary modules\n",
    "from sklearn.model_selection import cross_val_score, KFold\n",
    "\n",
    "# Create a KFold object\n",
    "kf = KFold(n_splits=6, shuffle=True, random_state=5)\n",
    "\n",
    "reg = LinearRegression()\n",
    "\n",
    "# Compute 6-fold cross-validation scores\n",
    "cv_scores = cross_val_score(reg, X, y, cv=kf)\n",
    "\n",
    "# Print scores\n",
    "print(cv_scores)"
   ]
  },
  {
   "cell_type": "code",
   "execution_count": null,
   "id": "c2d7e7c4-7acb-4832-9135-72ef850753f0",
   "metadata": {},
   "outputs": [],
   "source": [
    "# Analyzing cross-validation metrics\n",
    "\n",
    "# Print the mean\n",
    "print(np.mean(cv_results))\n",
    "\n",
    "# Print the standard deviation\n",
    "print(np.std(cv_results))\n",
    "\n",
    "# Print the 95% confidence interval\n",
    "print(np.quantile(cv_results, [0.025, 0.975]))"
   ]
  },
  {
   "cell_type": "markdown",
   "id": "6818208a-865d-40b1-9092-f98109387330",
   "metadata": {},
   "source": [
    "#### Regularized regression"
   ]
  },
  {
   "cell_type": "markdown",
   "id": "b1dcf45a-2bd7-4da3-a84c-7ce21d02d922",
   "metadata": {},
   "source": [
    "* Ridge\n",
    "  * Ridge regression performs regularization by computing the squared values of the model parameters multiplied by alpha and adding them to the loss function."
   ]
  },
  {
   "cell_type": "code",
   "execution_count": null,
   "id": "59c9ac6d-032e-4daf-a55b-4ddc769396c2",
   "metadata": {},
   "outputs": [],
   "source": [
    "# Regularized regression: Ridge\n",
    "\n",
    "# Import Ridge\n",
    "from sklearn.linear_model import Ridge\n",
    "alphas = [0.1, 1.0, 10.0, 100.0, 1000.0, 10000.0]\n",
    "ridge_scores = []\n",
    "for alpha in alphas:\n",
    "  \n",
    "  # Create a Ridge regression model\n",
    "    ridge = Ridge(alpha=alpha)\n",
    "  \n",
    "  # Fit the data\n",
    "    ridge.fit(X_train, y_train)\n",
    "  \n",
    "  # Obtain R-squared\n",
    "    score = ridge.score(X_test, y_test)\n",
    "    ridge_scores.append(score)\n",
    "print(ridge_scores)"
   ]
  },
  {
   "cell_type": "markdown",
   "id": "4681d989-36ec-453c-937e-625a61ee673b",
   "metadata": {},
   "source": [
    "* Lasso\n",
    "  * Lasso can select important features of a dataset (because shrinks the coefficients of less important features to zero)"
   ]
  },
  {
   "cell_type": "code",
   "execution_count": null,
   "id": "802db786-d90d-4800-a2fb-14fc09fbea8b",
   "metadata": {},
   "outputs": [],
   "source": [
    "# Lasso regression for feature importance\n",
    "\n",
    "# Import Lasso\n",
    "from sklearn.linear_model import Lasso\n",
    "\n",
    "# Instantiate a lasso regression model\n",
    "lasso = Lasso(alpha=0.3)\n",
    "\n",
    "# Fit the model to the data\n",
    "lasso.fit(X, y)\n",
    "\n",
    "# Compute and print the coefficients\n",
    "lasso_coef = lasso.fit(X, y).coef_\n",
    "print(lasso_coef)\n",
    "plt.bar(sales_columns, lasso_coef)\n",
    "plt.xticks(rotation=45)\n",
    "plt.show()"
   ]
  },
  {
   "cell_type": "code",
   "execution_count": null,
   "id": "abd90732-2bb3-42b2-a32e-67cd94755fc5",
   "metadata": {},
   "outputs": [],
   "source": []
  },
  {
   "cell_type": "markdown",
   "id": "9d92791b-e8cc-4634-b78a-7ac30d18df09",
   "metadata": {},
   "source": [
    "### (3) Fine-Tuing Your Model"
   ]
  },
  {
   "cell_type": "markdown",
   "id": "4024c6eb-c3fb-4972-b936-407eaeae16a4",
   "metadata": {},
   "source": [
    "#### Assessing a diabetes prediction classifier"
   ]
  },
  {
   "cell_type": "code",
   "execution_count": null,
   "id": "e1b371fb-073b-4e4b-8f2c-80c07a7df181",
   "metadata": {},
   "outputs": [],
   "source": [
    "# Import confusion matrix\n",
    "from sklearn.metrics import classification_report, confusion_matrix\n",
    "\n",
    "knn = KNeighborsClassifier(n_neighbors=6)\n",
    "\n",
    "# Fit the model to the training data\n",
    "knn.fit(X_train, y_train)\n",
    "\n",
    "# Predict the labels of the test data: y_pred\n",
    "y_pred = knn.predict(X_test)\n",
    "\n",
    "# Generate the confusion matrix and classification report\n",
    "print(confusion_matrix(y_test, y_pred))\n",
    "print(classification_report(y_test, y_pred))"
   ]
  },
  {
   "cell_type": "markdown",
   "id": "77e3e330-29b6-4b37-baa7-d051711d39b2",
   "metadata": {},
   "source": [
    "#### Building a logistic regression model"
   ]
  },
  {
   "cell_type": "code",
   "execution_count": null,
   "id": "c8bcac12-af66-4eac-b399-4a77aff1204a",
   "metadata": {},
   "outputs": [],
   "source": [
    "# Import LogisticRegression\n",
    "from sklearn.linear_model import LogisticRegression\n",
    "\n",
    "# Instantiate the model\n",
    "logreg = LogisticRegression()\n",
    "\n",
    "# Fit the model\n",
    "logreg.fit(X_train, y_train)\n",
    "\n",
    "# Predict probabilities\n",
    "y_pred_probs = logreg.predict_proba(X_test)[:, 1]\n",
    "\n",
    "print(y_pred_probs[:10])"
   ]
  },
  {
   "cell_type": "markdown",
   "id": "8423211c-e3c3-4bfb-aa1d-1d0f22cafd78",
   "metadata": {},
   "source": [
    "#### The ROC curve"
   ]
  },
  {
   "cell_type": "code",
   "execution_count": null,
   "id": "4e173092-0af2-4740-b401-08b5045025b5",
   "metadata": {},
   "outputs": [],
   "source": [
    "# Import roc_curve\n",
    "from sklearn.metrics import roc_curve\n",
    "\n",
    "# Generate ROC curve values: fpr, tpr, thresholds\n",
    "fpr, tpr, thresholds = roc_curve(y_test, y_pred_probs)\n",
    "\n",
    "plt.plot([0, 1], [0, 1], 'k--')\n",
    "\n",
    "# Plot tpr against fpr\n",
    "plt.plot(fpr, tpr)\n",
    "plt.xlabel('False Positive Rate')\n",
    "plt.ylabel('True Positive Rate')\n",
    "plt.title('ROC Curve for Diabetes Prediction')\n",
    "plt.show()"
   ]
  },
  {
   "cell_type": "markdown",
   "id": "47dc35f0-d9c6-45da-9410-450d7c2ff174",
   "metadata": {},
   "source": [
    "#### ROC AUC"
   ]
  },
  {
   "cell_type": "code",
   "execution_count": null,
   "id": "6d300201-4c6f-45df-a98e-cc5d013fa96b",
   "metadata": {},
   "outputs": [],
   "source": [
    "# Import roc_auc_score\n",
    "from sklearn.metrics import roc_auc_score\n",
    "\n",
    "# Calculate roc_auc_score\n",
    "print(roc_auc_score(y_test, y_pred_probs))\n",
    "\n",
    "# Calculate the confusion matrix\n",
    "print(confusion_matrix(y_test, y_pred))\n",
    "\n",
    "# Calculate the classification report\n",
    "print(classification_report(y_test, y_pred))"
   ]
  },
  {
   "cell_type": "markdown",
   "id": "a076c806-6172-4652-8953-ae6eccb5e3f3",
   "metadata": {},
   "source": [
    "#### Hyperparameter tuning with GridSearchCV"
   ]
  },
  {
   "cell_type": "code",
   "execution_count": null,
   "id": "9630054d-343b-4683-a353-53b865a35cb8",
   "metadata": {},
   "outputs": [],
   "source": [
    "# Import GridSearchCV\n",
    "from sklearn.model_selection import GridSearchCV\n",
    "\n",
    "# Set up the parameter grid\n",
    "param_grid = {\"alpha\": np.linspace(0.00001, 1, 20)}\n",
    "\n",
    "# Instantiate lasso_cv\n",
    "lasso_cv = GridSearchCV(Lasso(), param_grid, cv=kf)\n",
    "\n",
    "# Fit to the training data\n",
    "lasso_cv.fit(X_train, y_train)\n",
    "print(\"Tuned lasso paramaters: {}\".format(lasso_cv.best_params_))\n",
    "print(\"Tuned lasso score: {}\".format(lasso_cv.best_score_))"
   ]
  },
  {
   "cell_type": "markdown",
   "id": "9ad5b4e8-172b-430a-8716-fef61e81710a",
   "metadata": {},
   "source": [
    "#### Hyperparameter uning with RandomizedSearchCV"
   ]
  },
  {
   "cell_type": "code",
   "execution_count": null,
   "id": "c99c77d5-e1fc-4b1c-aec8-7c7056507964",
   "metadata": {},
   "outputs": [],
   "source": [
    "# Create the parameter space\n",
    "params = {\"penalty\": [\"l1\", \"l2\"],\n",
    "         \"tol\": np.linspace(0.0001, 1.0, 50),\n",
    "         \"C\": np.linspace(0.1, 1.0, 50),\n",
    "         \"class_weight\": [\"balanced\", {0:0.8, 1:0.2}]}\n",
    "\n",
    "# Instantiate the RandomizedSearchCV object\n",
    "logreg_cv = RandomizedSearchCV(logreg, params, cv=kf)\n",
    "\n",
    "# Fit the data to the model\n",
    "logreg_cv.fit(X_train, y_train)\n",
    "\n",
    "# Print the tuned parameters and score\n",
    "print(\"Tuned Logistic Regression Parameters: {}\".format(logreg_cv.best_params_))\n",
    "print(\"Tuned Logistic Regression Best Accuracy Score: {}\".format(logreg_cv.best_score_))"
   ]
  },
  {
   "cell_type": "markdown",
   "id": "2de98e3e-130a-4548-b36c-d10280258dc5",
   "metadata": {},
   "source": [
    "## (4) Preprocessing data"
   ]
  },
  {
   "cell_type": "markdown",
   "id": "d290d3e2-c18e-4095-9912-78d452d67f0d",
   "metadata": {},
   "source": [
    "#### Creating dummy variables"
   ]
  },
  {
   "cell_type": "code",
   "execution_count": null,
   "id": "60d5405c-63e4-4514-ac6e-fd11791f751a",
   "metadata": {},
   "outputs": [],
   "source": [
    "# Create music_dummies\n",
    "music_dummies = pd.get_dummies(music_df, drop_first=True)\n",
    "\n",
    "# Print the new DataFrame's shape\n",
    "print(\"Shape of music_dummies: {}\".format(music_dummies.shape))"
   ]
  },
  {
   "cell_type": "markdown",
   "id": "7b016f65-c73c-4594-8f5c-de509f238fd0",
   "metadata": {},
   "source": [
    "#### Regression with categorical features"
   ]
  },
  {
   "cell_type": "code",
   "execution_count": null,
   "id": "2a9f307f-e2f0-4ba5-a012-9e561face7fc",
   "metadata": {},
   "outputs": [],
   "source": [
    "# Create X and y\n",
    "X = music_dummies.drop(columns='popularity', axis=1).values\n",
    "y = music_dummies['popularity'].values\n",
    "\n",
    "# Instantiate a ridge model\n",
    "ridge = Ridge(alpha=0.2)\n",
    "\n",
    "# Perform cross-validation\n",
    "scores = cross_val_score(ridge, X, y, cv=kf, scoring=\"neg_mean_squared_error\")  # https://ai.stackexchange.com/questions/9022/can-the-mean-squared-error-be-negative\n",
    "\n",
    "# Calculate RMSE\n",
    "rmse = np.sqrt(-scores)\n",
    "print(\"Average RMSE: {}\".format(np.mean(rmse)))\n",
    "print(\"Standard Deviation of the target array: {}\".format(np.std(y)))\n"
   ]
  },
  {
   "cell_type": "markdown",
   "id": "b0011071-6eac-4363-848d-e5e496297113",
   "metadata": {},
   "source": [
    "#### Droping missing data"
   ]
  },
  {
   "cell_type": "code",
   "execution_count": null,
   "id": "42bf9e8f-1ab9-47fd-8fe7-3cfbcd6ff48c",
   "metadata": {},
   "outputs": [],
   "source": [
    "# Print missing values for each column\n",
    "print(music_df.isna().sum().sort_values())\n",
    "\n",
    "# Remove values where less than 5% are missing\n",
    "music_df = music_df.dropna(subset=[\"genre\", \"popularity\", \"loudness\", \"liveness\", \"tempo\"])\n",
    "\n",
    "# Convert genre to a binary feature\n",
    "music_df[\"genre\"] = np.where(music_df[\"genre\"] == \"Rock\", 1, 0)\n",
    "\n",
    "print(music_df.isna().sum().sort_values())\n",
    "print(\"Shape of the `music_df`: {}\".format(music_df.shape))"
   ]
  },
  {
   "cell_type": "markdown",
   "id": "4b8a0b3f-bf15-4587-af35-7d3c3f7e0155",
   "metadata": {},
   "source": [
    "#### Pipeline for song genre prediction: 1"
   ]
  },
  {
   "cell_type": "code",
   "execution_count": null,
   "id": "a443a8b1-aeec-4742-8c58-3543c715c830",
   "metadata": {},
   "outputs": [],
   "source": [
    "# Import modules\n",
    "from sklearn.impute import SimpleImputer\n",
    "from sklearn.pipeline import Pipeline\n",
    "\n",
    "# Instantiate an imputer\n",
    "imputer = SimpleImputer()\n",
    "\n",
    "# Instantiate a knn model\n",
    "knn = KNeighborsClassifier(n_neighbors=3)\n",
    "\n",
    "# Build steps for the pipeline\n",
    "steps = [(\"imputer\", imputer), \n",
    "         (\"knn\", knn)]"
   ]
  },
  {
   "cell_type": "markdown",
   "id": "edaeb48e-9c08-49f5-b9be-f6a2862c6ec2",
   "metadata": {},
   "source": [
    "#### Pipeline for song genre prediction: 2"
   ]
  },
  {
   "cell_type": "code",
   "execution_count": null,
   "id": "3d55f8f8-7d5f-42c6-806c-bf58d4219a18",
   "metadata": {},
   "outputs": [],
   "source": [
    "steps = [(\"imputer\", imp_mean),\n",
    "        (\"knn\", knn)]\n",
    "\n",
    "# Create the pipeline\n",
    "pipeline = Pipeline(steps)\n",
    "\n",
    "# Fit the pipeline to the training data\n",
    "# X_train, X_test, y_train, y_test = train_test_split(X, y, test_size=0.3, random_state=42)\n",
    "pipeline.fit(X_train, y_train)\n",
    "\n",
    "# Make predictions on the test set\n",
    "y_pred = pipeline.predict(X_test)\n",
    "\n",
    "# Print the confusion matrix\n",
    "print(confusion_matrix(y_test, y_pred))"
   ]
  },
  {
   "cell_type": "markdown",
   "id": "302d40dd-a756-4c39-92dc-b9f7402ccf4e",
   "metadata": {},
   "source": [
    "#### Centering and scaling (Centering and scaling for regression)"
   ]
  },
  {
   "cell_type": "code",
   "execution_count": null,
   "id": "26360245-82ee-4c8b-8bd1-9e1d3fc4794e",
   "metadata": {},
   "outputs": [],
   "source": [
    "# Import StandardScaler\n",
    "from sklearn.preprocessing import StandardScaler\n",
    "\n",
    "# Create pipeline steps\n",
    "steps = [(\"scaler\", StandardScaler()),\n",
    "         (\"lasso\", Lasso(alpha=0.5))]\n",
    "\n",
    "# Instantiate the pipeline\n",
    "pipeline = Pipeline(steps)\n",
    "pipeline.fit(X_train, y_train)\n",
    "\n",
    "# Calculate and print R-squared\n",
    "print(pipeline.score(X_test, y_test))"
   ]
  },
  {
   "cell_type": "markdown",
   "id": "42e9ed01-1bd5-4137-8ccc-2c0284d3b94f",
   "metadata": {},
   "source": [
    "#### Centering and scaling for classification"
   ]
  },
  {
   "cell_type": "code",
   "execution_count": 11,
   "id": "bfa7dec4-a713-4058-91e3-116712997fe5",
   "metadata": {},
   "outputs": [],
   "source": [
    "# Build the steps\n",
    "steps = [(\"scaler\", StandardScaler()),\n",
    "         (\"logreg\", LogisticRegression())]\n",
    "pipeline = Pipeline(steps)\n",
    "\n",
    "# Create the parameter space\n",
    "parameters = {\"logreg__C\": np.linspace(0.001, 1.0, 20)}                          # 모델의 하이퍼파라미터 name = \"logreg__C\"로 해야 함\n",
    "X_train, X_test, y_train, y_test = train_test_split(X, y, test_size=0.2, \n",
    "                                                    random_state=21)\n",
    "\n",
    "# Instantiate the grid search object\n",
    "cv = GridSearchCV(pipeline, param_grid=parameters)\n",
    "\n",
    "# Fit to the training data\n",
    "cv.fit(X_train, y_train)\n",
    "print(cv.best_score_, \"\\n\", cv.best_params_)"
   ]
  },
  {
   "cell_type": "markdown",
   "id": "b5c523f6-c3f6-4a41-b8f9-3d77bc7e744f",
   "metadata": {},
   "source": [
    "#### Evaluating multiple models (Visualizing regression model performance)"
   ]
  },
  {
   "cell_type": "markdown",
   "id": "31ea8bbf-78c0-44af-8dc2-475d0019e66a",
   "metadata": {},
   "source": [
    "* 상황마다 사용해야 하는 모델은 다름\n",
    "* 기능이 적을수록 더 간단하고 빠름 (+ 해석 가능한 모델)"
   ]
  },
  {
   "cell_type": "markdown",
   "id": "fe30cf1a-e849-499e-b66d-37cc860925e1",
   "metadata": {},
   "source": [
    "It's all in the metrics\n",
    "* Regression model performance:\n",
    "    * RMSE\n",
    "    * R-squared\n",
    "* Classification model performance:\n",
    "    * Accuracy\n",
    "    * Confusion matrix\n",
    "    * Precision, recall, F1-score\n",
    "    * ROC AUC  \n",
    "  \n",
    "A note on scaling\n",
    "* Models affected by scaling\n",
    "    * KNN\n",
    "    * Linear Regression (+ Ridge, Lasso)\n",
    "    * Logistic Regression\n",
    "    * Artificiai Neural Network\n",
    "* Best to scale our data before evaluating models"
   ]
  },
  {
   "cell_type": "code",
   "execution_count": null,
   "id": "8ee73803-d653-4cc6-adcf-4111259777a8",
   "metadata": {},
   "outputs": [],
   "source": [
    "models = {\"Linear Regression\": LinearRegression(), \"Ridge\": Ridge(alpha=0.1), \"Lasso\": Lasso(alpha=0.1)}\n",
    "results = []\n",
    "\n",
    "# Loop through the models' values\n",
    "for model in models.values():\n",
    "    kf = KFold(n_splits=6, random_state=42, shuffle=True)\n",
    "  \n",
    "    # Perform cross-validation\n",
    "    cv_scores = cross_val_score(model, X_train, y_train, cv=kf)\n",
    "  \n",
    "    # Append the results\n",
    "    results.append(cv_scores)\n",
    "\n",
    "# Create a box plot of the results\n",
    "plt.boxplot(results, labels=models.keys())\n",
    "plt.show()"
   ]
  },
  {
   "cell_type": "markdown",
   "id": "50b7f662-8ec9-40b2-a739-89d831651c73",
   "metadata": {},
   "source": [
    "#### Predicting on the test set"
   ]
  },
  {
   "cell_type": "code",
   "execution_count": null,
   "id": "ae6e022e-3ea4-4db5-af70-2292123107f0",
   "metadata": {},
   "outputs": [],
   "source": [
    "# Import mean_squared_error\n",
    "from sklearn.metrics import mean_squared_error\n",
    "\n",
    "for name, model in models.items():\n",
    "  \n",
    "    # Fit the model to the training data\n",
    "    model.fit(X_train_scaled, y_train)\n",
    "\n",
    "    # Make predictions on the test set\n",
    "    y_pred = model.predict(X_test_scaled)\n",
    "\n",
    "    # Calculate the test_rmse\n",
    "    test_rmse = mean_squared_error(y_test, y_pred, squared=False)\n",
    "    print(\"{} Test Set RMSE: {}\".format(name, test_rmse))"
   ]
  },
  {
   "cell_type": "markdown",
   "id": "39e08a43-fbef-4723-aff5-22f17173f4b1",
   "metadata": {},
   "source": [
    "#### Visualizing classification model performance"
   ]
  },
  {
   "cell_type": "code",
   "execution_count": null,
   "id": "4f728fb8-33e2-4997-b922-3b665ce68676",
   "metadata": {},
   "outputs": [],
   "source": [
    "# Create models dictionary\n",
    "models = {\"Logistic Regression\": LogisticRegression(), \"KNN\": KNeighborsClassifier(), \"Decision Tree Classifier\": DecisionTreeClassifier()}\n",
    "results = []\n",
    "\n",
    "# Loop through the models' values\n",
    "for model in models.values():\n",
    "  \n",
    "    # Instantiate a KFold object\n",
    "    kf = KFold(n_splits=6, random_state=12, shuffle=True)\n",
    "\n",
    "    # Perform cross-validation\n",
    "    cv_results = cross_val_score(model, X_train_scaled, y_train, cv=kf)\n",
    "    results.append(cv_results)\n",
    "plt.boxplot(results, labels=models.keys())\n",
    "plt.show()"
   ]
  },
  {
   "cell_type": "markdown",
   "id": "35b3d41e-a9eb-417a-89cf-0d5c3629af7d",
   "metadata": {},
   "source": [
    "#### Pipeline for predicting song popularity"
   ]
  },
  {
   "cell_type": "code",
   "execution_count": null,
   "id": "167a6557-b798-4399-b748-8554ce779db1",
   "metadata": {},
   "outputs": [],
   "source": [
    "# Create steps\n",
    "steps = [(\"imp_mean\", SimpleImputer()), \n",
    "         (\"scaler\", StandardScaler()), \n",
    "         (\"logreg\", LogisticRegression())]\n",
    "\n",
    "# Set up pipeline\n",
    "pipeline = Pipeline(steps)\n",
    "params = {\"logreg__solver\": [\"newton-cg\", \"saga\", \"lbfgs\"],\n",
    "         \"logreg__C\": np.linspace(0.001, 1.0, 10)}\n",
    "\n",
    "# Create the GridSearchCV object\n",
    "tuning = GridSearchCV(pipeline, param_grid=params)\n",
    "tuning.fit(X_train, y_train)\n",
    "y_pred = tuning.predict(X_test)\n",
    "\n",
    "# Compute and print performance\n",
    "print(\"Tuned Logistic Regression Parameters: {}, Accuracy: {}\".format(tuning.best_params_, tuning.score(X_test, y_test)))"
   ]
  },
  {
   "cell_type": "markdown",
   "id": "edc021b3-beb8-482c-9739-8a6855b055f3",
   "metadata": {
    "tags": []
   },
   "source": [
    "# 이론 및 실습"
   ]
  },
  {
   "cell_type": "markdown",
   "id": "9742437a-228a-43f9-b14a-a96c05531318",
   "metadata": {},
   "source": [
    "## (1) Classification"
   ]
  },
  {
   "cell_type": "markdown",
   "id": "7f0028e3-76f6-4dd2-9c0a-ed9879c31131",
   "metadata": {},
   "source": [
    "### KNN"
   ]
  },
  {
   "cell_type": "markdown",
   "id": "2fddfefb-ed78-403f-ab00-14aedf75508b",
   "metadata": {},
   "source": [
    "K-Nearest Neighbors\n",
    "* 가장 간단한 ML Algorithm\n",
    "* 분류/회귀 문제 모두에 적용 가능\n",
    "* 훈련 데이터셋을 그냥 저장. 새로운 데이터 포인트를 예측할 땐 훈련 데이터셋에서 가장 가까운 데이터 포인트의 최근접 이웃을 찾음\n",
    "    * 학습 데이터와의 거리를 계산해 근처에 있는 **K** 개의 점까지 데이터를 어떻게 분류했는지 확인 후 다수결로 데이터를 분류\n",
    "\n",
    "Logic\n",
    "* (1) 입력 데이터로 학습 데이터 거리 계산\n",
    "* (2) 입력 데이터와 가까운 K개의 학습 데이터 탐색\n",
    "* (3) 학습 데이터의 레이블에서 다수결로 알 수 없는 입력 데이터를 분류\n",
    "    * K는 보통 홀수로 정해 다수결의 결과로 데이터를 어느 한 쪽으로 반드시 분류하게 만든다.\n",
    "    \n",
    "\n",
    "특징\n",
    "* 이웃 수 (K)를 늘릴수록 결정 경계는 부드러워짐 -> 복잡도 낮아짐 (일반화 높아짐)\n",
    "* KNN은 데이터 개수가 적거나 차원이 낮을 때 적합\n",
    "* 작은 구성비를 가진 데이터들이 학습, 테스트 데이터로 분리될 경우, 제대로 된 학습이 어려움. 따라서, 구성비가 다른 불균형 데이터는 Stratified가 붙은 클래스를 이용하거나 train_test_split의 stratify 옵션 활용"
   ]
  },
  {
   "cell_type": "code",
   "execution_count": 101,
   "id": "a4259b0d-c749-40af-aba4-7177397fa087",
   "metadata": {},
   "outputs": [
    {
     "name": "stdout",
     "output_type": "stream",
     "text": [
      "load_breast_cancer shape: (569, 31)\n"
     ]
    },
    {
     "data": {
      "text/html": [
       "<div>\n",
       "<style scoped>\n",
       "    .dataframe tbody tr th:only-of-type {\n",
       "        vertical-align: middle;\n",
       "    }\n",
       "\n",
       "    .dataframe tbody tr th {\n",
       "        vertical-align: top;\n",
       "    }\n",
       "\n",
       "    .dataframe thead th {\n",
       "        text-align: right;\n",
       "    }\n",
       "</style>\n",
       "<table border=\"1\" class=\"dataframe\">\n",
       "  <thead>\n",
       "    <tr style=\"text-align: right;\">\n",
       "      <th></th>\n",
       "      <th>mean radius</th>\n",
       "      <th>mean texture</th>\n",
       "      <th>mean perimeter</th>\n",
       "      <th>mean area</th>\n",
       "      <th>mean smoothness</th>\n",
       "      <th>mean compactness</th>\n",
       "      <th>mean concavity</th>\n",
       "      <th>mean concave points</th>\n",
       "      <th>mean symmetry</th>\n",
       "      <th>mean fractal dimension</th>\n",
       "      <th>radius error</th>\n",
       "      <th>texture error</th>\n",
       "      <th>perimeter error</th>\n",
       "      <th>area error</th>\n",
       "      <th>smoothness error</th>\n",
       "      <th>compactness error</th>\n",
       "      <th>concavity error</th>\n",
       "      <th>concave points error</th>\n",
       "      <th>symmetry error</th>\n",
       "      <th>fractal dimension error</th>\n",
       "      <th>worst radius</th>\n",
       "      <th>worst texture</th>\n",
       "      <th>worst perimeter</th>\n",
       "      <th>worst area</th>\n",
       "      <th>worst smoothness</th>\n",
       "      <th>worst compactness</th>\n",
       "      <th>worst concavity</th>\n",
       "      <th>worst concave points</th>\n",
       "      <th>worst symmetry</th>\n",
       "      <th>worst fractal dimension</th>\n",
       "      <th>label</th>\n",
       "    </tr>\n",
       "  </thead>\n",
       "  <tbody>\n",
       "    <tr>\n",
       "      <th>0</th>\n",
       "      <td>17.99</td>\n",
       "      <td>10.38</td>\n",
       "      <td>122.80</td>\n",
       "      <td>1001.0</td>\n",
       "      <td>0.11840</td>\n",
       "      <td>0.27760</td>\n",
       "      <td>0.3001</td>\n",
       "      <td>0.14710</td>\n",
       "      <td>0.2419</td>\n",
       "      <td>0.07871</td>\n",
       "      <td>1.0950</td>\n",
       "      <td>0.9053</td>\n",
       "      <td>8.589</td>\n",
       "      <td>153.40</td>\n",
       "      <td>0.006399</td>\n",
       "      <td>0.04904</td>\n",
       "      <td>0.05373</td>\n",
       "      <td>0.01587</td>\n",
       "      <td>0.03003</td>\n",
       "      <td>0.006193</td>\n",
       "      <td>25.38</td>\n",
       "      <td>17.33</td>\n",
       "      <td>184.60</td>\n",
       "      <td>2019.0</td>\n",
       "      <td>0.1622</td>\n",
       "      <td>0.6656</td>\n",
       "      <td>0.7119</td>\n",
       "      <td>0.2654</td>\n",
       "      <td>0.4601</td>\n",
       "      <td>0.11890</td>\n",
       "      <td>0</td>\n",
       "    </tr>\n",
       "    <tr>\n",
       "      <th>1</th>\n",
       "      <td>20.57</td>\n",
       "      <td>17.77</td>\n",
       "      <td>132.90</td>\n",
       "      <td>1326.0</td>\n",
       "      <td>0.08474</td>\n",
       "      <td>0.07864</td>\n",
       "      <td>0.0869</td>\n",
       "      <td>0.07017</td>\n",
       "      <td>0.1812</td>\n",
       "      <td>0.05667</td>\n",
       "      <td>0.5435</td>\n",
       "      <td>0.7339</td>\n",
       "      <td>3.398</td>\n",
       "      <td>74.08</td>\n",
       "      <td>0.005225</td>\n",
       "      <td>0.01308</td>\n",
       "      <td>0.01860</td>\n",
       "      <td>0.01340</td>\n",
       "      <td>0.01389</td>\n",
       "      <td>0.003532</td>\n",
       "      <td>24.99</td>\n",
       "      <td>23.41</td>\n",
       "      <td>158.80</td>\n",
       "      <td>1956.0</td>\n",
       "      <td>0.1238</td>\n",
       "      <td>0.1866</td>\n",
       "      <td>0.2416</td>\n",
       "      <td>0.1860</td>\n",
       "      <td>0.2750</td>\n",
       "      <td>0.08902</td>\n",
       "      <td>0</td>\n",
       "    </tr>\n",
       "    <tr>\n",
       "      <th>2</th>\n",
       "      <td>19.69</td>\n",
       "      <td>21.25</td>\n",
       "      <td>130.00</td>\n",
       "      <td>1203.0</td>\n",
       "      <td>0.10960</td>\n",
       "      <td>0.15990</td>\n",
       "      <td>0.1974</td>\n",
       "      <td>0.12790</td>\n",
       "      <td>0.2069</td>\n",
       "      <td>0.05999</td>\n",
       "      <td>0.7456</td>\n",
       "      <td>0.7869</td>\n",
       "      <td>4.585</td>\n",
       "      <td>94.03</td>\n",
       "      <td>0.006150</td>\n",
       "      <td>0.04006</td>\n",
       "      <td>0.03832</td>\n",
       "      <td>0.02058</td>\n",
       "      <td>0.02250</td>\n",
       "      <td>0.004571</td>\n",
       "      <td>23.57</td>\n",
       "      <td>25.53</td>\n",
       "      <td>152.50</td>\n",
       "      <td>1709.0</td>\n",
       "      <td>0.1444</td>\n",
       "      <td>0.4245</td>\n",
       "      <td>0.4504</td>\n",
       "      <td>0.2430</td>\n",
       "      <td>0.3613</td>\n",
       "      <td>0.08758</td>\n",
       "      <td>0</td>\n",
       "    </tr>\n",
       "    <tr>\n",
       "      <th>3</th>\n",
       "      <td>11.42</td>\n",
       "      <td>20.38</td>\n",
       "      <td>77.58</td>\n",
       "      <td>386.1</td>\n",
       "      <td>0.14250</td>\n",
       "      <td>0.28390</td>\n",
       "      <td>0.2414</td>\n",
       "      <td>0.10520</td>\n",
       "      <td>0.2597</td>\n",
       "      <td>0.09744</td>\n",
       "      <td>0.4956</td>\n",
       "      <td>1.1560</td>\n",
       "      <td>3.445</td>\n",
       "      <td>27.23</td>\n",
       "      <td>0.009110</td>\n",
       "      <td>0.07458</td>\n",
       "      <td>0.05661</td>\n",
       "      <td>0.01867</td>\n",
       "      <td>0.05963</td>\n",
       "      <td>0.009208</td>\n",
       "      <td>14.91</td>\n",
       "      <td>26.50</td>\n",
       "      <td>98.87</td>\n",
       "      <td>567.7</td>\n",
       "      <td>0.2098</td>\n",
       "      <td>0.8663</td>\n",
       "      <td>0.6869</td>\n",
       "      <td>0.2575</td>\n",
       "      <td>0.6638</td>\n",
       "      <td>0.17300</td>\n",
       "      <td>0</td>\n",
       "    </tr>\n",
       "    <tr>\n",
       "      <th>4</th>\n",
       "      <td>20.29</td>\n",
       "      <td>14.34</td>\n",
       "      <td>135.10</td>\n",
       "      <td>1297.0</td>\n",
       "      <td>0.10030</td>\n",
       "      <td>0.13280</td>\n",
       "      <td>0.1980</td>\n",
       "      <td>0.10430</td>\n",
       "      <td>0.1809</td>\n",
       "      <td>0.05883</td>\n",
       "      <td>0.7572</td>\n",
       "      <td>0.7813</td>\n",
       "      <td>5.438</td>\n",
       "      <td>94.44</td>\n",
       "      <td>0.011490</td>\n",
       "      <td>0.02461</td>\n",
       "      <td>0.05688</td>\n",
       "      <td>0.01885</td>\n",
       "      <td>0.01756</td>\n",
       "      <td>0.005115</td>\n",
       "      <td>22.54</td>\n",
       "      <td>16.67</td>\n",
       "      <td>152.20</td>\n",
       "      <td>1575.0</td>\n",
       "      <td>0.1374</td>\n",
       "      <td>0.2050</td>\n",
       "      <td>0.4000</td>\n",
       "      <td>0.1625</td>\n",
       "      <td>0.2364</td>\n",
       "      <td>0.07678</td>\n",
       "      <td>0</td>\n",
       "    </tr>\n",
       "  </tbody>\n",
       "</table>\n",
       "</div>"
      ],
      "text/plain": [
       "   mean radius  mean texture  mean perimeter  mean area  mean smoothness  \\\n",
       "0        17.99         10.38          122.80     1001.0          0.11840   \n",
       "1        20.57         17.77          132.90     1326.0          0.08474   \n",
       "2        19.69         21.25          130.00     1203.0          0.10960   \n",
       "3        11.42         20.38           77.58      386.1          0.14250   \n",
       "4        20.29         14.34          135.10     1297.0          0.10030   \n",
       "\n",
       "   mean compactness  mean concavity  mean concave points  mean symmetry  \\\n",
       "0           0.27760          0.3001              0.14710         0.2419   \n",
       "1           0.07864          0.0869              0.07017         0.1812   \n",
       "2           0.15990          0.1974              0.12790         0.2069   \n",
       "3           0.28390          0.2414              0.10520         0.2597   \n",
       "4           0.13280          0.1980              0.10430         0.1809   \n",
       "\n",
       "   mean fractal dimension  radius error  texture error  perimeter error  \\\n",
       "0                 0.07871        1.0950         0.9053            8.589   \n",
       "1                 0.05667        0.5435         0.7339            3.398   \n",
       "2                 0.05999        0.7456         0.7869            4.585   \n",
       "3                 0.09744        0.4956         1.1560            3.445   \n",
       "4                 0.05883        0.7572         0.7813            5.438   \n",
       "\n",
       "   area error  smoothness error  compactness error  concavity error  \\\n",
       "0      153.40          0.006399            0.04904          0.05373   \n",
       "1       74.08          0.005225            0.01308          0.01860   \n",
       "2       94.03          0.006150            0.04006          0.03832   \n",
       "3       27.23          0.009110            0.07458          0.05661   \n",
       "4       94.44          0.011490            0.02461          0.05688   \n",
       "\n",
       "   concave points error  symmetry error  fractal dimension error  \\\n",
       "0               0.01587         0.03003                 0.006193   \n",
       "1               0.01340         0.01389                 0.003532   \n",
       "2               0.02058         0.02250                 0.004571   \n",
       "3               0.01867         0.05963                 0.009208   \n",
       "4               0.01885         0.01756                 0.005115   \n",
       "\n",
       "   worst radius  worst texture  worst perimeter  worst area  worst smoothness  \\\n",
       "0         25.38          17.33           184.60      2019.0            0.1622   \n",
       "1         24.99          23.41           158.80      1956.0            0.1238   \n",
       "2         23.57          25.53           152.50      1709.0            0.1444   \n",
       "3         14.91          26.50            98.87       567.7            0.2098   \n",
       "4         22.54          16.67           152.20      1575.0            0.1374   \n",
       "\n",
       "   worst compactness  worst concavity  worst concave points  worst symmetry  \\\n",
       "0             0.6656           0.7119                0.2654          0.4601   \n",
       "1             0.1866           0.2416                0.1860          0.2750   \n",
       "2             0.4245           0.4504                0.2430          0.3613   \n",
       "3             0.8663           0.6869                0.2575          0.6638   \n",
       "4             0.2050           0.4000                0.1625          0.2364   \n",
       "\n",
       "   worst fractal dimension  label  \n",
       "0                  0.11890      0  \n",
       "1                  0.08902      0  \n",
       "2                  0.08758      0  \n",
       "3                  0.17300      0  \n",
       "4                  0.07678      0  "
      ]
     },
     "metadata": {},
     "output_type": "display_data"
    }
   ],
   "source": [
    "import mglearn\n",
    "import pandas as pd\n",
    "pd.set_option('display.max_columns', None)\n",
    "\n",
    "import matplotlib.pyplot as plt\n",
    "plt.rc('font', family='Malgun Gothic')\n",
    "plt.rc('axes', unicode_minus=False)\n",
    "\n",
    "import seaborn as sns\n",
    "import warnings; warnings.filterwarnings('ignore')\n",
    "\n",
    "from sklearn.neighbors import KNeighborsClassifier\n",
    "from sklearn.datasets import make_moons, load_breast_cancer\n",
    "from sklearn.model_selection import train_test_split\n",
    "from sklearn.metrics import accuracy_score\n",
    "\n",
    "# load_make_moons = make_moons()\n",
    "load_breast_cancer = load_breast_cancer()\n",
    "\n",
    "# dataframe\n",
    "# moons = pd.DataFrame(data=load_make_moons, columns=load_make_moons.feature_names)\n",
    "# moons.label = load_make_moons.target\n",
    "cancer = pd.DataFrame(data=load_breast_cancer.data, columns=load_breast_cancer.feature_names)\n",
    "cancer['label'] = load_breast_cancer.target\n",
    "\n",
    "print(f\"load_breast_cancer shape: {cancer.shape}\")\n",
    "display(cancer.head())"
   ]
  },
  {
   "cell_type": "code",
   "execution_count": 102,
   "id": "316d724b-1424-4173-bf34-5e0ab79d5c41",
   "metadata": {},
   "outputs": [
    {
     "data": {
      "text/html": [
       "<div>\n",
       "<style scoped>\n",
       "    .dataframe tbody tr th:only-of-type {\n",
       "        vertical-align: middle;\n",
       "    }\n",
       "\n",
       "    .dataframe tbody tr th {\n",
       "        vertical-align: top;\n",
       "    }\n",
       "\n",
       "    .dataframe thead th {\n",
       "        text-align: right;\n",
       "    }\n",
       "</style>\n",
       "<table border=\"1\" class=\"dataframe\">\n",
       "  <thead>\n",
       "    <tr style=\"text-align: right;\">\n",
       "      <th></th>\n",
       "      <th>index</th>\n",
       "      <th>label</th>\n",
       "      <th>label_balance</th>\n",
       "    </tr>\n",
       "  </thead>\n",
       "  <tbody>\n",
       "    <tr>\n",
       "      <th>0</th>\n",
       "      <td>1</td>\n",
       "      <td>357</td>\n",
       "      <td>62.74</td>\n",
       "    </tr>\n",
       "    <tr>\n",
       "      <th>1</th>\n",
       "      <td>0</td>\n",
       "      <td>212</td>\n",
       "      <td>37.26</td>\n",
       "    </tr>\n",
       "  </tbody>\n",
       "</table>\n",
       "</div>"
      ],
      "text/plain": [
       "   index  label  label_balance\n",
       "0      1    357          62.74\n",
       "1      0    212          37.26"
      ]
     },
     "metadata": {},
     "output_type": "display_data"
    },
    {
     "name": "stdout",
     "output_type": "stream",
     "text": [
      "target 데이터 불균형함\n"
     ]
    }
   ],
   "source": [
    "# label (target data)의 불균형 체크\n",
    "cancer_tar_bal = cancer.label.value_counts().to_frame().reset_index()\n",
    "cancer_tar_bal['label_balance'] = round(cancer_tar_bal['label'] / sum(cancer_tar_bal['label']) * 100, 2)\n",
    "display(cancer_tar_bal)\n",
    "\n",
    "for i in cancer_tar_bal['label_balance']:\n",
    "    if i >= 60:\n",
    "        print(\"target 데이터 불균형함\")\n",
    "\n",
    "# KNN 모델 학습\n",
    "knn_X = cancer.drop(columns=['label']).values\n",
    "knn_y = cancer['label'].values\n",
    "knn_X_train, knn_X_test, knn_y_train, knn_y_test = train_test_split(knn_X, knn_y, test_size=0.3, stratify=knn_y, random_state=42)"
   ]
  },
  {
   "cell_type": "code",
   "execution_count": 107,
   "id": "49a86db3-6b05-44e1-85b0-a030d65023e3",
   "metadata": {},
   "outputs": [
    {
     "data": {
      "image/png": "[encoded data removed]",
      "text/plain": [
       "<Figure size 576x432 with 1 Axes>"
      ]
     },
     "metadata": {
      "needs_background": "light"
     },
     "output_type": "display_data"
    }
   ],
   "source": [
    "# KNN의 neighbors 수에 따른 결정경계\n",
    "\n",
    "# _, axes = plt.subplots(2, 5, figsize=(15, 7))\n",
    "# for k, ax in zip(k_li, axes.ravel()):\n",
    "#     knn = KNeighborsClassifier(n_neighbors=k)\n",
    "#     knn.fit(knn_X_train, knn_y_train)\n",
    "#     mglearn.plots.plot_2d_separator(classifier=knn, X=knn_X_train, fill=True, eps=0.5, ax=ax, alpha=.4)\n",
    "#     mglearn.discrete_scatter(knn_X_train[:, 0], knn_X_train[:, 1], knn_y_train, ax=ax)\n",
    "#     ax.set_title(f\"{k} neighbor\")\n",
    "\n",
    "# training and test 정확도 비교\n",
    "train_acc, test_acc = [], []\n",
    "k_li = range(1, 11) # k = 1~10\n",
    "\n",
    "for k in k_li:\n",
    "    # fitting model\n",
    "    knn = KNeighborsClassifier(n_neighbors=k)\n",
    "    knn.fit(knn_X_train, knn_y_train)\n",
    "    # training set accuracy\n",
    "    train_acc.append(knn.score(knn_X_train, knn_y_train))\n",
    "    # test set accuracy\n",
    "    test_acc.append(knn.score(knn_X_test, knn_y_test))\n",
    "    \n",
    "plt.figure(figsize=(8, 6))\n",
    "plt.plot(k_li, train_acc, label='학습용 데이터 accuracy')\n",
    "plt.plot(k_li, test_acc, label='테스트용 데이터 accuracy')\n",
    "plt.title('K(n_neighbors)에 따른 training & test accuracy')\n",
    "plt.xlabel('K')\n",
    "plt.ylabel('accuracy')\n",
    "plt.grid(color='lightgrey', alpha=0.34)"
   ]
  },
  {
   "cell_type": "markdown",
   "id": "65a6a594-2f6f-4136-b9a6-9b7c4d55bb0a",
   "metadata": {},
   "source": [
    "* k=9일 때 테스트 정확도 제일 높음"
   ]
  },
  {
   "cell_type": "markdown",
   "id": "2f557baf-2aa2-4a89-a1c6-055119c16e7b",
   "metadata": {},
   "source": [
    "## (2) Regression"
   ]
  },
  {
   "cell_type": "markdown",
   "id": "8679bcc2-f1ef-4080-9cc7-ea64d7ce95a0",
   "metadata": {},
   "source": [
    "회귀 : 여러 개의 독립변수와 한 개의 종속변수 간의 상관관계를 모델링하는 기법을 통칭"
   ]
  },
  {
   "cell_type": "code",
   "execution_count": 129,
   "id": "61bc8657-5357-446c-9d25-0ea4cf20203b",
   "metadata": {},
   "outputs": [
    {
     "name": "stdout",
     "output_type": "stream",
     "text": [
      "(506, 14)\n"
     ]
    },
    {
     "data": {
      "text/html": [
       "<div>\n",
       "<style scoped>\n",
       "    .dataframe tbody tr th:only-of-type {\n",
       "        vertical-align: middle;\n",
       "    }\n",
       "\n",
       "    .dataframe tbody tr th {\n",
       "        vertical-align: top;\n",
       "    }\n",
       "\n",
       "    .dataframe thead th {\n",
       "        text-align: right;\n",
       "    }\n",
       "</style>\n",
       "<table border=\"1\" class=\"dataframe\">\n",
       "  <thead>\n",
       "    <tr style=\"text-align: right;\">\n",
       "      <th></th>\n",
       "      <th>CRIM</th>\n",
       "      <th>ZN</th>\n",
       "      <th>INDUS</th>\n",
       "      <th>CHAS</th>\n",
       "      <th>NOX</th>\n",
       "      <th>RM</th>\n",
       "      <th>AGE</th>\n",
       "      <th>DIS</th>\n",
       "      <th>RAD</th>\n",
       "      <th>TAX</th>\n",
       "      <th>PTRATIO</th>\n",
       "      <th>B</th>\n",
       "      <th>LSTAT</th>\n",
       "      <th>label</th>\n",
       "    </tr>\n",
       "  </thead>\n",
       "  <tbody>\n",
       "    <tr>\n",
       "      <th>0</th>\n",
       "      <td>0.00632</td>\n",
       "      <td>18.0</td>\n",
       "      <td>2.31</td>\n",
       "      <td>0.0</td>\n",
       "      <td>0.538</td>\n",
       "      <td>6.575</td>\n",
       "      <td>65.2</td>\n",
       "      <td>4.0900</td>\n",
       "      <td>1.0</td>\n",
       "      <td>296.0</td>\n",
       "      <td>15.3</td>\n",
       "      <td>396.90</td>\n",
       "      <td>4.98</td>\n",
       "      <td>24.0</td>\n",
       "    </tr>\n",
       "    <tr>\n",
       "      <th>1</th>\n",
       "      <td>0.02731</td>\n",
       "      <td>0.0</td>\n",
       "      <td>7.07</td>\n",
       "      <td>0.0</td>\n",
       "      <td>0.469</td>\n",
       "      <td>6.421</td>\n",
       "      <td>78.9</td>\n",
       "      <td>4.9671</td>\n",
       "      <td>2.0</td>\n",
       "      <td>242.0</td>\n",
       "      <td>17.8</td>\n",
       "      <td>396.90</td>\n",
       "      <td>9.14</td>\n",
       "      <td>21.6</td>\n",
       "    </tr>\n",
       "    <tr>\n",
       "      <th>2</th>\n",
       "      <td>0.02729</td>\n",
       "      <td>0.0</td>\n",
       "      <td>7.07</td>\n",
       "      <td>0.0</td>\n",
       "      <td>0.469</td>\n",
       "      <td>7.185</td>\n",
       "      <td>61.1</td>\n",
       "      <td>4.9671</td>\n",
       "      <td>2.0</td>\n",
       "      <td>242.0</td>\n",
       "      <td>17.8</td>\n",
       "      <td>392.83</td>\n",
       "      <td>4.03</td>\n",
       "      <td>34.7</td>\n",
       "    </tr>\n",
       "    <tr>\n",
       "      <th>3</th>\n",
       "      <td>0.03237</td>\n",
       "      <td>0.0</td>\n",
       "      <td>2.18</td>\n",
       "      <td>0.0</td>\n",
       "      <td>0.458</td>\n",
       "      <td>6.998</td>\n",
       "      <td>45.8</td>\n",
       "      <td>6.0622</td>\n",
       "      <td>3.0</td>\n",
       "      <td>222.0</td>\n",
       "      <td>18.7</td>\n",
       "      <td>394.63</td>\n",
       "      <td>2.94</td>\n",
       "      <td>33.4</td>\n",
       "    </tr>\n",
       "    <tr>\n",
       "      <th>4</th>\n",
       "      <td>0.06905</td>\n",
       "      <td>0.0</td>\n",
       "      <td>2.18</td>\n",
       "      <td>0.0</td>\n",
       "      <td>0.458</td>\n",
       "      <td>7.147</td>\n",
       "      <td>54.2</td>\n",
       "      <td>6.0622</td>\n",
       "      <td>3.0</td>\n",
       "      <td>222.0</td>\n",
       "      <td>18.7</td>\n",
       "      <td>396.90</td>\n",
       "      <td>5.33</td>\n",
       "      <td>36.2</td>\n",
       "    </tr>\n",
       "  </tbody>\n",
       "</table>\n",
       "</div>"
      ],
      "text/plain": [
       "      CRIM    ZN  INDUS  CHAS    NOX     RM   AGE     DIS  RAD    TAX  \\\n",
       "0  0.00632  18.0   2.31   0.0  0.538  6.575  65.2  4.0900  1.0  296.0   \n",
       "1  0.02731   0.0   7.07   0.0  0.469  6.421  78.9  4.9671  2.0  242.0   \n",
       "2  0.02729   0.0   7.07   0.0  0.469  7.185  61.1  4.9671  2.0  242.0   \n",
       "3  0.03237   0.0   2.18   0.0  0.458  6.998  45.8  6.0622  3.0  222.0   \n",
       "4  0.06905   0.0   2.18   0.0  0.458  7.147  54.2  6.0622  3.0  222.0   \n",
       "\n",
       "   PTRATIO       B  LSTAT  label  \n",
       "0     15.3  396.90   4.98   24.0  \n",
       "1     17.8  396.90   9.14   21.6  \n",
       "2     17.8  392.83   4.03   34.7  \n",
       "3     18.7  394.63   2.94   33.4  \n",
       "4     18.7  396.90   5.33   36.2  "
      ]
     },
     "metadata": {},
     "output_type": "display_data"
    },
    {
     "name": "stdout",
     "output_type": "stream",
     "text": [
      "RMSE: 4.700924890603808\n",
      "R2 score: 0.6844267283527068\n",
      "절편: 29.83642016383853\n",
      "회귀계수 값: [ -0.1   0.    0.    2.8 -16.2   4.4  -0.   -1.4   0.3  -0.   -0.9   0.\n",
      "  -0.5]\n",
      "\n",
      "\n",
      "각 컬럼의 회귀계수 값\n"
     ]
    },
    {
     "data": {
      "text/html": [
       "<div>\n",
       "<style scoped>\n",
       "    .dataframe tbody tr th:only-of-type {\n",
       "        vertical-align: middle;\n",
       "    }\n",
       "\n",
       "    .dataframe tbody tr th {\n",
       "        vertical-align: top;\n",
       "    }\n",
       "\n",
       "    .dataframe thead th {\n",
       "        text-align: right;\n",
       "    }\n",
       "</style>\n",
       "<table border=\"1\" class=\"dataframe\">\n",
       "  <thead>\n",
       "    <tr style=\"text-align: right;\">\n",
       "      <th></th>\n",
       "      <th>RM</th>\n",
       "      <th>CHAS</th>\n",
       "      <th>RAD</th>\n",
       "      <th>ZN</th>\n",
       "      <th>INDUS</th>\n",
       "      <th>AGE</th>\n",
       "      <th>TAX</th>\n",
       "      <th>B</th>\n",
       "      <th>CRIM</th>\n",
       "      <th>LSTAT</th>\n",
       "      <th>PTRATIO</th>\n",
       "      <th>DIS</th>\n",
       "      <th>NOX</th>\n",
       "    </tr>\n",
       "  </thead>\n",
       "  <tbody>\n",
       "    <tr>\n",
       "      <th>0</th>\n",
       "      <td>4.4</td>\n",
       "      <td>2.8</td>\n",
       "      <td>0.3</td>\n",
       "      <td>0.0</td>\n",
       "      <td>0.0</td>\n",
       "      <td>-0.0</td>\n",
       "      <td>-0.0</td>\n",
       "      <td>0.0</td>\n",
       "      <td>-0.1</td>\n",
       "      <td>-0.5</td>\n",
       "      <td>-0.9</td>\n",
       "      <td>-1.4</td>\n",
       "      <td>-16.2</td>\n",
       "    </tr>\n",
       "  </tbody>\n",
       "</table>\n",
       "</div>"
      ],
      "text/plain": [
       "    RM  CHAS  RAD   ZN  INDUS  AGE  TAX    B  CRIM  LSTAT  PTRATIO  DIS   NOX\n",
       "0  4.4   2.8  0.3  0.0    0.0 -0.0 -0.0  0.0  -0.1   -0.5     -0.9 -1.4 -16.2"
      ]
     },
     "execution_count": 129,
     "metadata": {},
     "output_type": "execute_result"
    }
   ],
   "source": [
    "from sklearn.datasets import load_boston\n",
    "from sklearn.linear_model import LinearRegression\n",
    "from sklearn.metrics import mean_squared_error, r2_score\n",
    "\n",
    "boston = load_boston()\n",
    "label = boston.target\n",
    "boston = pd.DataFrame(boston.data, columns=boston.feature_names)\n",
    "boston['label'] = label\n",
    "print(boston.shape)\n",
    "display(boston.head())\n",
    "\n",
    "# fitting model\n",
    "X = boston.drop(columns=['label'], axis=1)\n",
    "y = boston['label']\n",
    "X_train, X_test, y_train, y_test = train_test_split(X, y, test_size=0.25, random_state=42)\n",
    "lr = LinearRegression()\n",
    "lr.fit(X_train, y_train)\n",
    "y_pred = lr.predict(X_test)\n",
    "\n",
    "print(f\"RMSE: {np.sqrt(mean_squared_error(y_test, y_pred))}\")\n",
    "print(f\"R2 score: {r2_score(y_test, y_pred)}\")\n",
    "print(f\"절편: {lr.intercept_}\")\n",
    "print(f\"회귀계수 값: {np.round(lr.coef_, 1)}\\n\\n\")\n",
    "print(\"각 컬럼의 회귀계수 값\")\n",
    "pd.DataFrame(data=np.round(lr.coef_, 1), index=X.columns.tolist()).sort_values(by=0, ascending=False).T"
   ]
  },
  {
   "cell_type": "markdown",
   "id": "2916b704-b20a-4450-8f1c-2dd1b8b1bb3b",
   "metadata": {},
   "source": [
    "* 위의 회귀계수 값들을 최적화하는 과정이 최적의 회귀선을 구하는 것"
   ]
  },
  {
   "cell_type": "markdown",
   "id": "487e6d62-e9b3-4eb9-b193-7eb3ea7659e2",
   "metadata": {},
   "source": [
    "### 교차 검증"
   ]
  },
  {
   "cell_type": "code",
   "execution_count": 138,
   "id": "c4060d1c-3cc1-4478-a0fc-9a3a83021dcf",
   "metadata": {},
   "outputs": [
    {
     "name": "stdout",
     "output_type": "stream",
     "text": [
      "Negative mean Squared Error: [-12.5 -26.  -33.1 -80.8 -33.3]\n",
      "MSE: [12.5 26.  33.1 80.8 33.3]\n",
      "RMSE: [3.5 5.1 5.8 9.  5.8]\n",
      "mean RMSE: 5.84\n"
     ]
    }
   ],
   "source": [
    "from sklearn.model_selection import cross_val_score\n",
    "\n",
    "# MSE 구한 후 RMSE 구함\n",
    "neg_mse = cross_val_score(estimator=lr, X=X, y=y, scoring='neg_mean_squared_error', cv = 5)\n",
    "rmse = np.sqrt(neg_mse * -1)\n",
    "\n",
    "\"\"\" <cross_val_score의 scoring을 neg_mean_squared_error로 한 다음, -1을 곱하는 이유>\n",
    ": cross_val_score는 RMSE를 제공하지 않으므로 MSE를 RMSE로 바꿔야 함.\n",
    "다만, cross_val_score의 scoring을 neg_mean_squared_error로 하면 값이 음수 값으로 나오는데\n",
    "(sklearn은 MSE에 음수를 취해서 오차를 점수로 바꿈. 점수가 클수록 좋은 것)\n",
    "이 값에 -1을 곱해서 양수 값으로 만들어야 원래 모델에서 계산된 MSE와 같게 됨\n",
    "\"\"\"\n",
    "\n",
    "print(f\"Negative mean Squared Error: {np.round(neg_mse, 1)}\")\n",
    "print(f\"MSE: {np.round(neg_mse * -1, 1)}\")\n",
    "print(f\"RMSE: {np.round(rmse, 1)}\")\n",
    "print(f\"mean RMSE: {np.mean(np.round(rmse, 1))}\")"
   ]
  },
  {
   "cell_type": "markdown",
   "id": "3fd20fc2-32fc-45ce-b654-fe48ec6050b2",
   "metadata": {},
   "source": [
    "### 규제 선형 모델"
   ]
  },
  {
   "cell_type": "code",
   "execution_count": null,
   "id": "7c121b31-6825-4da2-9352-fc38a47bbf81",
   "metadata": {},
   "outputs": [],
   "source": []
  },
  {
   "cell_type": "code",
   "execution_count": null,
   "id": "d2e4404a-6750-478a-ade3-e1fceebfcf75",
   "metadata": {},
   "outputs": [],
   "source": []
  },
  {
   "cell_type": "code",
   "execution_count": null,
   "id": "955c903c-506c-4fac-b551-e8f2bdbc08dc",
   "metadata": {},
   "outputs": [],
   "source": []
  },
  {
   "cell_type": "code",
   "execution_count": null,
   "id": "04946e56-4bfd-4a87-bd56-ed6f257a427d",
   "metadata": {},
   "outputs": [],
   "source": []
  },
  {
   "cell_type": "code",
   "execution_count": null,
   "id": "652fd141-2c11-44e1-816e-31bae969a79d",
   "metadata": {},
   "outputs": [],
   "source": []
  },
  {
   "cell_type": "code",
   "execution_count": null,
   "id": "168088aa-9f7d-44bf-816e-fd47f7a26e9d",
   "metadata": {},
   "outputs": [],
   "source": []
  },
  {
   "cell_type": "code",
   "execution_count": null,
   "id": "0cf4acd1-5433-49d3-8e4f-d88b6576daa3",
   "metadata": {},
   "outputs": [],
   "source": []
  },
  {
   "cell_type": "markdown",
   "id": "08056ea8-7999-4118-b14f-b15205c9835b",
   "metadata": {},
   "source": [
    "## (3) Fine-Tuning Your Model"
   ]
  },
  {
   "cell_type": "markdown",
   "id": "493299f0-2b20-488d-a455-58334262747f",
   "metadata": {},
   "source": [
    "* 오차율, 정확도(accuracy)는 분류 분석에서 가장 자주 사용하는 2가지 성능척도. 이진 분류 뿐만 아니라 다중 분류에서도 자주 사용.  \n",
    "    - 오차율 : 모든 샘플 수에서 잘못 분류한 샘플 수가 차지하는 비율\n",
    "    - 정확도 : 전체 샘플 수에서 정확히 분류한 샘플 수가 차지하는 비율\n",
    "* 오차율, 정확도는 자주 사용되지만 모든 문제에 활용되진 못함. \n",
    "    - ex) 수박 장수가 수박을 손수레에 가득 담아 왔다. 그는 훈련된 모델을 통해 수박들을 분류하려고 하는데 여기서 오차율은 덜 익은 수박으로 분류되는 판별 오차율을 나타낼 수 있다. 그러나, 우리가 알고자 하는 건 '골라낸 수박 중에 잘 익은 수박의 비율', 혹은 '모든 잘 익은 수박 중 선택될 비율'이다. 여기서 오차율은 도움을 줄 수 없다.\n",
    "    - ex) 정보 검색 중 일반적으로 확인하고자 하는 건 '검색된 자료 중 내가 관심있어 할 내용의 비율'이다.  \n",
    "\n",
    "* 정밀도(precision)와 재현율(recall)이 이러한 요구에 맞는 성능 척도.  \n",
    "    - 이진 분류 문제에서 실제 클래스와 학습기가 예측 분류한 클래스의 조합은 실제양성(true positive), 거짓양성(false positive), 실제음성(true negative), 거짓음성(false negative) 총 4가지로 요약\n",
    "    - 각각 TP, FP, TN, FN으로 나타내며 TP + FP + TN + FN = 총 샘플 수'이다.\n",
    "    - 이러한 분류 결과를 혼동행렬(confusion matrix)라고 함\n",
    "        - 정밀도: 양성 예측의 정확도. TP / TP + FP\n",
    "        - 재현율: 분류기가 정확하게 감지한 양성 샘플의 비율 (민감도 sensitivity, 진짜 양성 비율 true positive rate(TPR) 이라고도 함). TP / TP + FN\n",
    "* F1-Score\n",
    "    - 정밀도와 재현율을 하나의 숫자로 만든 것\n",
    "    - 정밀도와 재현율의 조화평균\n",
    "    - F1 = 2 / (1/정밀도 + 1/재현율) = 2 * (정밀도 * 재현율 / 정밀도 + 재현율) = TP / (TP + (FN + FP) / 2)"
   ]
  },
  {
   "cell_type": "markdown",
   "id": "042ea8df-0b9f-40d9-9fbb-576a53a11535",
   "metadata": {},
   "source": [
    "* Logistic regresson 을 활용한 평가\n",
    "* ROC Curve (receiver operating characterstic Curve)\n",
    "    * 이진 분류에서 많이 사용\n",
    "    * 정밀도에 대한 재현율 곡선이 아님. 거짓 양성 비율(False positive rate, FPR)에 대한 진짜 양성 비율(True positive rate, TPR)의 곡선\n",
    "        * FPR = 양성으로 잘못 분류된 음성 샘풀의 비율. 1 - TNR (음성으로 정확하게 분류한 음성 샘플의 비율)\n",
    "            * TNR = 특이도(speicificity)라고도 함\n",
    "    * 즉, ROC 곡선은 민감도(재현율)에 대한 1-특이도 그래프\n",
    "    * ROC 곡선이 좌측 하단과 우측 상단을 이은 직선에 가까울수록 성능이 떨어지는 것이며, 멀어질수록 성능이 뛰어난 것\n",
    "* ROC AUC\n",
    "    * 곡선 아래의 면적(area under the curve)을 측정하면 분류기들을 비교할 수 있음\n",
    "    * 완벽한 분류기는 ROC의 AUC가 1, 완전한 랜덤 분류기는 0.5"
   ]
  },
  {
   "cell_type": "code",
   "execution_count": null,
   "id": "dc0060f9-7ae3-4457-98b5-189344362a36",
   "metadata": {},
   "outputs": [],
   "source": []
  },
  {
   "cell_type": "code",
   "execution_count": null,
   "id": "6088ddde-4e73-4144-bb1c-8fdc1e685a8f",
   "metadata": {},
   "outputs": [],
   "source": []
  },
  {
   "cell_type": "code",
   "execution_count": null,
   "id": "e599d163-0ca3-4830-9b64-b8fcef57f380",
   "metadata": {},
   "outputs": [],
   "source": []
  },
  {
   "cell_type": "code",
   "execution_count": null,
   "id": "0c949cda-e5e4-47ae-b3e5-1b17ee09c557",
   "metadata": {},
   "outputs": [],
   "source": []
  },
  {
   "cell_type": "code",
   "execution_count": null,
   "id": "65fc7b8e-8e70-43f9-9bbb-04fe9efe8112",
   "metadata": {},
   "outputs": [],
   "source": []
  }
 ],
 "metadata": {
  "kernelspec": {
   "display_name": "Python 3 (ipykernel)",
   "language": "python",
   "name": "python3"
  },
  "language_info": {
   "codemirror_mode": {
    "name": "ipython",
    "version": 3
   },
   "file_extension": ".py",
   "mimetype": "text/x-python",
   "name": "python",
   "nbconvert_exporter": "python",
   "pygments_lexer": "ipython3",
   "version": "3.7.11"
  }
 },
 "nbformat": 4,
 "nbformat_minor": 5
}
