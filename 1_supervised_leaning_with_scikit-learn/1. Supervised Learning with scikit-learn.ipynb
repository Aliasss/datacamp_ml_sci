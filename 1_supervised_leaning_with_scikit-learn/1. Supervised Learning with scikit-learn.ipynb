{
 "cells": [
  {
   "cell_type": "markdown",
   "id": "3a3cc90a-0037-498f-a468-32c07ca8574b",
   "metadata": {},
   "source": [
    "# 1. Supervised Learning with scikit-learn"
   ]
  },
  {
   "cell_type": "markdown",
   "id": "a9d2b03c-de89-4cc6-a1be-1f40f38c084b",
   "metadata": {},
   "source": [
    "## (1) Classification"
   ]
  },
  {
   "cell_type": "code",
   "execution_count": 4,
   "id": "3ed2852b-027f-4d01-ae9c-48c94b238cdb",
   "metadata": {},
   "outputs": [
    {
     "data": {
      "text/plain": [
       "'0.21.3'"
      ]
     },
     "execution_count": 4,
     "metadata": {},
     "output_type": "execute_result"
    }
   ],
   "source": [
    "import warnings; warnings.filterwarnings('ignore')\n",
    "import sklearn\n",
    "sklearn.__version__\n",
    "\n",
    "# sklearn.neighbors.classification was renamed to sklearn.neighbors._classification in version 0.22.X\n",
    "# Downgrade to scikit-learn version <= 0.21.3 to fix this problem\n",
    "# (https://github.com/ageitgey/face_recognition/issues/1262)\n",
    "\n",
    "# pip install --user --upgrade scikit-learn==0.21.3"
   ]
  },
  {
   "cell_type": "markdown",
   "id": "d44692f7-25c5-4231-b004-44e7bf8b44cb",
   "metadata": {},
   "source": [
    "### **Classifying labels of unseen data**\n",
    "1. Build a model\n",
    "2. Model learns from the labeled data we pass to it (Labeled data = training data)\n",
    "3. pass unlabeled data to the model as input\n",
    "4. Model predicts the labels of the unseen data"
   ]
  },
  {
   "cell_type": "markdown",
   "id": "eb9e0426-30fb-4fec-945b-1a16dd03ffeb",
   "metadata": {},
   "source": [
    "### k-Nearest Neighbors\n",
    "* Predict the label of a data point by\n",
    "  * Looking at the **k** closest labeled data points\n",
    "  * Taking a majority vote"
   ]
  },
  {
   "cell_type": "code",
   "execution_count": 6,
   "id": "fca0cad3-114d-4320-bbd1-c6113e94a25e",
   "metadata": {},
   "outputs": [],
   "source": [
    "# KNN 사용법\n",
    "from sklearn.neighbors import KNeighborsClassifier\n",
    "import numpy as np\n",
    "\n",
    "X = churn_df[['total_day_charge', 'total_eve_charge']].values\n",
    "y = churn_df['churn'].values\n",
    "knn = KNeighborsClassifier(n_neighbors=15)\n",
    "knn.fit(X, y)\n",
    "\n",
    "X_new = np.array([[56.8, 17.5],\n",
    "                 [24.4,24.1],\n",
    "                 [50.1, 10.9]])\n",
    "print(X_new.shape)\n",
    "\n",
    "predictions = knn.predict(X_new)\n",
    "print(f'Predictions: {predictions}')"
   ]
  },
  {
   "cell_type": "markdown",
   "id": "c27853fe-e574-4e1b-a6e2-96d6008f4dcb",
   "metadata": {},
   "source": [
    "### Measuring model performance"
   ]
  },
  {
   "cell_type": "markdown",
   "id": "7695f3e5-9d5f-4a3b-9d21-620497f1c1f0",
   "metadata": {},
   "source": [
    "* How do we measure accuracy?\n",
    "* Could compute accuracy on the data used to fit the classifier\n",
    "* Not indicative of ability to generalize\n",
    "* Split data -> Training set / Test set"
   ]
  },
  {
   "cell_type": "code",
   "execution_count": null,
   "id": "88d10326-0a42-47bc-b0fa-356f2357d6a8",
   "metadata": {},
   "outputs": [],
   "source": [
    "# Train/test split\n",
    "from sklearn.medel_selection import train_test_split\n",
    "X = churn_df.drop(\"churn\", axis=1).values\n",
    "y = churn_df[\"churn\"].values\n",
    "\n",
    "X_train, X_test, y_train, y_test = train_test_split(X, y, test_size=0.3, random_state=21, stratify=y)\n",
    "\n",
    "knn = KNeighborsClassifier(n_neighbors=6)\n",
    "knn.fit(X_train, y_train)\n",
    "print(knn.score(X_test, y_test))"
   ]
  },
  {
   "cell_type": "markdown",
   "id": "c91bdc92-6cbd-4ae4-908a-df4fa8cfecf2",
   "metadata": {},
   "source": [
    "* Model Complexity\n",
    "  * Larger k = less complex model = can cause underfitting\n",
    "  * Smaller k = more complex model = can lead to overfitting"
   ]
  },
  {
   "cell_type": "code",
   "execution_count": null,
   "id": "a2ed6fe4-db63-4da9-ac99-37d2e3494a23",
   "metadata": {},
   "outputs": [],
   "source": [
    "# Model complexity and over/underfitting\n",
    "import matplotlib.pyplot as plt\n",
    "\n",
    "train_accuracies = {}\n",
    "test_accuracies = {}\n",
    "neighbors = np.arange(1, 26)\n",
    "\n",
    "for neighbor in neighbors:\n",
    "    knn = KNeighborsClassifier(n_neighbors=neighbor)\n",
    "    knn.fit(X_train, y_train)\n",
    "    train_accuracies[neighbor] = knn.score(X_train, y_train)\n",
    "    test_accuracies[neighbor] = knn.score(X_test, y_test)\n",
    "    \n",
    "print(neighbors, '\\n', train_accuracies, '\\n', test_accuracies)\n",
    "    \n",
    "plt.figure(figsize=(8, 6))\n",
    "plt.title(\"KNN: Varying Number of Neighbors\")\n",
    "plt.plot(neighbors, train_accuracies.values(), label=\"Training Accuracy\")\n",
    "plt.plot(neighbors, test_accuracies.values(), label=\"Testing Accuracy\")\n",
    "plt.xlabel(\"Number of Neighbors\")\n",
    "plt.ylabel(\"Accuracy\")"
   ]
  },
  {
   "cell_type": "markdown",
   "id": "e414d277-17d2-40af-bbd6-b2e493a3cc5f",
   "metadata": {},
   "source": [
    "## (2) Regression"
   ]
  },
  {
   "cell_type": "code",
   "execution_count": null,
   "id": "c6b578ea-3978-492c-907d-32ffea3c8d3d",
   "metadata": {},
   "outputs": [],
   "source": []
  }
 ],
 "metadata": {
  "kernelspec": {
   "display_name": "Python 3 (ipykernel)",
   "language": "python",
   "name": "python3"
  },
  "language_info": {
   "codemirror_mode": {
    "name": "ipython",
    "version": 3
   },
   "file_extension": ".py",
   "mimetype": "text/x-python",
   "name": "python",
   "nbconvert_exporter": "python",
   "pygments_lexer": "ipython3",
   "version": "3.7.11"
  }
 },
 "nbformat": 4,
 "nbformat_minor": 5
}
