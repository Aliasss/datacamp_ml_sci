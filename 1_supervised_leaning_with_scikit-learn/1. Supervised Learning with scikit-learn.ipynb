{
 "cells": [
  {
   "cell_type": "markdown",
   "id": "3a3cc90a-0037-498f-a468-32c07ca8574b",
   "metadata": {},
   "source": [
    "# 1. Supervised Learning with scikit-learn"
   ]
  },
  {
   "cell_type": "markdown",
   "id": "a9d2b03c-de89-4cc6-a1be-1f40f38c084b",
   "metadata": {},
   "source": [
    "## (1) Classification"
   ]
  },
  {
   "cell_type": "code",
   "execution_count": 4,
   "id": "3ed2852b-027f-4d01-ae9c-48c94b238cdb",
   "metadata": {},
   "outputs": [
    {
     "data": {
      "text/plain": [
       "'0.21.3'"
      ]
     },
     "execution_count": 4,
     "metadata": {},
     "output_type": "execute_result"
    }
   ],
   "source": [
    "import warnings; warnings.filterwarnings('ignore')\n",
    "import sklearn\n",
    "sklearn.__version__\n",
    "\n",
    "# sklearn.neighbors.classification was renamed to sklearn.neighbors._classification in version 0.22.X\n",
    "# Downgrade to scikit-learn version <= 0.21.3 to fix this problem\n",
    "# (https://github.com/ageitgey/face_recognition/issues/1262)\n",
    "\n",
    "# pip install --user --upgrade scikit-learn==0.21.3"
   ]
  },
  {
   "cell_type": "markdown",
   "id": "d44692f7-25c5-4231-b004-44e7bf8b44cb",
   "metadata": {},
   "source": [
    "### **Classifying labels of unseen data**\n",
    "1. Build a model\n",
    "2. Model learns from the labeled data we pass to it (Labeled data = training data)\n",
    "3. pass unlabeled data to the model as input\n",
    "4. Model predicts the labels of the unseen data"
   ]
  },
  {
   "cell_type": "markdown",
   "id": "eb9e0426-30fb-4fec-945b-1a16dd03ffeb",
   "metadata": {},
   "source": [
    "### k-Nearest Neighbors\n",
    "* Predict the label of a data point by\n",
    "  * Looking at the **k** closest labeled data points\n",
    "  * Taking a majority vote"
   ]
  },
  {
   "cell_type": "code",
   "execution_count": 6,
   "id": "fca0cad3-114d-4320-bbd1-c6113e94a25e",
   "metadata": {},
   "outputs": [],
   "source": [
    "# KNN 사용법\n",
    "from sklearn.neighbors import KNeighborsClassifier\n",
    "import numpy as np\n",
    "\n",
    "X = churn_df[['total_day_charge', 'total_eve_charge']].values\n",
    "y = churn_df['churn'].values\n",
    "knn = KNeighborsClassifier(n_neighbors=15)\n",
    "knn.fit(X, y)\n",
    "\n",
    "X_new = np.array([[56.8, 17.5],\n",
    "                 [24.4,24.1],\n",
    "                 [50.1, 10.9]])\n",
    "print(X_new.shape)\n",
    "\n",
    "predictions = knn.predict(X_new)\n",
    "print(f'Predictions: {predictions}')"
   ]
  },
  {
   "cell_type": "markdown",
   "id": "c27853fe-e574-4e1b-a6e2-96d6008f4dcb",
   "metadata": {},
   "source": [
    "### Measuring model performance"
   ]
  },
  {
   "cell_type": "markdown",
   "id": "7695f3e5-9d5f-4a3b-9d21-620497f1c1f0",
   "metadata": {},
   "source": [
    "* How do we measure accuracy?\n",
    "* Could compute accuracy on the data used to fit the classifier\n",
    "* Not indicative of ability to generalize\n",
    "* Split data -> Training set / Test set"
   ]
  },
  {
   "cell_type": "code",
   "execution_count": null,
   "id": "88d10326-0a42-47bc-b0fa-356f2357d6a8",
   "metadata": {},
   "outputs": [],
   "source": [
    "# Train/test split\n",
    "from sklearn.medel_selection import train_test_split\n",
    "X = churn_df.drop(\"churn\", axis=1).values\n",
    "y = churn_df[\"churn\"].values\n",
    "\n",
    "X_train, X_test, y_train, y_test = train_test_split(X, y, test_size=0.3, random_state=21, stratify=y)\n",
    "\n",
    "knn = KNeighborsClassifier(n_neighbors=6)\n",
    "knn.fit(X_train, y_train)\n",
    "print(knn.score(X_test, y_test))"
   ]
  },
  {
   "cell_type": "markdown",
   "id": "c91bdc92-6cbd-4ae4-908a-df4fa8cfecf2",
   "metadata": {},
   "source": [
    "* Model Complexity\n",
    "  * Larger k = less complex model = can cause underfitting\n",
    "  * Smaller k = more complex model = can lead to overfitting"
   ]
  },
  {
   "cell_type": "code",
   "execution_count": null,
   "id": "a2ed6fe4-db63-4da9-ac99-37d2e3494a23",
   "metadata": {},
   "outputs": [],
   "source": [
    "# Model complexity and over/underfitting\n",
    "import matplotlib.pyplot as plt\n",
    "\n",
    "train_accuracies = {}\n",
    "test_accuracies = {}\n",
    "neighbors = np.arange(1, 26)\n",
    "\n",
    "for neighbor in neighbors:\n",
    "    knn = KNeighborsClassifier(n_neighbors=neighbor)\n",
    "    knn.fit(X_train, y_train)\n",
    "    train_accuracies[neighbor] = knn.score(X_train, y_train)\n",
    "    test_accuracies[neighbor] = knn.score(X_test, y_test)\n",
    "    \n",
    "print(neighbors, '\\n', train_accuracies, '\\n', test_accuracies)\n",
    "    \n",
    "plt.figure(figsize=(8, 6))\n",
    "plt.title(\"KNN: Varying Number of Neighbors\")\n",
    "plt.plot(neighbors, train_accuracies.values(), label=\"Training Accuracy\")\n",
    "plt.plot(neighbors, test_accuracies.values(), label=\"Testing Accuracy\")\n",
    "plt.xlabel(\"Number of Neighbors\")\n",
    "plt.ylabel(\"Accuracy\")"
   ]
  },
  {
   "cell_type": "markdown",
   "id": "e414d277-17d2-40af-bbd6-b2e493a3cc5f",
   "metadata": {},
   "source": [
    "## (2) Regression"
   ]
  },
  {
   "cell_type": "markdown",
   "id": "fb1110b4-1ad0-4e79-b303-224e18b6a96b",
   "metadata": {},
   "source": [
    "### Introduction to regression"
   ]
  },
  {
   "cell_type": "code",
   "execution_count": null,
   "id": "c6b578ea-3978-492c-907d-32ffea3c8d3d",
   "metadata": {},
   "outputs": [],
   "source": [
    "# Creating features\n",
    "\n",
    "import numpy as np\n",
    "\n",
    "# Create X from the radio column's values\n",
    "X = sales_df['radio'].values\n",
    "\n",
    "# Create y from the sales column's values\n",
    "y = sales_df['sales'].values\n",
    "\n",
    "# Reshape X\n",
    "X = X.reshape(-1, 1)\n",
    "\n",
    "# Check the shape of the features and targets\n",
    "print(X.shape, y.shape)"
   ]
  },
  {
   "cell_type": "code",
   "execution_count": null,
   "id": "bf69ef7e-d6cc-4c71-87cd-e510b52aac65",
   "metadata": {},
   "outputs": [],
   "source": [
    "# Building a linear regression model\n",
    "\n",
    "# Import LinearRegression\n",
    "from sklearn.linear_model import LinearRegression\n",
    "\n",
    "# Create the model\n",
    "reg = LinearRegression()\n",
    "\n",
    "# Fit the model to the data\n",
    "reg.fit(X, y)\n",
    "\n",
    "# Make predictions\n",
    "predictions = reg.predict(X)\n",
    "\n",
    "print(predictions[:5])"
   ]
  },
  {
   "cell_type": "code",
   "execution_count": null,
   "id": "8b52700b-b5c8-443b-9df4-beaaf1365d46",
   "metadata": {},
   "outputs": [],
   "source": [
    "# Visualizing a linear regression model\n",
    "\n",
    "# Import matplotlib.pyplot\n",
    "import matplotlib.pyplot as plt\n",
    "\n",
    "# Create scatter plot\n",
    "plt.scatter(X, y, color=\"blue\")\n",
    "\n",
    "# Create line plot\n",
    "plt.plot(X, predictions, color=\"red\")\n",
    "plt.xlabel(\"Radio Expenditure ($)\")\n",
    "plt.ylabel(\"Sales ($)\")\n",
    "\n",
    "# Display the plot\n",
    "plt.show()"
   ]
  },
  {
   "cell_type": "code",
   "execution_count": null,
   "id": "620794c9-3dca-4068-817f-f24ee3b9d7ef",
   "metadata": {},
   "outputs": [],
   "source": [
    "# Fit and predict for regression\n",
    "# Create X and y arrays\n",
    "X = sales_df.drop(\"sales\", axis=1).values\n",
    "y = sales_df[\"sales\"].values\n",
    "\n",
    "X_train, X_test, y_train, y_test = train_test_split(X, y, test_size=0.3, random_state=42)\n",
    "\n",
    "# Instantiate the model\n",
    "reg = LinearRegression()\n",
    "\n",
    "# Fit the model to the data\n",
    "reg.fit(X_train, y_train)\n",
    "\n",
    "# Make predictions\n",
    "y_pred = reg.predict(X_test)\n",
    "print(\"Predictions: {}, Actual Values: {}\".format(y_pred[:2], y_test[:2]))"
   ]
  },
  {
   "cell_type": "code",
   "execution_count": null,
   "id": "670d70e4-0998-44ea-93e8-5b8c38c2ae59",
   "metadata": {},
   "outputs": [],
   "source": [
    "# Regression preformance\n",
    "# Import mean_squared_error\n",
    "from sklearn.metrics import mean_squared_error\n",
    "\n",
    "# Compute R-squared\n",
    "r_squared = reg.score(X_test, y_test)\n",
    "\n",
    "# Compute RMSE\n",
    "rmse = mean_squared_error(y_test, y_pred, squared=False)\n",
    "\n",
    "# Print the metrics\n",
    "print(\"R^2: {}\".format(r_squared))\n",
    "print(\"RMSE: {}\".format(rmse))"
   ]
  },
  {
   "cell_type": "markdown",
   "id": "7c02d03e-4e11-4fd9-a6e2-5cee01899b90",
   "metadata": {},
   "source": [
    "### Cross-validation"
   ]
  },
  {
   "cell_type": "code",
   "execution_count": null,
   "id": "93c3fcc3-4021-483f-ad15-e826ac937f29",
   "metadata": {},
   "outputs": [],
   "source": [
    "# Cross-validation for R-squared\n",
    "\n",
    "# Import the necessary modules\n",
    "from sklearn.model_selection import cross_val_score, KFold\n",
    "\n",
    "# Create a KFold object\n",
    "kf = KFold(n_splits=6, shuffle=True, random_state=5)\n",
    "\n",
    "reg = LinearRegression()\n",
    "\n",
    "# Compute 6-fold cross-validation scores\n",
    "cv_scores = cross_val_score(reg, X, y, cv=kf)\n",
    "\n",
    "# Print scores\n",
    "print(cv_scores)"
   ]
  },
  {
   "cell_type": "code",
   "execution_count": null,
   "id": "c2d7e7c4-7acb-4832-9135-72ef850753f0",
   "metadata": {},
   "outputs": [],
   "source": [
    "# Analyzing cross-validation metrics\n",
    "\n",
    "# Print the mean\n",
    "print(np.mean(cv_results))\n",
    "\n",
    "# Print the standard deviation\n",
    "print(np.std(cv_results))\n",
    "\n",
    "# Print the 95% confidence interval\n",
    "print(np.quantile(cv_results, [0.025, 0.975]))"
   ]
  },
  {
   "cell_type": "markdown",
   "id": "6818208a-865d-40b1-9092-f98109387330",
   "metadata": {},
   "source": [
    "### Regularized regression"
   ]
  },
  {
   "cell_type": "markdown",
   "id": "b1dcf45a-2bd7-4da3-a84c-7ce21d02d922",
   "metadata": {},
   "source": [
    "* Ridge\n",
    "  * Ridge regression performs regularization by computing the squared values of the model parameters multiplied by alpha and adding them to the loss function."
   ]
  },
  {
   "cell_type": "code",
   "execution_count": null,
   "id": "59c9ac6d-032e-4daf-a55b-4ddc769396c2",
   "metadata": {},
   "outputs": [],
   "source": [
    "# Regularized regression: Ridge\n",
    "\n",
    "# Import Ridge\n",
    "from sklearn.linear_model import Ridge\n",
    "alphas = [0.1, 1.0, 10.0, 100.0, 1000.0, 10000.0]\n",
    "ridge_scores = []\n",
    "for alpha in alphas:\n",
    "  \n",
    "  # Create a Ridge regression model\n",
    "    ridge = Ridge(alpha=alpha)\n",
    "  \n",
    "  # Fit the data\n",
    "    ridge.fit(X_train, y_train)\n",
    "  \n",
    "  # Obtain R-squared\n",
    "    score = ridge.score(X_test, y_test)\n",
    "    ridge_scores.append(score)\n",
    "print(ridge_scores)"
   ]
  },
  {
   "cell_type": "markdown",
   "id": "4681d989-36ec-453c-937e-625a61ee673b",
   "metadata": {},
   "source": [
    "* Lasso\n",
    "  * Lasso can select important features of a dataset (because shrinks the coefficients of less important features to zero)"
   ]
  },
  {
   "cell_type": "code",
   "execution_count": null,
   "id": "802db786-d90d-4800-a2fb-14fc09fbea8b",
   "metadata": {},
   "outputs": [],
   "source": [
    "# Lasso regression for feature importance\n",
    "\n",
    "# Import Lasso\n",
    "from sklearn.linear_model import Lasso\n",
    "\n",
    "# Instantiate a lasso regression model\n",
    "lasso = Lasso(alpha=0.3)\n",
    "\n",
    "# Fit the model to the data\n",
    "lasso.fit(X, y)\n",
    "\n",
    "# Compute and print the coefficients\n",
    "lasso_coef = lasso.fit(X, y).coef_\n",
    "print(lasso_coef)\n",
    "plt.bar(sales_columns, lasso_coef)\n",
    "plt.xticks(rotation=45)\n",
    "plt.show()"
   ]
  },
  {
   "cell_type": "code",
   "execution_count": null,
   "id": "abd90732-2bb3-42b2-a32e-67cd94755fc5",
   "metadata": {},
   "outputs": [],
   "source": []
  },
  {
   "cell_type": "markdown",
   "id": "9d92791b-e8cc-4634-b78a-7ac30d18df09",
   "metadata": {},
   "source": [
    "## (3) Fine-Tuing Your Model"
   ]
  },
  {
   "cell_type": "code",
   "execution_count": null,
   "id": "c0f75148-cb8e-4e9d-bc35-be4374b8a772",
   "metadata": {},
   "outputs": [],
   "source": []
  },
  {
   "cell_type": "code",
   "execution_count": null,
   "id": "65fc7b8e-8e70-43f9-9bbb-04fe9efe8112",
   "metadata": {},
   "outputs": [],
   "source": []
  }
 ],
 "metadata": {
  "kernelspec": {
   "display_name": "Python 3 (ipykernel)",
   "language": "python",
   "name": "python3"
  },
  "language_info": {
   "codemirror_mode": {
    "name": "ipython",
    "version": 3
   },
   "file_extension": ".py",
   "mimetype": "text/x-python",
   "name": "python",
   "nbconvert_exporter": "python",
   "pygments_lexer": "ipython3",
   "version": "3.7.11"
  }
 },
 "nbformat": 4,
 "nbformat_minor": 5
}
